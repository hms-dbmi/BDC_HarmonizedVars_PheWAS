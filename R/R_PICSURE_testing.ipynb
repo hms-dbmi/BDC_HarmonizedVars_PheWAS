{
 "cells": [
  {
   "cell_type": "markdown",
   "metadata": {},
   "source": [
    "# PICSURE API test notebook"
   ]
  },
  {
   "cell_type": "markdown",
   "metadata": {},
   "source": [
    "Notebook aimed at testing ongoing issues with the PIC-SURE API. Two parts, 1. Environment set-up, and 2. Ongoing issues"
   ]
  },
  {
   "cell_type": "markdown",
   "metadata": {},
   "source": [
    "# Environment set-up"
   ]
  },
  {
   "cell_type": "markdown",
   "metadata": {},
   "source": [
    "### Installation of external dependencies"
   ]
  },
  {
   "cell_type": "code",
   "execution_count": 1,
   "metadata": {},
   "outputs": [
    {
     "name": "stderr",
     "output_type": "stream",
     "text": [
      "\n",
      "Attaching package: ‘dplyr’\n",
      "\n",
      "\n",
      "The following objects are masked from ‘package:plyr’:\n",
      "\n",
      "    arrange, count, desc, failwith, id, mutate, rename, summarise,\n",
      "    summarize\n",
      "\n",
      "\n",
      "The following objects are masked from ‘package:stats’:\n",
      "\n",
      "    filter, lag\n",
      "\n",
      "\n",
      "The following objects are masked from ‘package:base’:\n",
      "\n",
      "    intersect, setdiff, setequal, union\n",
      "\n",
      "\n",
      "\n",
      "Attaching package: ‘purrr’\n",
      "\n",
      "\n",
      "The following object is masked from ‘package:plyr’:\n",
      "\n",
      "    compact\n",
      "\n",
      "\n",
      "The following object is masked from ‘package:jsonlite’:\n",
      "\n",
      "    flatten\n",
      "\n",
      "\n",
      "Loading required package: usethis\n",
      "\n"
     ]
    }
   ],
   "source": [
    "list_packages <- c(\"jsonlite\", \n",
    "                   \"ggplot2\",\n",
    "                   \"plyr\",\n",
    "                   \"dplyr\",\n",
    "                   \"tidyr\",\n",
    "                   \"purrr\",\n",
    "                   \"stringr\",\n",
    "                   \"ggrepel\",\n",
    "                   \"devtools\")\n",
    "\n",
    "for (package in list_packages){\n",
    "     if(! package %in% installed.packages()){\n",
    "         install.packages(package, dependencies = TRUE, \n",
    "                         character.only = TRUE)\n",
    "     }\n",
    "     library(package, character.only = TRUE)\n",
    "}"
   ]
  },
  {
   "cell_type": "markdown",
   "metadata": {},
   "source": [
    "#### Installing latest R PIC-SURE API libraries from github"
   ]
  },
  {
   "cell_type": "code",
   "execution_count": 2,
   "metadata": {},
   "outputs": [
    {
     "name": "stderr",
     "output_type": "stream",
     "text": [
      "Downloading GitHub repo hms-dbmi/pic-sure-r-client@master\n",
      "\n"
     ]
    },
    {
     "name": "stdout",
     "output_type": "stream",
     "text": [
      "\n",
      "\u001b[32m✔\u001b[39m  \u001b[38;5;247mchecking for file ‘/private/var/folders/hm/wn0bpy0j7vl2q9gqnhhccpph0000gn/T/RtmpkDGf1o/remotes4f721108b04a/hms-dbmi-pic-sure-r-client-d62fec5/DESCRIPTION’\u001b[39m\u001b[36m\u001b[39m\n",
      "\u001b[38;5;247m─\u001b[39m\u001b[38;5;247m  \u001b[39m\u001b[38;5;247mpreparing ‘picsure’:\u001b[39m\u001b[36m\u001b[39m\n",
      "\u001b[32m✔\u001b[39m  \u001b[38;5;247mchecking DESCRIPTION meta-information\u001b[39m\u001b[36m\u001b[39m\n",
      "\u001b[38;5;247m─\u001b[39m\u001b[38;5;247m  \u001b[39m\u001b[38;5;247mchecking for LF line-endings in source and make files and shell scripts\u001b[39m\u001b[36m\u001b[39m\n",
      "\u001b[38;5;247m─\u001b[39m\u001b[38;5;247m  \u001b[39m\u001b[38;5;247mchecking for empty or unneeded directories\u001b[39m\u001b[36m\u001b[39m\n",
      "\u001b[38;5;247m─\u001b[39m\u001b[38;5;247m  \u001b[39m\u001b[38;5;247mbuilding ‘picsure_0.1.0.tar.gz’\u001b[39m\u001b[36m\u001b[39m\n",
      "   \n",
      "\r"
     ]
    },
    {
     "name": "stderr",
     "output_type": "stream",
     "text": [
      "Downloading GitHub repo hms-dbmi/pic-sure-r-adapter-hpds@master\n",
      "\n"
     ]
    },
    {
     "name": "stdout",
     "output_type": "stream",
     "text": [
      "\n",
      "\u001b[32m✔\u001b[39m  \u001b[38;5;247mchecking for file ‘/private/var/folders/hm/wn0bpy0j7vl2q9gqnhhccpph0000gn/T/RtmpkDGf1o/remotes4f722c663699/hms-dbmi-pic-sure-r-adapter-hpds-3279fc3/DESCRIPTION’\u001b[39m\u001b[36m\u001b[39m\n",
      "\u001b[38;5;247m─\u001b[39m\u001b[38;5;247m  \u001b[39m\u001b[38;5;247mpreparing ‘hpds’:\u001b[39m\u001b[36m\u001b[39m\n",
      "\u001b[32m✔\u001b[39m  \u001b[38;5;247mchecking DESCRIPTION meta-information\u001b[39m\u001b[36m\u001b[39m\n",
      "\u001b[38;5;247m─\u001b[39m\u001b[38;5;247m  \u001b[39m\u001b[38;5;247mchecking for LF line-endings in source and make files and shell scripts\u001b[39m\u001b[36m\u001b[39m\n",
      "\u001b[38;5;247m─\u001b[39m\u001b[38;5;247m  \u001b[39m\u001b[38;5;247mchecking for empty or unneeded directories\u001b[39m\u001b[36m\u001b[39m\n",
      "\u001b[38;5;247m─\u001b[39m\u001b[38;5;247m  \u001b[39m\u001b[38;5;247mbuilding ‘hpds_0.1.0.tar.gz’\u001b[39m\u001b[36m\u001b[39m\n",
      "   \n",
      "\r"
     ]
    }
   ],
   "source": [
    "devtools::install_github(\"hms-dbmi/pic-sure-r-client\", force=T)\n",
    "devtools::install_github(\"hms-dbmi/pic-sure-r-adapter-hpds\", force=T)"
   ]
  },
  {
   "cell_type": "markdown",
   "metadata": {},
   "source": [
    "### Connecting to a PIC-SURE network"
   ]
  },
  {
   "cell_type": "markdown",
   "metadata": {},
   "source": [
    "Testing environment: BioData Catalyst "
   ]
  },
  {
   "cell_type": "code",
   "execution_count": 3,
   "metadata": {},
   "outputs": [],
   "source": [
    "PICSURE_network_URL <- \"https://biodatacatalyst.integration.hms.harvard.edu/picsure\"\n",
    "resource_id <- \"02e23f52-f354-4e8b-992c-d37c8b9ba140\"\n",
    "token_file <- \"token.txt\""
   ]
  },
  {
   "cell_type": "code",
   "execution_count": 4,
   "metadata": {},
   "outputs": [],
   "source": [
    "token <- scan(token_file, what = \"character\")"
   ]
  },
  {
   "cell_type": "code",
   "execution_count": 5,
   "metadata": {},
   "outputs": [],
   "source": [
    "myconnection <- picsure::connect(url = PICSURE_network_URL,\n",
    "                                 token = token)"
   ]
  },
  {
   "cell_type": "code",
   "execution_count": 6,
   "metadata": {},
   "outputs": [],
   "source": [
    "resource <- hpds::get.resource(myconnection,\n",
    "                               resourceUUID = resource_id)"
   ]
  },
  {
   "cell_type": "markdown",
   "metadata": {},
   "source": [
    "### Retrieving variables dictionary from HPDS Database"
   ]
  },
  {
   "cell_type": "markdown",
   "metadata": {},
   "source": [
    "NB: dictionary methods work alright, it just might be useful for getting variable names"
   ]
  },
  {
   "cell_type": "code",
   "execution_count": 7,
   "metadata": {},
   "outputs": [],
   "source": [
    "random_variable_name <- \"\\\\NHLBI TOPMed: Rare Variants for Hypertension in Taiwan Chinese (THRV)\\\\Laboratory Measurements\\\\Blood and Urine Measurements\\\\Insulin\\\\\""
   ]
  },
  {
   "cell_type": "code",
   "execution_count": 8,
   "metadata": {},
   "outputs": [
    {
     "data": {
      "text/html": [
       "'\\\\NHLBI TOPMed: Rare Variants for Hypertension in Taiwan Chinese (THRV)\\\\Laboratory Measurements\\\\Blood and Urine Measurements\\\\Insulin\\\\'"
      ],
      "text/latex": [
       "'\\textbackslash{}\\textbackslash{}NHLBI TOPMed: Rare Variants for Hypertension in Taiwan Chinese (THRV)\\textbackslash{}\\textbackslash{}Laboratory Measurements\\textbackslash{}\\textbackslash{}Blood and Urine Measurements\\textbackslash{}\\textbackslash{}Insulin\\textbackslash{}\\textbackslash{}'"
      ],
      "text/markdown": [
       "'\\\\NHLBI TOPMed: Rare Variants for Hypertension in Taiwan Chinese (THRV)\\\\Laboratory Measurements\\\\Blood and Urine Measurements\\\\Insulin\\\\'"
      ],
      "text/plain": [
       "[1] \"\\\\NHLBI TOPMed: Rare Variants for Hypertension in Taiwan Chinese (THRV)\\\\Laboratory Measurements\\\\Blood and Urine Measurements\\\\Insulin\\\\\""
      ]
     },
     "metadata": {},
     "output_type": "display_data"
    }
   ],
   "source": [
    "random_variable_name"
   ]
  },
  {
   "cell_type": "markdown",
   "metadata": {},
   "source": [
    "# Errors reproduction"
   ]
  },
  {
   "cell_type": "markdown",
   "metadata": {},
   "source": [
    "## Issue 1: query.anyof.add() → HTTP Error "
   ]
  },
  {
   "cell_type": "markdown",
   "metadata": {},
   "source": [
    "query method `anyof` is throwing HTTP Error, although other query methods work fine (`select`, `add`, `filter`)"
   ]
  },
  {
   "cell_type": "code",
   "execution_count": 14,
   "metadata": {},
   "outputs": [
    {
     "name": "stdout",
     "output_type": "stream",
     "text": [
      "[1] \"\\\\NHLBI TOPMed: Rare Variants for Hypertension in Taiwan Chinese (THRV)\\\\Laboratory Measurements\\\\Blood and Urine Measurements\\\\Insulin\\\\\"\n"
     ]
    }
   ],
   "source": [
    "print(random_variable_name)"
   ]
  },
  {
   "cell_type": "code",
   "execution_count": 15,
   "metadata": {},
   "outputs": [],
   "source": [
    "my_query = hpds::new.query(resource = resource)\n",
    "hpds::query.anyof.add(query = my_query, \n",
    "                      keys = random_variable_name)\n",
    "facts = hpds::query.run(query = my_query, result.type = \"dataframe\")"
   ]
  },
  {
   "cell_type": "code",
   "execution_count": 16,
   "metadata": {},
   "outputs": [
    {
     "data": {
      "text/html": [
       "<ol class=list-inline>\n",
       "\t<li>1449</li>\n",
       "\t<li>1</li>\n",
       "</ol>\n"
      ],
      "text/latex": [
       "\\begin{enumerate*}\n",
       "\\item 1449\n",
       "\\item 1\n",
       "\\end{enumerate*}\n"
      ],
      "text/markdown": [
       "1. 1449\n",
       "2. 1\n",
       "\n",
       "\n"
      ],
      "text/plain": [
       "[1] 1449    1"
      ]
     },
     "metadata": {},
     "output_type": "display_data"
    }
   ],
   "source": [
    "dim(facts)"
   ]
  },
  {
   "cell_type": "code",
   "execution_count": 17,
   "metadata": {
    "collapsed": true,
    "jupyter": {
     "outputs_hidden": true
    }
   },
   "outputs": [
    {
     "data": {
      "text/html": [
       "<table>\n",
       "<caption>A data.frame: 6 × 1</caption>\n",
       "<thead>\n",
       "\t<tr><th scope=col>Patient.ID</th></tr>\n",
       "\t<tr><th scope=col>&lt;int&gt;</th></tr>\n",
       "</thead>\n",
       "<tbody>\n",
       "\t<tr><td>425677</td></tr>\n",
       "\t<tr><td>425678</td></tr>\n",
       "\t<tr><td>425679</td></tr>\n",
       "\t<tr><td>425680</td></tr>\n",
       "\t<tr><td>425681</td></tr>\n",
       "\t<tr><td>425682</td></tr>\n",
       "</tbody>\n",
       "</table>\n"
      ],
      "text/latex": [
       "A data.frame: 6 × 1\n",
       "\\begin{tabular}{r|l}\n",
       " Patient.ID\\\\\n",
       " <int>\\\\\n",
       "\\hline\n",
       "\t 425677\\\\\n",
       "\t 425678\\\\\n",
       "\t 425679\\\\\n",
       "\t 425680\\\\\n",
       "\t 425681\\\\\n",
       "\t 425682\\\\\n",
       "\\end{tabular}\n"
      ],
      "text/markdown": [
       "\n",
       "A data.frame: 6 × 1\n",
       "\n",
       "| Patient.ID &lt;int&gt; |\n",
       "|---|\n",
       "| 425677 |\n",
       "| 425678 |\n",
       "| 425679 |\n",
       "| 425680 |\n",
       "| 425681 |\n",
       "| 425682 |\n",
       "\n"
      ],
      "text/plain": [
       "  Patient.ID\n",
       "1 425677    \n",
       "2 425678    \n",
       "3 425679    \n",
       "4 425680    \n",
       "5 425681    \n",
       "6 425682    "
      ]
     },
     "metadata": {},
     "output_type": "display_data"
    }
   ],
   "source": [
    "head(facts)"
   ]
  },
  {
   "cell_type": "code",
   "execution_count": 18,
   "metadata": {},
   "outputs": [
    {
     "name": "stdout",
     "output_type": "stream",
     "text": [
      "{\n",
      "    \"query\": {\n",
      "        \"fields\": [\n",
      "\n",
      "        ],\n",
      "        \"crossCountFields\": [\n",
      "\n",
      "        ],\n",
      "        \"requiredFields\": [\n",
      "\n",
      "        ],\n",
      "        \"anyRecordOf\": [\n",
      "            \"\\\\NHLBI TOPMed: Rare Variants for Hypertension in Taiwan Chinese (THRV)\\\\Laboratory Measurements\\\\Blood and Urine Measurements\\\\Insulin\\\\\"\n",
      "        ],\n",
      "        \"numericFilters\": {\n",
      "\n",
      "        },\n",
      "        \"categoryFilters\": {\n",
      "\n",
      "        },\n",
      "        \"variantInfoFilters\": [\n",
      "\n",
      "        ],\n",
      "        \"expectedResultType\": \"DATAFRAME\"\n",
      "    },\n",
      "    \"resourceUUID\": \"02e23f52-f354-4e8b-992c-d37c8b9ba140\"\n",
      "}\n",
      " \n"
     ]
    },
    {
     "data": {
      "text/plain": [
       "NULL"
      ]
     },
     "metadata": {},
     "output_type": "display_data"
    }
   ],
   "source": [
    "hpds::query.show(my_query)"
   ]
  },
  {
   "cell_type": "markdown",
   "metadata": {},
   "source": [
    "## Issue 2: Retrieving variables dictionary from HPDS Database doesn't work when no string is specified"
   ]
  },
  {
   "cell_type": "code",
   "execution_count": null,
   "metadata": {},
   "outputs": [],
   "source": [
    "plain_variablesDict <- hpds::find.in.dictionary(resource, \"\")"
   ]
  },
  {
   "cell_type": "code",
   "execution_count": null,
   "metadata": {},
   "outputs": [],
   "source": [
    "plain_variablesDict <- hpds::find.in.dictionary(resource, \"NHLBI TOPMed\")"
   ]
  },
  {
   "cell_type": "code",
   "execution_count": null,
   "metadata": {},
   "outputs": [],
   "source": [
    "plain_variablesDict"
   ]
  },
  {
   "cell_type": "markdown",
   "metadata": {},
   "source": [
    "### Issue 3: Retrieving the whole dictionary from HPDS database takes forever"
   ]
  },
  {
   "cell_type": "markdown",
   "metadata": {},
   "source": [
    "As compared to python, check R implementation"
   ]
  },
  {
   "cell_type": "markdown",
   "metadata": {},
   "source": [
    "# Issue 4: Variable names in returned DataFrame are not the same as the ones from the dictionary"
   ]
  },
  {
   "cell_type": "markdown",
   "metadata": {},
   "source": [
    "# Issue 5: Error returned by query.getResultDataFrame() when using invalid token is misleading"
   ]
  },
  {
   "cell_type": "markdown",
   "metadata": {},
   "source": [
    "States that variable doesn't exist in resource, instead of saying that token is invalid."
   ]
  },
  {
   "cell_type": "code",
   "execution_count": null,
   "metadata": {},
   "outputs": [],
   "source": [
    "hpds::query.select.add(query = my_query, \n",
    "                      keys = consent_dic[[\"name\"]])"
   ]
  },
  {
   "cell_type": "markdown",
   "metadata": {},
   "source": [
    "# Issue 6: Filter on a categorical variable cannot accept a vector as an argument, but only a list"
   ]
  },
  {
   "cell_type": "markdown",
   "metadata": {},
   "source": [
    "- Actually other methods doesn't accept vectors but list, but only try a conversion and raise a warning without consequences\n",
    "- Vector and list are often used indifferently in R. Just need to add a line to convert a vector to a list.  my_vector %>% list()\n",
    "- And filter yet doesn't return a specific error, but is misleading instead"
   ]
  },
  {
   "cell_type": "markdown",
   "metadata": {},
   "source": [
    "## Issue 7: Query shouldn't be modified in place, but rather use assignment operator"
   ]
  },
  {
   "cell_type": "code",
   "execution_count": 1,
   "metadata": {
    "collapsed": true,
    "jupyter": {
     "outputs_hidden": true
    }
   },
   "outputs": [
    {
     "ename": "ERROR",
     "evalue": "Error in hpds::query.filter.add(query = my_query, keys = consent_dic[[\"name\"]], : objet 'my_query' introuvable\n",
     "output_type": "error",
     "traceback": [
      "Error in hpds::query.filter.add(query = my_query, keys = consent_dic[[\"name\"]], : objet 'my_query' introuvable\nTraceback:\n",
      "1. hpds::query.filter.add(query = my_query, keys = consent_dic[[\"name\"]], \n .     phs_copdgene)"
     ]
    }
   ],
   "source": [
    "# BAD, current implementation\n",
    "hpds::query.filter.add(query = my_query, \n",
    "                      keys = consent_dic[[\"name\"]], \n",
    "                      phs_copdgene)\n",
    "# usual R implementation \n",
    "my_query <- hpds::query.filter.add(query = my_query, \n",
    "                      keys = consent_dic[[\"name\"]], \n",
    "                      phs_copdgene)"
   ]
  },
  {
   "cell_type": "markdown",
   "metadata": {
    "jupyter": {
     "outputs_hidden": true
    }
   },
   "source": [
    "## Removing\n",
    "- query.delete functions, not useful\n",
    "- maybe:\n",
    "    - dictionary.get.entries\n",
    "    - get.crosscount\n"
   ]
  },
  {
   "cell_type": "markdown",
   "metadata": {},
   "source": [
    "# Implementing a way to specify the query using OR instead of AND"
   ]
  },
  {
   "cell_type": "markdown",
   "metadata": {},
   "source": [
    "For instance, one couldwant variables that do meet one specific query.filter() conditions, OR one other specfic query.filter() conditions. But might be hard to implement though, and not 100% sure that one need that actually."
   ]
  }
 ],
 "metadata": {
  "kernelspec": {
   "display_name": "R",
   "language": "R",
   "name": "ir"
  },
  "language_info": {
   "codemirror_mode": "r",
   "file_extension": ".r",
   "mimetype": "text/x-r-source",
   "name": "R",
   "pygments_lexer": "r",
   "version": "3.6.1"
  }
 },
 "nbformat": 4,
 "nbformat_minor": 4
}
