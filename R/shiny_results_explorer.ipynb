{
 "cells": [
  {
   "cell_type": "code",
   "execution_count": null,
   "metadata": {
    "jupyter": {
     "outputs_hidden": true
    }
   },
   "outputs": [],
   "source": [
    "# Install/load packages\n",
    "paket <- function(pak){\n",
    "  not_installed <- pak[!(pak %in% rownames(installed.packages()))]\n",
    "  if (length(not_installed))\n",
    "    install.packages(not_installed, dependencies = TRUE,repos='http://cran.us.r-project.org')\n",
    "  sapply(pak, library, character.only = TRUE)\n",
    "}\n",
    "install = c(\"shiny\", \"shinydashboard\", \"shinyWidgets\", \"esquisse\", \"dplyr\", \"DT\", \"stringr\", \"tidyr\")\n",
    "paket(install)"
   ]
  },
  {
   "cell_type": "code",
   "execution_count": null,
   "metadata": {},
   "outputs": [],
   "source": [
    "whole_data <- data.table::fread(file = \"../python/results/results_formated.csv\",\n",
    "                                sep=\",\",\n",
    "                                header = TRUE,\n",
    "                                na.strings = c(\"NA\", \"\"))\n",
    "whole_data <- whole_data[!is.na(whole_data[[\"pvalue\"]])]\n",
    "whole_data[[\"names_wout_backslashes\"]] <- whole_data[[\"Independent Variable Complete Name\"]]\n",
    "study_names <- whole_data[[\"BDC study\"]] %>% unique()\n",
    "not_all_na <- function(x) {!all(is.na(x))}"
   ]
  },
  {
   "cell_type": "code",
   "execution_count": null,
   "metadata": {},
   "outputs": [],
   "source": [
    "# Launching the ShinyApp\n",
    "\n",
    "source(\"app.R\")\n",
    "\n",
    "browseURL(\"http://127.0.0.1:4868\")\n",
    "options(shiny.port = 4868)\n",
    "runApp(app, host = getOption(\"shiny.host\", \"127.0.0.1\"))"
   ]
  },
  {
   "cell_type": "code",
   "execution_count": null,
   "metadata": {},
   "outputs": [],
   "source": []
  }
 ],
 "metadata": {
  "kernelspec": {
   "display_name": "R",
   "language": "R",
   "name": "ir"
  },
  "language_info": {
   "codemirror_mode": "r",
   "file_extension": ".r",
   "mimetype": "text/x-r-source",
   "name": "R",
   "pygments_lexer": "r",
   "version": "3.6.3"
  }
 },
 "nbformat": 4,
 "nbformat_minor": 4
}
