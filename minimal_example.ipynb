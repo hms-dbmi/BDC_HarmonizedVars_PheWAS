{
 "cells": [
  {
   "cell_type": "markdown",
   "metadata": {},
   "source": [
    "# PheWAS analysis minimal reproductible example"
   ]
  },
  {
   "cell_type": "markdown",
   "metadata": {},
   "source": [
    "### Installing dependencies"
   ]
  },
  {
   "cell_type": "code",
   "execution_count": null,
   "metadata": {
    "jupyter": {
     "outputs_hidden": true
    }
   },
   "outputs": [],
   "source": [
    "import sys\n",
    "!{sys.executable} -m pip install -r requirements.txt\n",
    "!{sys.executable} -m pip install --upgrade --force-reinstall git+https://github.com/hms-dbmi/pic-sure-python-adapter-hpds.git \n",
    "!{sys.executable} -m pip install --upgrade --force-reinstall git+https://github.com/hms-dbmi/pic-sure-python-client.git"
   ]
  },
  {
   "cell_type": "code",
   "execution_count": null,
   "metadata": {},
   "outputs": [],
   "source": [
    "import json\n",
    "from pprint import pprint\n",
    "\n",
    "import pandas as pd\n",
    "import numpy as np \n",
    "\n",
    "import PicSureHpdsLib\n",
    "import PicSureClient"
   ]
  },
  {
   "cell_type": "markdown",
   "metadata": {},
   "source": [
    "### Connecting to a PIC-SURE resource"
   ]
  },
  {
   "cell_type": "code",
   "execution_count": null,
   "metadata": {},
   "outputs": [],
   "source": [
    "PICSURE_network_URL = \"https://picsure.biodatacatalyst.nhlbi.nih.gov/picsure\"\n",
    "resource_id = \"02e23f52-f354-4e8b-992c-d37c8b9ba140\"\n",
    "token_file = \"token.txt\""
   ]
  },
  {
   "cell_type": "code",
   "execution_count": null,
   "metadata": {},
   "outputs": [],
   "source": [
    "with open(token_file, \"r+\") as f:\n",
    "    token = f.read()"
   ]
  },
  {
   "cell_type": "code",
   "execution_count": null,
   "metadata": {},
   "outputs": [],
   "source": [
    "from python_lib.wrappers import get_HPDS_connection, query_runner\n",
    "from python_lib.descriptive_scripts import quality_filtering, get_study_variables_info"
   ]
  },
  {
   "cell_type": "markdown",
   "metadata": {},
   "source": [
    "The wrapper `get_HPDS_connection` is a wrapper around PICSURE API python client calls to get a resource object, to connect to HPDS (found in `python_lib/wrappers.py`)."
   ]
  },
  {
   "cell_type": "code",
   "execution_count": null,
   "metadata": {},
   "outputs": [],
   "source": [
    "resource = get_HPDS_connection(token,\n",
    "                               PICSURE_network_URL,\n",
    "                               resource_id)"
   ]
  },
  {
   "cell_type": "code",
   "execution_count": null,
   "metadata": {},
   "outputs": [],
   "source": [
    "variablesDict = resource.dictionary().find().DataFrame()"
   ]
  },
  {
   "cell_type": "markdown",
   "metadata": {},
   "source": [
    "The variablesDict is the entry point of the analysis. It is used to get the variables names to query. The idea is to query every variables available in the accessed BDC environement, to run a phewas against one harmonized variable."
   ]
  },
  {
   "cell_type": "markdown",
   "metadata": {},
   "source": [
    "This process is done iteratively with batches of \"phenome\" variables with which statistical tests are computed."
   ]
  },
  {
   "cell_type": "markdown",
   "metadata": {},
   "source": [
    "For the sake of example, let's use the first 50 variable names from the dictionary as phenome variables, and the \"Harmonized Sex\" variable as the response variable (categorical against which multiple statistical univariate tests will be conducted, the critical part of a PheWAS analysis)."
   ]
  },
  {
   "cell_type": "markdown",
   "metadata": {},
   "source": [
    "Using batches of 50 variables, the next described steps are done 911 times."
   ]
  },
  {
   "cell_type": "markdown",
   "metadata": {},
   "source": [
    "### Beginning ot the iterative pipeline"
   ]
  },
  {
   "cell_type": "code",
   "execution_count": null,
   "metadata": {},
   "outputs": [],
   "source": [
    "covariates = variablesDict.index[0:50].tolist()"
   ]
  },
  {
   "cell_type": "raw",
   "metadata": {},
   "source": [
    "# Even though in the dictionary, doesn't work weirdly enough\n",
    "dependent_var_name = \"\\\\DCC Harmonized data set\\\\01 - Demographics\\\\Subject sex as recorded by the study.\\\\\""
   ]
  },
  {
   "cell_type": "code",
   "execution_count": null,
   "metadata": {},
   "outputs": [],
   "source": [
    "dependent_var_name = \"\\\\DCC Harmonized data set\\\\02 - Atherosclerosis\\\\Presence or absence of carotid plaque.\\\\\""
   ]
  },
  {
   "cell_type": "code",
   "execution_count": null,
   "metadata": {},
   "outputs": [],
   "source": [
    "vars_to_query = covariates + [dependent_var_name]"
   ]
  },
  {
   "cell_type": "markdown",
   "metadata": {},
   "source": [
    "`query_runner` is just a wrapper around PICSURE API methods. Variable names can be passed to \"select\", \"any_of\", \"require\", \"filter\"."
   ]
  },
  {
   "cell_type": "code",
   "execution_count": null,
   "metadata": {},
   "outputs": [],
   "source": [
    "study_df = query_runner(resource=resource,\n",
    "             to_select=vars_to_query,\n",
    "             result_type=\"DataFrame\",\n",
    "             low_memory=False, \n",
    "             timeout=500)\n",
    "print(\"Shape of retrieved HPDS dataframe {0}\".format(study_df.shape))        "
   ]
  },
  {
   "cell_type": "markdown",
   "metadata": {},
   "source": [
    "Once the patient-level date have been retrieved, 3 steps: \n",
    "\n",
    "1. Variables quality checking\n",
    "2. Variable description (eg number missing values)\n",
    "3. PheWAS computation"
   ]
  },
  {
   "cell_type": "markdown",
   "metadata": {},
   "source": [
    "Quality checking functions are found in the file `python_lib/descriptive_scripts.py`\n"
   ]
  },
  {
   "cell_type": "markdown",
   "metadata": {},
   "source": [
    "### Variables quality checking and filtering"
   ]
  },
  {
   "cell_type": "code",
   "execution_count": null,
   "metadata": {},
   "outputs": [],
   "source": [
    "filtered_df = quality_filtering(study_df)\n",
    "print(\"shape filtered_df: {0}\".format(filtered_df.shape))"
   ]
  },
  {
   "cell_type": "markdown",
   "metadata": {},
   "source": [
    "## Study information"
   ]
  },
  {
   "cell_type": "code",
   "execution_count": null,
   "metadata": {},
   "outputs": [],
   "source": [
    "variables_info = get_study_variables_info(study_df, filtered_df)"
   ]
  },
  {
   "cell_type": "code",
   "execution_count": null,
   "metadata": {},
   "outputs": [],
   "source": [
    "independent_var_names = [var for var in covariates if var in filtered_df.columns]"
   ]
  },
  {
   "cell_type": "markdown",
   "metadata": {},
   "source": [
    "## PheWAS analysis"
   ]
  },
  {
   "cell_type": "markdown",
   "metadata": {},
   "source": [
    "This piece of code is implemented in a function called `PheWAS` in the script `python_lib/PheWAS_funcs.py`.\n"
   ]
  },
  {
   "cell_type": "code",
   "execution_count": null,
   "metadata": {},
   "outputs": [],
   "source": [
    "from statsmodels.discrete.discrete_model import Logit\n",
    "from scipy.linalg import LinAlgError\n",
    "from statsmodels.tools.sm_exceptions import PerfectSeparationError\n",
    "from tqdm import tqdm\n",
    "    \n",
    "dic_pvalues = {}\n",
    "dic_errors = {}\n",
    "for independent_var_name in tqdm(independent_var_names, position=0, leave=True):\n",
    "    subset_df = filtered_df.loc[:, [dependent_var_name, independent_var_name]]\\\n",
    "              .dropna(how=\"any\")\n",
    "\n",
    "    if subset_df.shape[0] == 0:\n",
    "        dic_pvalues[independent_var_name] = np.NaN\n",
    "        dic_errors[independent_var_name] = \"All NaN\"\n",
    "        continue\n",
    "\n",
    "    if subset_df[independent_var_name].dtype in [\"object\", \"bool\"]:\n",
    "        subset_df = pd.get_dummies(subset_df, \n",
    "                                   columns=[independent_var_name],\n",
    "                                   drop_first=False)\\\n",
    "                      .iloc[:, 0:-1]\n",
    "    y = subset_df[dependent_var_name].astype(\"category\").cat.codes\n",
    "    X = subset_df.drop(dependent_var_name, axis=1)\\\n",
    "                            .assign(intercept = 1)\n",
    "    model = Logit(y, X)\n",
    "    try:\n",
    "        results = model.fit(disp=0)\n",
    "        params = results.params\n",
    "        conf = np.exp(results.conf_int())\n",
    "        conf['Odds Ratio'] = np.exp(params)\n",
    "        conf.columns = ['5%', '95%', 'Odds Ratio']\n",
    "\n",
    "        dic_pvalues[independent_var_name] = (results.llr_pvalue, conf)\n",
    "    except (LinAlgError, PerfectSeparationError) as e:\n",
    "        dic_pvalues[independent_var_name] = np.NaN\n",
    "        dic_errors[independent_var_name] = e"
   ]
  },
  {
   "cell_type": "markdown",
   "metadata": {},
   "source": [
    "Once the OR and pvalues have been retrieved, we can go on we the rest of the analysis, eg correcting pvalus with Bonferonni correction or plotting results with a Manhattan plot.\n",
    "\n",
    "The analysis is simplified and do not deal with more complicated statistical cases like multicategorical response variable, as well as multivariate regression, which will be necessary for the complete PheWAS analysis on TOPMed Studies."
   ]
  }
 ],
 "metadata": {
  "kernelspec": {
   "display_name": "Python 3",
   "language": "python",
   "name": "python3"
  },
  "language_info": {
   "codemirror_mode": {
    "name": "ipython",
    "version": 3
   },
   "file_extension": ".py",
   "mimetype": "text/x-python",
   "name": "python",
   "nbconvert_exporter": "python",
   "pygments_lexer": "ipython3",
   "version": "3.6.4"
  }
 },
 "nbformat": 4,
 "nbformat_minor": 4
}
