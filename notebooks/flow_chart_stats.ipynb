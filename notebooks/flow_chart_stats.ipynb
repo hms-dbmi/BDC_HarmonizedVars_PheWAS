{
 "cells": [
  {
   "cell_type": "code",
   "execution_count": null,
   "metadata": {},
   "outputs": [],
   "source": [
    "import json\n",
    "\n",
    "import pandas as pd\n",
    "\n",
    "from python_lib.querying_hpds import get_HPDS_connection, \\\n",
    "    get_studies_dictionary, \\\n",
    "    get_whole_dic, \\\n",
    "    query_runner"
   ]
  },
  {
   "cell_type": "code",
   "execution_count": null,
   "metadata": {
    "pycharm": {
     "name": "#%%\n"
    }
   },
   "outputs": [],
   "source": [
    "with open(\"../token.txt\", \"r\") as f:\n",
    "    token = f.read()\n",
    "resource = get_HPDS_connection(my_token=token)\n",
    "studies_dictionary = get_studies_dictionary(resource=resource)\n",
    "whole_dictionary = get_whole_dic(resource)"
   ]
  },
  {
   "cell_type": "markdown",
   "metadata": {
    "pycharm": {
     "name": "#%% md\n"
    }
   },
   "source": [
    "Get the total number of variables in studies having at least 1 harmonized variable"
   ]
  },
  {
   "cell_type": "code",
   "execution_count": null,
   "metadata": {
    "pycharm": {
     "name": "#%%\n"
    }
   },
   "outputs": [],
   "source": [
    "subset_dictionary = whole_dictionary.join(\n",
    "    studies_dictionary.loc[lambda df: df[\"harmonized\"] == True, :],\n",
    "    how = \"inner\",\n",
    "    on = \"level_0\")\n",
    "\n",
    "print(\"Number of variables per study that has at least one harmonized variable\")\n",
    "print(subset_dictionary.index.get_level_values(0).value_counts())\n",
    "print(\"\\n\\n\\n\")\n",
    "\n",
    "print(\"Total number of variables in all harmonized studies\")\n",
    "subset_dictionary.shape[0]"
   ]
  },
  {
   "cell_type": "markdown",
   "metadata": {
    "pycharm": {
     "name": "#%% md\n"
    }
   },
   "source": [
    "Count the total number of individuals in studies with harmonized variables\n",
    "\n"
   ]
  },
  {
   "cell_type": "code",
   "execution_count": null,
   "metadata": {
    "pycharm": {
     "name": "#%%\n"
    }
   },
   "outputs": [],
   "source": [
    "dictionary = resource.dictionary().find(\"harmonized\").DataFrame()\n",
    "whole_dictionary.head()"
   ]
  },
  {
   "cell_type": "code",
   "execution_count": null,
   "metadata": {
    "pycharm": {
     "name": "#%%\n"
    }
   },
   "outputs": [],
   "source": [
    "with open(\"../env_variables/list_variables.json\", \"r\") as f:\n",
    "    list_variables = json.load(f)\n",
    "\n",
    "# [k for k in list_variables.keys()]\n",
    "# query_runner(resource, to_anyof=subset)"
   ]
  },
  {
   "cell_type": "code",
   "execution_count": null,
   "metadata": {
    "pycharm": {
     "name": "#%%\n"
    }
   },
   "outputs": [],
   "source": [
    "list_harmonized_variables = pd.read_csv(\"../env_variables/renaming_harmonized_variables.csv\")\\\n",
    "    .loc[lambda df: df[\"renaming_variables\"].notnull(), \"harmonized_complete_name\"]\n",
    "list_harmonized_variables"
   ]
  },
  {
   "cell_type": "markdown",
   "metadata": {},
   "source": [
    "Get the total number of variables in studies crossed with harmonized variables\n",
    "(anyof harmonized X independent variable)\n"
   ]
  },
  {
   "cell_type": "code",
   "execution_count": null,
   "metadata": {
    "pycharm": {
     "name": "#%%\n"
    }
   },
   "outputs": [],
   "source": [
    "df_harmonized = query_runner(resource, to_anyof=list_harmonized_variables)\n",
    "print(df_harmonized.shape[0])\n",
    "print(\"population of subjects with at least one harmonized variable\")"
   ]
  },
  {
   "cell_type": "code",
   "execution_count": null,
   "metadata": {
    "pycharm": {
     "name": "#%%\n"
    }
   },
   "outputs": [],
   "source": []
  }
 ],
 "metadata": {
  "kernelspec": {
   "display_name": "PheWAS",
   "language": "python",
   "name": "phewas"
  },
  "language_info": {
   "codemirror_mode": {
    "name": "ipython",
    "version": 2
   },
   "file_extension": ".py",
   "mimetype": "text/x-python",
   "name": "python",
   "nbconvert_exporter": "python",
   "pygments_lexer": "ipython2",
   "version": "2.7.6"
  }
 },
 "nbformat": 4,
 "nbformat_minor": 0
}
