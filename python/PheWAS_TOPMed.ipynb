{
 "cells": [
  {
   "cell_type": "markdown",
   "metadata": {},
   "source": [
    "# Phenome-Wide analysis on TOPMed studies"
   ]
  },
  {
   "cell_type": "markdown",
   "metadata": {},
   "source": [
    "# Environment set-up"
   ]
  },
  {
   "cell_type": "markdown",
   "metadata": {},
   "source": [
    "### System requirements\n",
    "- Python 3.6 or later\n",
    "- pip & bash interpreter"
   ]
  },
  {
   "cell_type": "markdown",
   "metadata": {},
   "source": [
    "### Installation of external dependencies"
   ]
  },
  {
   "cell_type": "code",
   "execution_count": 167,
   "metadata": {},
   "outputs": [
    {
     "name": "stdout",
     "output_type": "stream",
     "text": [
      "The autoreload extension is already loaded. To reload it, use:\n",
      "  %reload_ext autoreload\n"
     ]
    }
   ],
   "source": [
    "%load_ext autoreload\n",
    "%autoreload 2"
   ]
  },
  {
   "cell_type": "code",
   "execution_count": 169,
   "metadata": {},
   "outputs": [
    {
     "name": "stdout",
     "output_type": "stream",
     "text": [
      "Collecting git+https://github.com/hms-dbmi/pic-sure-python-adapter-hpds.git (from -r requirements.txt (line 7))\n",
      "  Cloning https://github.com/hms-dbmi/pic-sure-python-adapter-hpds.git to /private/var/folders/hm/wn0bpy0j7vl2q9gqnhhccpph0000gn/T/pip-req-build-mii200zg\n",
      "  Running command git clone -q https://github.com/hms-dbmi/pic-sure-python-adapter-hpds.git /private/var/folders/hm/wn0bpy0j7vl2q9gqnhhccpph0000gn/T/pip-req-build-mii200zg\n",
      "Requirement already satisfied (use --upgrade to upgrade): PicSureHpdsLib==0.9.0 from git+https://github.com/hms-dbmi/pic-sure-python-adapter-hpds.git in /Users/Arnaud/miniconda3/lib/python3.7/site-packages (from -r requirements.txt (line 7))\n",
      "Collecting git+https://github.com/hms-dbmi/pic-sure-python-client.git (from -r requirements.txt (line 8))\n",
      "  Cloning https://github.com/hms-dbmi/pic-sure-python-client.git to /private/var/folders/hm/wn0bpy0j7vl2q9gqnhhccpph0000gn/T/pip-req-build-srub6a4p\n",
      "  Running command git clone -q https://github.com/hms-dbmi/pic-sure-python-client.git /private/var/folders/hm/wn0bpy0j7vl2q9gqnhhccpph0000gn/T/pip-req-build-srub6a4p\n",
      "Requirement already satisfied (use --upgrade to upgrade): PicSureClient==0.1.0 from git+https://github.com/hms-dbmi/pic-sure-python-client.git in /Users/Arnaud/miniconda3/lib/python3.7/site-packages (from -r requirements.txt (line 8))\n",
      "Requirement already satisfied: numpy>=1.17.3 in /Users/Arnaud/miniconda3/lib/python3.7/site-packages (from -r requirements.txt (line 1)) (1.17.3)\n",
      "Requirement already satisfied: matplotlib>=3.1.1 in /Users/Arnaud/miniconda3/lib/python3.7/site-packages (from -r requirements.txt (line 2)) (3.1.1)\n",
      "Requirement already satisfied: pandas>=0.25.3 in /Users/Arnaud/miniconda3/lib/python3.7/site-packages (from -r requirements.txt (line 3)) (0.25.3)\n",
      "Requirement already satisfied: scipy>=1.3.1 in /Users/Arnaud/miniconda3/lib/python3.7/site-packages (from -r requirements.txt (line 4)) (1.3.1)\n",
      "Requirement already satisfied: tqdm>=4.38.0 in /Users/Arnaud/miniconda3/lib/python3.7/site-packages (from -r requirements.txt (line 5)) (4.38.0)\n",
      "Requirement already satisfied: statsmodels>=0.10.2 in /Users/Arnaud/miniconda3/lib/python3.7/site-packages (from -r requirements.txt (line 6)) (0.10.2)\n",
      "Requirement already satisfied: httplib2 in /Users/Arnaud/miniconda3/lib/python3.7/site-packages (from PicSureHpdsLib==0.9.0->-r requirements.txt (line 7)) (0.14.0)\n",
      "Requirement already satisfied: cycler>=0.10 in /Users/Arnaud/miniconda3/lib/python3.7/site-packages (from matplotlib>=3.1.1->-r requirements.txt (line 2)) (0.10.0)\n",
      "Requirement already satisfied: kiwisolver>=1.0.1 in /Users/Arnaud/miniconda3/lib/python3.7/site-packages (from matplotlib>=3.1.1->-r requirements.txt (line 2)) (1.1.0)\n",
      "Requirement already satisfied: pyparsing!=2.0.4,!=2.1.2,!=2.1.6,>=2.0.1 in /Users/Arnaud/miniconda3/lib/python3.7/site-packages (from matplotlib>=3.1.1->-r requirements.txt (line 2)) (2.4.5)\n",
      "Requirement already satisfied: python-dateutil>=2.1 in /Users/Arnaud/miniconda3/lib/python3.7/site-packages (from matplotlib>=3.1.1->-r requirements.txt (line 2)) (2.8.1)\n",
      "Requirement already satisfied: pytz>=2017.2 in /Users/Arnaud/miniconda3/lib/python3.7/site-packages (from pandas>=0.25.3->-r requirements.txt (line 3)) (2019.3)\n",
      "Requirement already satisfied: patsy>=0.4.0 in /Users/Arnaud/miniconda3/lib/python3.7/site-packages (from statsmodels>=0.10.2->-r requirements.txt (line 6)) (0.5.1)\n",
      "Requirement already satisfied: six in /Users/Arnaud/miniconda3/lib/python3.7/site-packages (from cycler>=0.10->matplotlib>=3.1.1->-r requirements.txt (line 2)) (1.12.0)\n",
      "Requirement already satisfied: setuptools in /Users/Arnaud/miniconda3/lib/python3.7/site-packages (from kiwisolver>=1.0.1->matplotlib>=3.1.1->-r requirements.txt (line 2)) (41.0.0)\n",
      "Building wheels for collected packages: PicSureHpdsLib, PicSureClient\n",
      "  Building wheel for PicSureHpdsLib (setup.py) ... \u001b[?25ldone\n",
      "\u001b[?25h  Created wheel for PicSureHpdsLib: filename=PicSureHpdsLib-0.9.0-py2.py3-none-any.whl size=17173 sha256=5613d08e3db3e52f31631d9924fe2b4265956eea4bd71a7f48748cf6bcafd1f6\n",
      "  Stored in directory: /private/var/folders/hm/wn0bpy0j7vl2q9gqnhhccpph0000gn/T/pip-ephem-wheel-cache-pup8y1cs/wheels/6c/ac/12/4d142709d83e0bdd96c661e183f2dcbb0e03f90e98e5ac256e\n",
      "  Building wheel for PicSureClient (setup.py) ... \u001b[?25ldone\n",
      "\u001b[?25h  Created wheel for PicSureClient: filename=PicSureClient-0.1.0-py2.py3-none-any.whl size=8578 sha256=8689441fd86874ed4ef56c31d797f2b4e3e8a3c7defac8565d499a8253cee005\n",
      "  Stored in directory: /private/var/folders/hm/wn0bpy0j7vl2q9gqnhhccpph0000gn/T/pip-ephem-wheel-cache-pup8y1cs/wheels/b4/c1/d9/744d4e1c1ba5f0c5d847deba1a7c8f96f47d4b36c610dda114\n",
      "Successfully built PicSureHpdsLib PicSureClient\n"
     ]
    }
   ],
   "source": [
    "!pip install -r requirements.txt"
   ]
  },
  {
   "cell_type": "code",
   "execution_count": 170,
   "metadata": {},
   "outputs": [],
   "source": [
    "import json\n",
    "from pprint import pprint\n",
    "\n",
    "import pandas as pd\n",
    "import numpy as np \n",
    "import matplotlib.pyplot as plt\n",
    "from scipy import stats\n",
    "\n",
    "import PicSureHpdsLib\n",
    "import PicSureClient\n",
    "\n",
    "from python_lib.utils import get_multiIndex_variablesDict, get_dic_renaming_vars, match_dummies_to_varNames, joining_variablesDict_onCol\n",
    "from python_lib.HPDS_connection_manager import tokenManager"
   ]
  },
  {
   "cell_type": "code",
   "execution_count": 171,
   "metadata": {},
   "outputs": [
    {
     "name": "stdout",
     "output_type": "stream",
     "text": [
      "NB: This Jupyter Notebook has been written using PIC-SURE API following versions:\n",
      "- PicSureHpdsLib: 1.1.0\n",
      "- PicSureClient: 0.1.0\n",
      "The PIC-SURE API libraries versions you've been downloading are:\n",
      "- PicSureHpdsLib: 1.1.0\n",
      "- PicSureClient: 0.1.0\n"
     ]
    }
   ],
   "source": [
    "print(\"NB: This Jupyter Notebook has been written using PIC-SURE API following versions:\\n- PicSureHpdsLib: 1.1.0\\n- PicSureClient: 0.1.0\")\n",
    "print(\"The PIC-SURE API libraries versions you've been downloading are:\\n- PicSureHpdsLib: {0}\\n- PicSureClient: {1}\".format(PicSureHpdsLib.__version__, PicSureClient.__version__))"
   ]
  },
  {
   "cell_type": "code",
   "execution_count": 172,
   "metadata": {},
   "outputs": [],
   "source": [
    "# Pandas DataFrame display options\n",
    "pd.set_option(\"max.rows\", 435)\n",
    "\n",
    "# Matplotlib display parameters\n",
    "fig_size = plt.rcParams[\"figure.figsize\"]\n",
    "fig_size[0] = 14\n",
    "fig_size[1] = 8\n",
    "plt.rcParams[\"figure.figsize\"] = fig_size\n",
    "font = {'weight' : 'bold',\n",
    "        'size'   : 12}\n",
    "plt.rc('font', **font)"
   ]
  },
  {
   "cell_type": "markdown",
   "metadata": {},
   "source": [
    "## Connecting to a PIC-SURE network"
   ]
  },
  {
   "cell_type": "code",
   "execution_count": 173,
   "metadata": {},
   "outputs": [],
   "source": [
    "PICSURE_network_URL = \"https://biodatacatalyst.integration.hms.harvard.edu/picsure\"\n",
    "resource_id = \"02e23f52-f354-4e8b-992c-d37c8b9ba140\"\n",
    "token_file = \"token.txt\""
   ]
  },
  {
   "cell_type": "code",
   "execution_count": 174,
   "metadata": {},
   "outputs": [
    {
     "name": "stdout",
     "output_type": "stream",
     "text": [
      "\u001b[32m\n",
      "Security Token Imported Correctly\n"
     ]
    }
   ],
   "source": [
    "token = tokenManager(token_file).get_token()"
   ]
  },
  {
   "cell_type": "code",
   "execution_count": 175,
   "metadata": {},
   "outputs": [],
   "source": [
    "client = PicSureClient.Client()\n",
    "connection = client.connect(PICSURE_network_URL, token, allowSelfSignedSSL=True)\n",
    "adapter = PicSureHpdsLib.Adapter(connection)\n",
    "resource = adapter.useResource(resource_id)"
   ]
  },
  {
   "cell_type": "markdown",
   "metadata": {},
   "source": [
    "### 1. Retrieving variables dictionary from HPDS Database"
   ]
  },
  {
   "cell_type": "code",
   "execution_count": 176,
   "metadata": {},
   "outputs": [],
   "source": [
    "plain_variablesDict = resource.dictionary().find().DataFrame()"
   ]
  },
  {
   "cell_type": "code",
   "execution_count": 177,
   "metadata": {},
   "outputs": [
    {
     "data": {
      "text/html": [
       "<div>\n",
       "<style scoped>\n",
       "    .dataframe tbody tr th:only-of-type {\n",
       "        vertical-align: middle;\n",
       "    }\n",
       "\n",
       "    .dataframe tbody tr th {\n",
       "        vertical-align: top;\n",
       "    }\n",
       "\n",
       "    .dataframe thead th {\n",
       "        text-align: right;\n",
       "    }\n",
       "</style>\n",
       "<table border=\"1\" class=\"dataframe\">\n",
       "  <thead>\n",
       "    <tr style=\"text-align: right;\">\n",
       "      <th></th>\n",
       "      <th>min</th>\n",
       "      <th>categorical</th>\n",
       "      <th>observationCount</th>\n",
       "      <th>patientCount</th>\n",
       "      <th>max</th>\n",
       "      <th>HpdsDataType</th>\n",
       "      <th>categoryValues</th>\n",
       "    </tr>\n",
       "    <tr>\n",
       "      <th>KEY</th>\n",
       "      <th></th>\n",
       "      <th></th>\n",
       "      <th></th>\n",
       "      <th></th>\n",
       "      <th></th>\n",
       "      <th></th>\n",
       "      <th></th>\n",
       "    </tr>\n",
       "  </thead>\n",
       "  <tbody>\n",
       "    <tr>\n",
       "      <th>\\Atherosclerosis Risk in Communities (ARIC) Cohort\\Subject Phenotype\\Cohort Exam\\ECG\\ECG Data\\Exam 3\\Sociodemography and Administration\\Major1: [Complete/Intermittent LBBB, Complete/Intermittent RBBB, Complete/Intermittent RBBB w/ Left A, Nonspecific Intraventricular Block] [ECG data, exam 3]\\</th>\n",
       "      <td>NaN</td>\n",
       "      <td>True</td>\n",
       "      <td>489</td>\n",
       "      <td>489</td>\n",
       "      <td>NaN</td>\n",
       "      <td>phenotypes</td>\n",
       "      <td>[Complete/Intermittent LBBB, Complete/Intermit...</td>\n",
       "    </tr>\n",
       "    <tr>\n",
       "      <th>\\Atherosclerosis Risk in Communities (ARIC) Cohort\\Subject Phenotype\\Cohort Exam\\Retinal\\Retinal Vessel Measurements\\Exam 3\\RIP\\RIPX92 [Retinal Vessel Measurements, exam 3]\\</th>\n",
       "      <td>0.566</td>\n",
       "      <td>False</td>\n",
       "      <td>10351</td>\n",
       "      <td>10351</td>\n",
       "      <td>1.218</td>\n",
       "      <td>phenotypes</td>\n",
       "      <td>None</td>\n",
       "    </tr>\n",
       "  </tbody>\n",
       "</table>\n",
       "</div>"
      ],
      "text/plain": [
       "                                                      min  categorical  \\\n",
       "KEY                                                                      \n",
       "\\Atherosclerosis Risk in Communities (ARIC) Coh...    NaN         True   \n",
       "\\Atherosclerosis Risk in Communities (ARIC) Coh...  0.566        False   \n",
       "\n",
       "                                                    observationCount  \\\n",
       "KEY                                                                    \n",
       "\\Atherosclerosis Risk in Communities (ARIC) Coh...               489   \n",
       "\\Atherosclerosis Risk in Communities (ARIC) Coh...             10351   \n",
       "\n",
       "                                                    patientCount    max  \\\n",
       "KEY                                                                       \n",
       "\\Atherosclerosis Risk in Communities (ARIC) Coh...           489    NaN   \n",
       "\\Atherosclerosis Risk in Communities (ARIC) Coh...         10351  1.218   \n",
       "\n",
       "                                                   HpdsDataType  \\\n",
       "KEY                                                               \n",
       "\\Atherosclerosis Risk in Communities (ARIC) Coh...   phenotypes   \n",
       "\\Atherosclerosis Risk in Communities (ARIC) Coh...   phenotypes   \n",
       "\n",
       "                                                                                       categoryValues  \n",
       "KEY                                                                                                    \n",
       "\\Atherosclerosis Risk in Communities (ARIC) Coh...  [Complete/Intermittent LBBB, Complete/Intermit...  \n",
       "\\Atherosclerosis Risk in Communities (ARIC) Coh...                                               None  "
      ]
     },
     "execution_count": 177,
     "metadata": {},
     "output_type": "execute_result"
    }
   ],
   "source": [
    "plain_variablesDict.iloc[[1,2], :]"
   ]
  },
  {
   "cell_type": "code",
   "execution_count": 10,
   "metadata": {},
   "outputs": [],
   "source": [
    "variablesDict = get_multiIndex_variablesDict(plain_variablesDict)"
   ]
  },
  {
   "cell_type": "raw",
   "metadata": {},
   "source": [
    "variablesDict.iloc[10:20,:]"
   ]
  },
  {
   "cell_type": "markdown",
   "metadata": {},
   "source": [
    "## Names of different studies"
   ]
  },
  {
   "cell_type": "code",
   "execution_count": 11,
   "metadata": {},
   "outputs": [],
   "source": [
    "studies_names = variablesDict.index.get_level_values(0).unique()"
   ]
  },
  {
   "cell_type": "code",
   "execution_count": 12,
   "metadata": {
    "collapsed": true,
    "jupyter": {
     "outputs_hidden": true
    }
   },
   "outputs": [
    {
     "name": "stdout",
     "output_type": "stream",
     "text": [
      "Index(['Atherosclerosis Risk in Communities (ARIC) Cohort',\n",
      "       'CCF AFIB GWAS study', 'Cardiovascular Health Study (CHS) Cohort',\n",
      "       'DCC Harmonized data set', 'Framingham Cohort',\n",
      "       'GeneSTAR NextGen Functional Genomics of Platelet Aggregation',\n",
      "       'Genes-Environments and Admixture in Latino Asthmatics (GALA II) Study',\n",
      "       'Genetic Epidemiology Network of Arteriopathy (GENOA)',\n",
      "       'Genetic Epidemiology Network of Salt Sensitivity (GenSalt)',\n",
      "       'Genetic Epidemiology of COPD (COPDGene)',\n",
      "       'Genetics of Lipid Lowering Drugs and Diet Network (GOLDN) Lipidomics Study',\n",
      "       'Genome-wide Association Study of Adiposity in Samoans',\n",
      "       'Heart and Vascular Health Study (HVH)',\n",
      "       'MGH Atrial Fibrillation Study',\n",
      "       'Multi-Ethnic Study of Atherosclerosis (MESA) Cohort',\n",
      "       'NHGRI Genome-Wide Association Study of Venous Thromboembolism (GWAS of VTE)',\n",
      "       'NHLBI Cleveland Family Study (CFS) Candidate Gene Association Resource (CARe)',\n",
      "       'NHLBI TOPMed: African American Sarcoidosis Genetics Resource',\n",
      "       'NHLBI TOPMed: Boston Early-Onset COPD Study in the TOPMed Program',\n",
      "       'NHLBI TOPMed: Diabetes Heart Study (DHS) African American Coronary Artery Calcification (AA CAC)',\n",
      "       'NHLBI TOPMed: Genetics of Cardiometabolic Health in the Amish',\n",
      "       'NHLBI TOPMed: HyperGEN - Genetics of Left Ventricular (LV) Hypertrophy',\n",
      "       'NHLBI TOPMed: Novel Risk Factors for the Development of Atrial Fibrillation in Women',\n",
      "       'NHLBI TOPMed: Partners HealthCare Biobank',\n",
      "       'NHLBI TOPMed: Rare Variants for Hypertension in Taiwan Chinese (THRV)',\n",
      "       'NHLBI TOPMed: San Antonio Family Heart Study (SAFHS)',\n",
      "       'NHLBI TOPMed: Study of African Americans, Asthma, Genes and Environment (SAGE) Study',\n",
      "       'NHLBI TOPMed: The Genetic Epidemiology of Asthma in Costa Rica',\n",
      "       'NHLBI TOPMed: The Genetics and Epidemiology of Asthma in Barbados',\n",
      "       'NHLBI TOPMed: The Vanderbilt AF Ablation Registry',\n",
      "       'NHLBI TOPMed: The Vanderbilt Atrial Fibrillation Registry',\n",
      "       'The Jackson Heart Study (JHS)', 'Women's Health Initiative',\n",
      "       '_Consents'],\n",
      "      dtype='object', name='level_0')\n"
     ]
    }
   ],
   "source": [
    "pprint(studies_names)"
   ]
  },
  {
   "cell_type": "code",
   "execution_count": 13,
   "metadata": {},
   "outputs": [],
   "source": [
    "mask_harmonized_variables = variablesDict.loc[\"DCC Harmonized data set\", \"simplified_varName\"].str.match(\"^age.*\")\n",
    "harmonized_variables = variablesDict.loc[\"DCC Harmonized data set\", \"varName\"].loc[~mask_harmonized_variables]\n",
    "harmonized_variables_names = harmonized_variables.to_list()"
   ]
  },
  {
   "cell_type": "markdown",
   "metadata": {},
   "source": [
    "## Name of harmonized studies\n",
    "\n",
    "- NHLBI TOPMed: Genetics of Cardiometabolic Health in the Amish Atherosclerosis Risk in Communities (ARIC) Cohort\n",
    "- Barbados Genetics of Asthma Study\n",
    "- CARDIA Cohort\n",
    "- Cleveland Clinic Atrial Fibrillation Study\n",
    "- NHLBI Cleveland Family Study (CFS) Candidate Gene Association Resource (CARe) Cardiovascular Health Study (CHS) Cohort\n",
    "- Genetic Epidemiology of COPD (COPDGene)\n",
    "- NHLBI TOPMed: The Genetic Epidemiology of Asthma in Costa Rica\n",
    "- Framingham Cohort\n",
    "- Genetic Epidemiology Network of Arteriopathy (GENOA)\n",
    "- Genetics of Lipid Lowering Drugs and Diet Network (GOLDN) Lipidomics Study Hispanic Community Health Study /Study of Latinos (HCHS/SOL)\n",
    "- Heart and Vascular Health Study (HVH)\n",
    "- Jackson Heart Study (JHS) Cohort\n",
    "- NHGRI Genome-Wide Association Study of Venous Thromboembolism (GWAS of VTE) Multi-Ethnic Study of Atherosclerosis (MESA) Cohort\n",
    "- Massachusetts General Hospital trial Fibrillation Study\n",
    "- Partners HealthCare Biobank\n",
    "- Study of African Americans, Asthma, Genes and Environment Study\n",
    "- Genome-wide Association Study of Adiposity in Samoans\n",
    "- The Vanderbilt AF Ablation Registry\n",
    "- The Vanderbilt Atrial Fibrillation Registry\n",
    "- Women’s Genome Health Study\n",
    "- Women’s Health Initiative"
   ]
  },
  {
   "cell_type": "markdown",
   "metadata": {},
   "source": [
    "# Multiple PheWAS"
   ]
  },
  {
   "cell_type": "code",
   "execution_count": 71,
   "metadata": {},
   "outputs": [],
   "source": [
    "mask_harmonized = study_info_df[\"harmonized\"] == True\n",
    "mask_nb_var = study_info_df[\"number var\"] < 2000\n",
    "study_names = study_info_df.loc[mask_harmonized & mask_nb_var,:].index.tolist()"
   ]
  },
  {
   "cell_type": "code",
   "execution_count": 155,
   "metadata": {
    "collapsed": true,
    "jupyter": {
     "outputs_hidden": true
    }
   },
   "outputs": [
    {
     "data": {
      "text/plain": [
       "['CCF AFIB GWAS study',\n",
       " 'Genetic Epidemiology Network of Arteriopathy (GENOA)',\n",
       " 'Genetic Epidemiology of COPD (COPDGene)',\n",
       " 'Genetics of Lipid Lowering Drugs and Diet Network (GOLDN) Lipidomics Study',\n",
       " 'Genome-wide Association Study of Adiposity in Samoans',\n",
       " 'Heart and Vascular Health Study (HVH)',\n",
       " 'MGH Atrial Fibrillation Study',\n",
       " 'NHLBI TOPMed: Partners HealthCare Biobank',\n",
       " 'NHLBI TOPMed: Study of African Americans, Asthma, Genes and Environment (SAGE) Study',\n",
       " 'NHLBI TOPMed: The Genetic Epidemiology of Asthma in Costa Rica',\n",
       " 'NHLBI TOPMed: The Genetics and Epidemiology of Asthma in Barbados',\n",
       " 'NHLBI TOPMed: The Vanderbilt AF Ablation Registry',\n",
       " 'NHLBI TOPMed: The Vanderbilt Atrial Fibrillation Registry']"
      ]
     },
     "execution_count": 155,
     "metadata": {},
     "output_type": "execute_result"
    }
   ],
   "source": [
    "study_names"
   ]
  },
  {
   "cell_type": "code",
   "execution_count": 72,
   "metadata": {
    "collapsed": true,
    "jupyter": {
     "outputs_hidden": true
    }
   },
   "outputs": [
    {
     "name": "stdout",
     "output_type": "stream",
     "text": [
      "CCF AFIB GWAS study\n",
      "subset_variablesDict shape: (14, 9)\n",
      "querying\n"
     ]
    },
    {
     "name": "stderr",
     "output_type": "stream",
     "text": [
      "/Users/Arnaud/miniconda3/envs/dbmi_jupyterhub/lib/python3.6/site-packages/ipykernel_launcher.py:15: DtypeWarning: Columns (1,2,3,5,6,7,8,9,10,11,14) have mixed types. Specify dtype option on import or set low_memory=False.\n",
      "  from ipykernel import kernelapp as app\n",
      "100%|██████████| 2/2 [00:00<00:00, 173.81it/s]"
     ]
    },
    {
     "name": "stdout",
     "output_type": "stream",
     "text": [
      "Shape of retrieved HPDS dataframe (320042, 16)\n",
      "dependent_var_name not in independent_var_names\n",
      "subset_fact shape (543, 3)\n",
      "Genetic Epidemiology Network of Arteriopathy (GENOA)\n",
      "subset_variablesDict shape: (466, 9)\n",
      "querying\n"
     ]
    },
    {
     "name": "stderr",
     "output_type": "stream",
     "text": [
      "\n",
      "/Users/Arnaud/miniconda3/envs/dbmi_jupyterhub/lib/python3.6/site-packages/ipykernel_launcher.py:15: DtypeWarning: Columns (1,31,39,59,60,137,138,179,181,182,183,184,185,211,212,213,214,215,216,217,218,219,228,229,230,231,240,241,242,243,246,247,248,249,250,251,252,253,254,255,256,257,258,267,268,269,270,271,272,276,277,287,288,291,292,293,294,295,296,297,303,304,305,306,307,308,309,310,311,312,313,314,315,316,317,318,319,320,321,322,323,324,349,350,351,352,353,354,355,356,357,358,359,360,361,362,363,364,377,378,379,380,381,382,383,384,385,386,387,388,389,390,391,408,409,410,411,412,432,433,434,435,436,437,438,439,440,441,442,444,445,449,454,455,456,458,459,460,461,462,463) have mixed types. Specify dtype option on import or set low_memory=False.\n",
      "  from ipykernel import kernelapp as app\n",
      "  0%|          | 0/452 [00:00<?, ?it/s]"
     ]
    },
    {
     "name": "stdout",
     "output_type": "stream",
     "text": [
      "Shape of retrieved HPDS dataframe (320042, 468)\n",
      "dependent_var_name not in independent_var_names\n",
      "subset_fact shape (3462, 453)\n"
     ]
    },
    {
     "name": "stderr",
     "output_type": "stream",
     "text": [
      " 12%|█▏        | 56/452 [00:02<00:18, 20.89it/s]/Users/Arnaud/miniconda3/envs/dbmi_jupyterhub/lib/python3.6/site-packages/statsmodels/base/model.py:512: ConvergenceWarning: Maximum Likelihood optimization failed to converge. Check mle_retvals\n",
      "  \"Check mle_retvals\", ConvergenceWarning)\n",
      " 30%|███       | 136/452 [00:05<00:12, 26.04it/s]/Users/Arnaud/miniconda3/envs/dbmi_jupyterhub/lib/python3.6/site-packages/statsmodels/base/model.py:512: ConvergenceWarning: Maximum Likelihood optimization failed to converge. Check mle_retvals\n",
      "  \"Check mle_retvals\", ConvergenceWarning)\n",
      " 39%|███▉      | 178/452 [00:07<00:08, 31.03it/s]/Users/Arnaud/miniconda3/envs/dbmi_jupyterhub/lib/python3.6/site-packages/statsmodels/base/model.py:512: ConvergenceWarning: Maximum Likelihood optimization failed to converge. Check mle_retvals\n",
      "  \"Check mle_retvals\", ConvergenceWarning)\n",
      " 52%|█████▏    | 235/452 [00:09<00:06, 31.20it/s]/Users/Arnaud/miniconda3/envs/dbmi_jupyterhub/lib/python3.6/site-packages/statsmodels/base/model.py:512: ConvergenceWarning: Maximum Likelihood optimization failed to converge. Check mle_retvals\n",
      "  \"Check mle_retvals\", ConvergenceWarning)\n",
      "/Users/Arnaud/miniconda3/envs/dbmi_jupyterhub/lib/python3.6/site-packages/statsmodels/base/model.py:512: ConvergenceWarning: Maximum Likelihood optimization failed to converge. Check mle_retvals\n",
      "  \"Check mle_retvals\", ConvergenceWarning)\n",
      " 54%|█████▍    | 246/452 [00:09<00:07, 27.23it/s]/Users/Arnaud/miniconda3/envs/dbmi_jupyterhub/lib/python3.6/site-packages/statsmodels/base/model.py:512: ConvergenceWarning: Maximum Likelihood optimization failed to converge. Check mle_retvals\n",
      "  \"Check mle_retvals\", ConvergenceWarning)\n",
      " 62%|██████▏   | 278/452 [00:10<00:06, 25.17it/s]/Users/Arnaud/miniconda3/envs/dbmi_jupyterhub/lib/python3.6/site-packages/statsmodels/base/model.py:512: ConvergenceWarning: Maximum Likelihood optimization failed to converge. Check mle_retvals\n",
      "  \"Check mle_retvals\", ConvergenceWarning)\n",
      " 63%|██████▎   | 287/452 [00:11<00:06, 25.01it/s]/Users/Arnaud/miniconda3/envs/dbmi_jupyterhub/lib/python3.6/site-packages/statsmodels/base/model.py:512: ConvergenceWarning: Maximum Likelihood optimization failed to converge. Check mle_retvals\n",
      "  \"Check mle_retvals\", ConvergenceWarning)\n",
      " 64%|██████▍   | 290/452 [00:11<00:06, 23.69it/s]/Users/Arnaud/miniconda3/envs/dbmi_jupyterhub/lib/python3.6/site-packages/statsmodels/base/model.py:512: ConvergenceWarning: Maximum Likelihood optimization failed to converge. Check mle_retvals\n",
      "  \"Check mle_retvals\", ConvergenceWarning)\n",
      " 65%|██████▍   | 293/452 [00:11<00:06, 22.94it/s]/Users/Arnaud/miniconda3/envs/dbmi_jupyterhub/lib/python3.6/site-packages/statsmodels/base/model.py:512: ConvergenceWarning: Maximum Likelihood optimization failed to converge. Check mle_retvals\n",
      "  \"Check mle_retvals\", ConvergenceWarning)\n",
      " 75%|███████▌  | 341/452 [00:13<00:04, 25.18it/s]/Users/Arnaud/miniconda3/envs/dbmi_jupyterhub/lib/python3.6/site-packages/statsmodels/base/model.py:512: ConvergenceWarning: Maximum Likelihood optimization failed to converge. Check mle_retvals\n",
      "  \"Check mle_retvals\", ConvergenceWarning)\n",
      " 76%|███████▋  | 345/452 [00:13<00:04, 26.21it/s]/Users/Arnaud/miniconda3/envs/dbmi_jupyterhub/lib/python3.6/site-packages/statsmodels/base/model.py:512: ConvergenceWarning: Maximum Likelihood optimization failed to converge. Check mle_retvals\n",
      "  \"Check mle_retvals\", ConvergenceWarning)\n",
      " 77%|███████▋  | 348/452 [00:13<00:04, 24.58it/s]/Users/Arnaud/miniconda3/envs/dbmi_jupyterhub/lib/python3.6/site-packages/statsmodels/base/model.py:512: ConvergenceWarning: Maximum Likelihood optimization failed to converge. Check mle_retvals\n",
      "  \"Check mle_retvals\", ConvergenceWarning)\n",
      " 78%|███████▊  | 351/452 [00:13<00:04, 23.51it/s]/Users/Arnaud/miniconda3/envs/dbmi_jupyterhub/lib/python3.6/site-packages/statsmodels/base/model.py:512: ConvergenceWarning: Maximum Likelihood optimization failed to converge. Check mle_retvals\n",
      "  \"Check mle_retvals\", ConvergenceWarning)\n",
      " 78%|███████▊  | 354/452 [00:14<00:05, 18.51it/s]/Users/Arnaud/miniconda3/envs/dbmi_jupyterhub/lib/python3.6/site-packages/statsmodels/base/model.py:512: ConvergenceWarning: Maximum Likelihood optimization failed to converge. Check mle_retvals\n",
      "  \"Check mle_retvals\", ConvergenceWarning)\n",
      " 82%|████████▏ | 370/452 [00:14<00:03, 24.53it/s]/Users/Arnaud/miniconda3/envs/dbmi_jupyterhub/lib/python3.6/site-packages/statsmodels/base/model.py:512: ConvergenceWarning: Maximum Likelihood optimization failed to converge. Check mle_retvals\n",
      "  \"Check mle_retvals\", ConvergenceWarning)\n",
      " 83%|████████▎ | 373/452 [00:14<00:03, 24.53it/s]/Users/Arnaud/miniconda3/envs/dbmi_jupyterhub/lib/python3.6/site-packages/statsmodels/base/model.py:512: ConvergenceWarning: Maximum Likelihood optimization failed to converge. Check mle_retvals\n",
      "  \"Check mle_retvals\", ConvergenceWarning)\n",
      " 85%|████████▍ | 382/452 [00:15<00:03, 20.67it/s]/Users/Arnaud/miniconda3/envs/dbmi_jupyterhub/lib/python3.6/site-packages/statsmodels/base/model.py:512: ConvergenceWarning: Maximum Likelihood optimization failed to converge. Check mle_retvals\n",
      "  \"Check mle_retvals\", ConvergenceWarning)\n",
      " 85%|████████▌ | 385/452 [00:15<00:03, 19.46it/s]/Users/Arnaud/miniconda3/envs/dbmi_jupyterhub/lib/python3.6/site-packages/statsmodels/base/model.py:512: ConvergenceWarning: Maximum Likelihood optimization failed to converge. Check mle_retvals\n",
      "  \"Check mle_retvals\", ConvergenceWarning)\n",
      " 87%|████████▋ | 392/452 [00:15<00:02, 23.15it/s]/Users/Arnaud/miniconda3/envs/dbmi_jupyterhub/lib/python3.6/site-packages/statsmodels/base/model.py:512: ConvergenceWarning: Maximum Likelihood optimization failed to converge. Check mle_retvals\n",
      "  \"Check mle_retvals\", ConvergenceWarning)\n",
      " 88%|████████▊ | 399/452 [00:16<00:02, 25.97it/s]/Users/Arnaud/miniconda3/envs/dbmi_jupyterhub/lib/python3.6/site-packages/statsmodels/base/model.py:512: ConvergenceWarning: Maximum Likelihood optimization failed to converge. Check mle_retvals\n",
      "  \"Check mle_retvals\", ConvergenceWarning)\n",
      " 94%|█████████▍| 424/452 [00:17<00:01, 25.50it/s]/Users/Arnaud/miniconda3/envs/dbmi_jupyterhub/lib/python3.6/site-packages/statsmodels/base/model.py:512: ConvergenceWarning: Maximum Likelihood optimization failed to converge. Check mle_retvals\n",
      "  \"Check mle_retvals\", ConvergenceWarning)\n",
      " 97%|█████████▋| 439/452 [00:17<00:00, 26.55it/s]/Users/Arnaud/miniconda3/envs/dbmi_jupyterhub/lib/python3.6/site-packages/statsmodels/base/model.py:512: ConvergenceWarning: Maximum Likelihood optimization failed to converge. Check mle_retvals\n",
      "  \"Check mle_retvals\", ConvergenceWarning)\n",
      " 98%|█████████▊| 445/452 [00:17<00:00, 24.31it/s]/Users/Arnaud/miniconda3/envs/dbmi_jupyterhub/lib/python3.6/site-packages/statsmodels/base/model.py:512: ConvergenceWarning: Maximum Likelihood optimization failed to converge. Check mle_retvals\n",
      "  \"Check mle_retvals\", ConvergenceWarning)\n",
      "100%|██████████| 452/452 [00:18<00:00, 24.66it/s]\n"
     ]
    },
    {
     "name": "stdout",
     "output_type": "stream",
     "text": [
      "Genetic Epidemiology of COPD (COPDGene)\n",
      "subset_variablesDict shape: (341, 9)\n",
      "querying\n"
     ]
    },
    {
     "name": "stderr",
     "output_type": "stream",
     "text": [
      "/Users/Arnaud/miniconda3/envs/dbmi_jupyterhub/lib/python3.6/site-packages/ipykernel_launcher.py:15: DtypeWarning: Columns (1,2,5,7,8,9,11,12,14,15,16,17,18,33,35,36,39,40,41,49,50,52,53,54,55,56,57,58,59,60,61,62,63,64,65,66,67,68,69,70,71,72,73,74,75,76,77,78,79,80,81,82,83,84,85,86,87,88,89,90,91,92,93,94,95,96,97,98,99,100,101,102,103,104,105,106,107,108,109,110,111,112,113,114,117,118,120,121,122,123,124,125,126,129,130,134,135,137,149,150,154,157,158,159,160,161,162,163,164,165,166,167,168,169,170,171,173,174,175,177,180,181,182,185,186,187,188,194,197,198,199,200,202,203,204,205,207,208,209,210,211,213,215,216,217,219,220,222,224,225,226,227,228,229,230,231,232,234,235,236,237,241,242,243,244,245,246,247,248,249,250,251,252,253,254,255,256,257,258,261,262,263,264,265,266,267,289,290,309,320,338,339,340,341,342) have mixed types. Specify dtype option on import or set low_memory=False.\n",
      "  from ipykernel import kernelapp as app\n",
      "  0%|          | 0/318 [00:00<?, ?it/s]"
     ]
    },
    {
     "name": "stdout",
     "output_type": "stream",
     "text": [
      "Shape of retrieved HPDS dataframe (320042, 343)\n",
      "dependent_var_name not in independent_var_names\n",
      "subset_fact shape (10003, 319)\n"
     ]
    },
    {
     "name": "stderr",
     "output_type": "stream",
     "text": [
      "100%|██████████| 318/318 [00:11<00:00, 28.52it/s]\n"
     ]
    },
    {
     "name": "stdout",
     "output_type": "stream",
     "text": [
      "Genetics of Lipid Lowering Drugs and Diet Network (GOLDN) Lipidomics Study\n",
      "subset_variablesDict shape: (121, 9)\n",
      "querying\n"
     ]
    },
    {
     "name": "stderr",
     "output_type": "stream",
     "text": [
      "/Users/Arnaud/miniconda3/envs/dbmi_jupyterhub/lib/python3.6/site-packages/ipykernel_launcher.py:15: DtypeWarning: Columns (1,6,109,110,111,113,114,115,116,117,120,121) have mixed types. Specify dtype option on import or set low_memory=False.\n",
      "  from ipykernel import kernelapp as app\n",
      " 21%|██        | 25/121 [00:00<00:00, 248.29it/s]"
     ]
    },
    {
     "name": "stdout",
     "output_type": "stream",
     "text": [
      "Shape of retrieved HPDS dataframe (320042, 123)\n",
      "dependent_var_name not in independent_var_names\n",
      "subset_fact shape (8544, 122)\n"
     ]
    },
    {
     "name": "stderr",
     "output_type": "stream",
     "text": [
      "100%|██████████| 121/121 [00:00<00:00, 225.36it/s]\n"
     ]
    },
    {
     "name": "stdout",
     "output_type": "stream",
     "text": [
      "Genome-wide Association Study of Adiposity in Samoans\n",
      "subset_variablesDict shape: (174, 9)\n",
      "querying\n"
     ]
    },
    {
     "name": "stderr",
     "output_type": "stream",
     "text": [
      "/Users/Arnaud/miniconda3/envs/dbmi_jupyterhub/lib/python3.6/site-packages/ipykernel_launcher.py:15: DtypeWarning: Columns (1,6,8,13,19,20,21,23,24,25,26,27,28,29,42,58,59,60,61,79,80,81,82,83,84,94,95,96,97,98,99,100,101,102,103,104,105,111,113,117,123,124,125,140,141,142,143,144,145,146,147,151,152,153,154,155,156,157,158,159,160,161,162,163,164,165,166,168,169,171,172,173,174,175) have mixed types. Specify dtype option on import or set low_memory=False.\n",
      "  from ipykernel import kernelapp as app\n",
      "  2%|▏         | 4/168 [00:00<00:04, 39.08it/s]"
     ]
    },
    {
     "name": "stdout",
     "output_type": "stream",
     "text": [
      "Shape of retrieved HPDS dataframe (320042, 176)\n",
      "dependent_var_name not in independent_var_names\n",
      "subset_fact shape (3504, 169)\n"
     ]
    },
    {
     "name": "stderr",
     "output_type": "stream",
     "text": [
      " 36%|███▌      | 60/168 [00:01<00:03, 32.07it/s]/Users/Arnaud/miniconda3/envs/dbmi_jupyterhub/lib/python3.6/site-packages/statsmodels/base/model.py:512: ConvergenceWarning: Maximum Likelihood optimization failed to converge. Check mle_retvals\n",
      "  \"Check mle_retvals\", ConvergenceWarning)\n",
      " 45%|████▍     | 75/168 [00:02<00:03, 28.05it/s]/Users/Arnaud/miniconda3/envs/dbmi_jupyterhub/lib/python3.6/site-packages/statsmodels/base/model.py:512: ConvergenceWarning: Maximum Likelihood optimization failed to converge. Check mle_retvals\n",
      "  \"Check mle_retvals\", ConvergenceWarning)\n",
      "/Users/Arnaud/miniconda3/envs/dbmi_jupyterhub/lib/python3.6/site-packages/statsmodels/base/model.py:512: ConvergenceWarning: Maximum Likelihood optimization failed to converge. Check mle_retvals\n",
      "  \"Check mle_retvals\", ConvergenceWarning)\n",
      " 46%|████▋     | 78/168 [00:02<00:03, 27.83it/s]/Users/Arnaud/miniconda3/envs/dbmi_jupyterhub/lib/python3.6/site-packages/statsmodels/base/model.py:512: ConvergenceWarning: Maximum Likelihood optimization failed to converge. Check mle_retvals\n",
      "  \"Check mle_retvals\", ConvergenceWarning)\n",
      " 48%|████▊     | 81/168 [00:02<00:03, 25.94it/s]/Users/Arnaud/miniconda3/envs/dbmi_jupyterhub/lib/python3.6/site-packages/statsmodels/base/model.py:512: ConvergenceWarning: Maximum Likelihood optimization failed to converge. Check mle_retvals\n",
      "  \"Check mle_retvals\", ConvergenceWarning)\n",
      "/Users/Arnaud/miniconda3/envs/dbmi_jupyterhub/lib/python3.6/site-packages/statsmodels/base/model.py:512: ConvergenceWarning: Maximum Likelihood optimization failed to converge. Check mle_retvals\n",
      "  \"Check mle_retvals\", ConvergenceWarning)\n",
      " 50%|█████     | 84/168 [00:02<00:03, 25.28it/s]/Users/Arnaud/miniconda3/envs/dbmi_jupyterhub/lib/python3.6/site-packages/statsmodels/base/model.py:512: ConvergenceWarning: Maximum Likelihood optimization failed to converge. Check mle_retvals\n",
      "  \"Check mle_retvals\", ConvergenceWarning)\n",
      "/Users/Arnaud/miniconda3/envs/dbmi_jupyterhub/lib/python3.6/site-packages/statsmodels/base/model.py:512: ConvergenceWarning: Maximum Likelihood optimization failed to converge. Check mle_retvals\n",
      "  \"Check mle_retvals\", ConvergenceWarning)\n",
      "/Users/Arnaud/miniconda3/envs/dbmi_jupyterhub/lib/python3.6/site-packages/statsmodels/base/model.py:512: ConvergenceWarning: Maximum Likelihood optimization failed to converge. Check mle_retvals\n",
      "  \"Check mle_retvals\", ConvergenceWarning)\n",
      "/Users/Arnaud/miniconda3/envs/dbmi_jupyterhub/lib/python3.6/site-packages/statsmodels/base/model.py:512: ConvergenceWarning: Maximum Likelihood optimization failed to converge. Check mle_retvals\n",
      "  \"Check mle_retvals\", ConvergenceWarning)\n",
      " 53%|█████▎    | 89/168 [00:03<00:02, 28.05it/s]/Users/Arnaud/miniconda3/envs/dbmi_jupyterhub/lib/python3.6/site-packages/statsmodels/base/model.py:512: ConvergenceWarning: Maximum Likelihood optimization failed to converge. Check mle_retvals\n",
      "  \"Check mle_retvals\", ConvergenceWarning)\n",
      "/Users/Arnaud/miniconda3/envs/dbmi_jupyterhub/lib/python3.6/site-packages/statsmodels/base/model.py:512: ConvergenceWarning: Maximum Likelihood optimization failed to converge. Check mle_retvals\n",
      "  \"Check mle_retvals\", ConvergenceWarning)\n",
      "/Users/Arnaud/miniconda3/envs/dbmi_jupyterhub/lib/python3.6/site-packages/statsmodels/base/model.py:512: ConvergenceWarning: Maximum Likelihood optimization failed to converge. Check mle_retvals\n",
      "  \"Check mle_retvals\", ConvergenceWarning)\n",
      " 66%|██████▌   | 111/168 [00:03<00:01, 35.82it/s]/Users/Arnaud/miniconda3/envs/dbmi_jupyterhub/lib/python3.6/site-packages/statsmodels/base/model.py:512: ConvergenceWarning: Maximum Likelihood optimization failed to converge. Check mle_retvals\n",
      "  \"Check mle_retvals\", ConvergenceWarning)\n",
      " 92%|█████████▏| 154/168 [00:05<00:00, 28.91it/s]/Users/Arnaud/miniconda3/envs/dbmi_jupyterhub/lib/python3.6/site-packages/statsmodels/base/model.py:512: ConvergenceWarning: Maximum Likelihood optimization failed to converge. Check mle_retvals\n",
      "  \"Check mle_retvals\", ConvergenceWarning)\n",
      "100%|██████████| 168/168 [00:05<00:00, 30.70it/s]\n"
     ]
    },
    {
     "name": "stdout",
     "output_type": "stream",
     "text": [
      "Heart and Vascular Health Study (HVH)\n",
      "subset_variablesDict shape: (38, 9)\n",
      "querying\n"
     ]
    },
    {
     "name": "stderr",
     "output_type": "stream",
     "text": [
      "/Users/Arnaud/miniconda3/envs/dbmi_jupyterhub/lib/python3.6/site-packages/ipykernel_launcher.py:15: DtypeWarning: Columns (1,2,5,9,11,12,15,16,18,22,25,27,28,29,32,34,35,37,38) have mixed types. Specify dtype option on import or set low_memory=False.\n",
      "  from ipykernel import kernelapp as app\n",
      " 14%|█▎        | 5/37 [00:00<00:00, 46.87it/s]"
     ]
    },
    {
     "name": "stdout",
     "output_type": "stream",
     "text": [
      "Shape of retrieved HPDS dataframe (320042, 40)\n",
      "dependent_var_name not in independent_var_names\n",
      "subset_fact shape (1204, 38)\n"
     ]
    },
    {
     "name": "stderr",
     "output_type": "stream",
     "text": [
      "/Users/Arnaud/miniconda3/envs/dbmi_jupyterhub/lib/python3.6/site-packages/statsmodels/base/model.py:512: ConvergenceWarning: Maximum Likelihood optimization failed to converge. Check mle_retvals\n",
      "  \"Check mle_retvals\", ConvergenceWarning)\n",
      "100%|██████████| 37/37 [00:00<00:00, 46.04it/s]\n"
     ]
    },
    {
     "name": "stdout",
     "output_type": "stream",
     "text": [
      "MGH Atrial Fibrillation Study\n",
      "subset_variablesDict shape: (35, 9)\n",
      "querying\n"
     ]
    },
    {
     "name": "stderr",
     "output_type": "stream",
     "text": [
      "/Users/Arnaud/miniconda3/envs/dbmi_jupyterhub/lib/python3.6/site-packages/ipykernel_launcher.py:15: DtypeWarning: Columns (1,2,14,15,16,17,18,25,27,28,29,32,34) have mixed types. Specify dtype option on import or set low_memory=False.\n",
      "  from ipykernel import kernelapp as app\n",
      "100%|██████████| 31/31 [00:00<00:00, 210.15it/s]"
     ]
    },
    {
     "name": "stdout",
     "output_type": "stream",
     "text": [
      "Shape of retrieved HPDS dataframe (320042, 37)\n",
      "dependent_var_name not in independent_var_names\n",
      "subset_fact shape (1025, 32)\n"
     ]
    },
    {
     "name": "stderr",
     "output_type": "stream",
     "text": [
      "\n"
     ]
    },
    {
     "name": "stdout",
     "output_type": "stream",
     "text": [
      "NHLBI TOPMed: Partners HealthCare Biobank\n",
      "subset_variablesDict shape: (32, 9)\n",
      "querying\n"
     ]
    },
    {
     "name": "stderr",
     "output_type": "stream",
     "text": [
      "/Users/Arnaud/miniconda3/envs/dbmi_jupyterhub/lib/python3.6/site-packages/ipykernel_launcher.py:15: DtypeWarning: Columns (1,2,7,9,10,11,12,15,16,17,18,19,20,22,23,24,25,26,27,28,30,31,32,33) have mixed types. Specify dtype option on import or set low_memory=False.\n",
      "  from ipykernel import kernelapp as app\n",
      "100%|██████████| 29/29 [00:00<00:00, 252.53it/s]"
     ]
    },
    {
     "name": "stdout",
     "output_type": "stream",
     "text": [
      "Shape of retrieved HPDS dataframe (320042, 34)\n",
      "dependent_var_name not in independent_var_names\n",
      "subset_fact shape (129, 30)\n"
     ]
    },
    {
     "name": "stderr",
     "output_type": "stream",
     "text": [
      "\n"
     ]
    },
    {
     "name": "stdout",
     "output_type": "stream",
     "text": [
      "NHLBI TOPMed: Study of African Americans, Asthma, Genes and Environment (SAGE) Study\n",
      "subset_variablesDict shape: (28, 9)\n",
      "querying\n"
     ]
    },
    {
     "name": "stderr",
     "output_type": "stream",
     "text": [
      "/Users/Arnaud/miniconda3/envs/dbmi_jupyterhub/lib/python3.6/site-packages/ipykernel_launcher.py:15: DtypeWarning: Columns (2,4,5,6,10,11,13,14,15,16,17,19,20,21,22,23,24,25,26,27,28,29) have mixed types. Specify dtype option on import or set low_memory=False.\n",
      "  from ipykernel import kernelapp as app\n",
      "100%|██████████| 23/23 [00:00<00:00, 235.88it/s]"
     ]
    },
    {
     "name": "stdout",
     "output_type": "stream",
     "text": [
      "Shape of retrieved HPDS dataframe (320042, 30)\n",
      "dependent_var_name not in independent_var_names\n",
      "subset_fact shape (2107, 24)\n"
     ]
    },
    {
     "name": "stderr",
     "output_type": "stream",
     "text": [
      "\n"
     ]
    },
    {
     "name": "stdout",
     "output_type": "stream",
     "text": [
      "NHLBI TOPMed: The Genetic Epidemiology of Asthma in Costa Rica\n",
      "subset_variablesDict shape: (38, 9)\n",
      "querying\n"
     ]
    },
    {
     "name": "stderr",
     "output_type": "stream",
     "text": [
      "/Users/Arnaud/miniconda3/envs/dbmi_jupyterhub/lib/python3.6/site-packages/ipykernel_launcher.py:15: DtypeWarning: Columns (1,2,3,4,5,10,13,15,16,17,18,19,20,21,22,24,25,26,27,28,31,32,33,34,35,36,37) have mixed types. Specify dtype option on import or set low_memory=False.\n",
      "  from ipykernel import kernelapp as app\n",
      "  0%|          | 0/20 [00:00<?, ?it/s]/Users/Arnaud/miniconda3/envs/dbmi_jupyterhub/lib/python3.6/site-packages/statsmodels/base/model.py:512: ConvergenceWarning: Maximum Likelihood optimization failed to converge. Check mle_retvals\n",
      "  \"Check mle_retvals\", ConvergenceWarning)\n",
      "/Users/Arnaud/miniconda3/envs/dbmi_jupyterhub/lib/python3.6/site-packages/statsmodels/base/model.py:512: ConvergenceWarning: Maximum Likelihood optimization failed to converge. Check mle_retvals\n",
      "  \"Check mle_retvals\", ConvergenceWarning)\n",
      " 20%|██        | 4/20 [00:00<00:00, 30.07it/s]"
     ]
    },
    {
     "name": "stdout",
     "output_type": "stream",
     "text": [
      "Shape of retrieved HPDS dataframe (320042, 40)\n",
      "dependent_var_name not in independent_var_names\n",
      "subset_fact shape (3789, 21)\n"
     ]
    },
    {
     "name": "stderr",
     "output_type": "stream",
     "text": [
      "/Users/Arnaud/miniconda3/envs/dbmi_jupyterhub/lib/python3.6/site-packages/statsmodels/base/model.py:512: ConvergenceWarning: Maximum Likelihood optimization failed to converge. Check mle_retvals\n",
      "  \"Check mle_retvals\", ConvergenceWarning)\n",
      "/Users/Arnaud/miniconda3/envs/dbmi_jupyterhub/lib/python3.6/site-packages/statsmodels/base/model.py:512: ConvergenceWarning: Maximum Likelihood optimization failed to converge. Check mle_retvals\n",
      "  \"Check mle_retvals\", ConvergenceWarning)\n",
      "/Users/Arnaud/miniconda3/envs/dbmi_jupyterhub/lib/python3.6/site-packages/statsmodels/base/model.py:512: ConvergenceWarning: Maximum Likelihood optimization failed to converge. Check mle_retvals\n",
      "  \"Check mle_retvals\", ConvergenceWarning)\n",
      " 90%|█████████ | 18/20 [00:00<00:00, 36.32it/s]/Users/Arnaud/miniconda3/envs/dbmi_jupyterhub/lib/python3.6/site-packages/statsmodels/base/model.py:512: ConvergenceWarning: Maximum Likelihood optimization failed to converge. Check mle_retvals\n",
      "  \"Check mle_retvals\", ConvergenceWarning)\n",
      "100%|██████████| 20/20 [00:00<00:00, 37.67it/s]\n"
     ]
    },
    {
     "name": "stdout",
     "output_type": "stream",
     "text": [
      "NHLBI TOPMed: The Genetics and Epidemiology of Asthma in Barbados\n",
      "subset_variablesDict shape: (54, 9)\n",
      "querying\n"
     ]
    },
    {
     "name": "stderr",
     "output_type": "stream",
     "text": [
      "/Users/Arnaud/miniconda3/envs/dbmi_jupyterhub/lib/python3.6/site-packages/ipykernel_launcher.py:15: DtypeWarning: Columns (1,2,4,10,13,14,15,17,18,19,20,21,22,23,24,25,26,27,28,30,31,32,35,36,37,38,39,40,42,43,44,45,46,47,48,49,50,52,53) have mixed types. Specify dtype option on import or set low_memory=False.\n",
      "  from ipykernel import kernelapp as app\n",
      "100%|██████████| 39/39 [00:00<00:00, 259.92it/s]"
     ]
    },
    {
     "name": "stdout",
     "output_type": "stream",
     "text": [
      "Shape of retrieved HPDS dataframe (320042, 56)\n",
      "dependent_var_name not in independent_var_names\n",
      "subset_fact shape (1857, 40)\n"
     ]
    },
    {
     "name": "stderr",
     "output_type": "stream",
     "text": [
      "\n"
     ]
    },
    {
     "name": "stdout",
     "output_type": "stream",
     "text": [
      "NHLBI TOPMed: The Vanderbilt AF Ablation Registry\n",
      "subset_variablesDict shape: (31, 9)\n",
      "querying\n"
     ]
    },
    {
     "name": "stderr",
     "output_type": "stream",
     "text": [
      "/Users/Arnaud/miniconda3/envs/dbmi_jupyterhub/lib/python3.6/site-packages/ipykernel_launcher.py:15: DtypeWarning: Columns (1,2,3,6,9,10,11,12,15,16,17,18,19,20,21,23,24,26,27,28,29,31,32) have mixed types. Specify dtype option on import or set low_memory=False.\n",
      "  from ipykernel import kernelapp as app\n",
      "100%|██████████| 30/30 [00:00<00:00, 244.12it/s]"
     ]
    },
    {
     "name": "stdout",
     "output_type": "stream",
     "text": [
      "Shape of retrieved HPDS dataframe (320042, 33)\n",
      "dependent_var_name not in independent_var_names\n",
      "subset_fact shape (173, 31)\n"
     ]
    },
    {
     "name": "stderr",
     "output_type": "stream",
     "text": [
      "\n"
     ]
    },
    {
     "name": "stdout",
     "output_type": "stream",
     "text": [
      "NHLBI TOPMed: The Vanderbilt Atrial Fibrillation Registry\n",
      "subset_variablesDict shape: (31, 9)\n",
      "querying\n"
     ]
    },
    {
     "name": "stderr",
     "output_type": "stream",
     "text": [
      "/Users/Arnaud/miniconda3/envs/dbmi_jupyterhub/lib/python3.6/site-packages/ipykernel_launcher.py:15: DtypeWarning: Columns (1,4,5,8,9,10,11,12,15,16,17,18,19,20,22,23,24,25,26,27,28,30,31,32) have mixed types. Specify dtype option on import or set low_memory=False.\n",
      "  from ipykernel import kernelapp as app\n",
      "100%|██████████| 28/28 [00:00<00:00, 230.12it/s]"
     ]
    },
    {
     "name": "stdout",
     "output_type": "stream",
     "text": [
      "Shape of retrieved HPDS dataframe (320042, 33)\n",
      "dependent_var_name not in independent_var_names\n",
      "subset_fact shape (1135, 29)\n"
     ]
    },
    {
     "name": "stderr",
     "output_type": "stream",
     "text": [
      "\n"
     ]
    }
   ],
   "source": [
    "from python_lib.PheWAS_funcs import PheWAS\n",
    "\n",
    "dependent_var_name = variablesDict\\\n",
    "           .loc[variablesDict.index.get_level_values(2) == 'Indicates whether subject ever regularly smoked cigarettes.', \"varName\"]\\\n",
    "           .values[0]\n",
    "dic_pvalues = {}\n",
    "for study_name in study_names:\n",
    "    print(study_name)\n",
    "    study_info_df = pd.read_csv(\"studies_info.csv\", index_col=0)\n",
    "    subject_id_var = study_info_df.loc[study_name, \"ID varName\"]\n",
    "    dic_pvalues[study_name] = PheWAS(study_name,\n",
    "       dependent_var_name, \n",
    "      study_info_df, \n",
    "      variablesDict, \n",
    "                    resource)"
   ]
  },
  {
   "cell_type": "code",
   "execution_count": 77,
   "metadata": {},
   "outputs": [],
   "source": [
    "list_study_names = [] \n",
    "list_frames = []\n",
    "for study_name, study_pvalues in dic_pvalues.items():\n",
    "    list_study_names.append(study_name)\n",
    "    list_frames.append(pd.DataFrame.from_dict(study_pvalues, orient='index'))\n",
    "df_pvalues = pd.concat(list_frames, keys=list_study_names)\n",
    "df_pvalues = df_pvalues.rename_axis(index=[\"study\", \"varName\"])\\\n",
    ".reset_index(\"varName\", drop=False)\\\n",
    ".rename({0: \"pvalues\"}, axis=1)\n",
    "\n"
   ]
  },
  {
   "cell_type": "markdown",
   "metadata": {},
   "source": [
    "### Distribution of p-values (univariate tests)"
   ]
  },
  {
   "cell_type": "code",
   "execution_count": 81,
   "metadata": {},
   "outputs": [
    {
     "data": {
      "text/plain": [
       "Text(0.5, 0.98, 'Distribution of individual p-values')"
      ]
     },
     "execution_count": 81,
     "metadata": {},
     "output_type": "execute_result"
    },
    {
     "data": {
      "image/png": "[encoded data removed]",
      "text/plain": [
       "<Figure size 1008x576 with 1 Axes>"
      ]
     },
     "metadata": {
      "needs_background": "light"
     },
     "output_type": "display_data"
    }
   ],
   "source": [
    "pd.Series([v for v in df_pvalues[\"pvalues\"].values]).plot.hist(bins=30)\n",
    "plt.suptitle(\"Distribution of individual p-values\",\n",
    "             weight=\"bold\",\n",
    "            fontsize=15)"
   ]
  },
  {
   "cell_type": "markdown",
   "metadata": {},
   "source": [
    "### 5. Multiple hypotheses testing correction: Bonferroni Method"
   ]
  },
  {
   "cell_type": "markdown",
   "metadata": {},
   "source": [
    "In order to handle the multiple testing problem (increase in the probability to \"discover\" false statistical associations), we will use the Bonferroni correction method. Although many other multiple comparisons exist, Bonferroni is the most straightforward to use, because it doesn't require assumptions about variables correlation. Other PheWAS analysis also use False Discovery Rate controlling procedures ([see](https://en.wikipedia.org/wiki/False_discovery_rate))."
   ]
  },
  {
   "cell_type": "markdown",
   "metadata": {},
   "source": [
    "In a nutshell, Bonferonni allows to calculate a corrected \"statistical significant threshold\" according to the number of test performed. Every p-value below this threshold will be deemed statistically significant."
   ]
  },
  {
   "cell_type": "code",
   "execution_count": 82,
   "metadata": {},
   "outputs": [],
   "source": [
    "adjusted_alpha = 0.05/len(df_pvalues[\"pvalues\"])"
   ]
  },
  {
   "cell_type": "code",
   "execution_count": 153,
   "metadata": {},
   "outputs": [],
   "source": [
    "%%capture\n",
    "df_pvalues[\"p_adj\"] = df_pvalues[\"pvalues\"] / len(df_pvalues[\"pvalues\"])\n",
    "df_pvalues['log_p'] = -np.log10(df_pvalues['pvalues'])\n",
    "df_pvalues = df_pvalues.sort_index()\n",
    "df_pvalues[\"group\"] = df_pvalues.index\n",
    "variablesDict = joining_variablesDict_onCol(variablesDict,\n",
    "                                              df_pvalues,\n",
    "                                              left_col=\"varName\",\n",
    "                                              right_col=\"varName\")"
   ]
  },
  {
   "cell_type": "code",
   "execution_count": 84,
   "metadata": {},
   "outputs": [
    {
     "name": "stdout",
     "output_type": "stream",
     "text": [
      "Bonferonni adjusted significance threshold: 3.85E-05\n"
     ]
    }
   ],
   "source": [
    "print(\"Bonferonni adjusted significance threshold: {0:.2E}\".format(adjusted_alpha))"
   ]
  },
  {
   "cell_type": "markdown",
   "metadata": {},
   "source": [
    "## 6. Result visualisations: Manhattan plot"
   ]
  },
  {
   "cell_type": "markdown",
   "metadata": {},
   "source": [
    "Manhattan plot is the classical results representation of a PheWAS analysis. It plots every each tested phenotypical variables on the X-axis, against its *-log(pvalue)* on the Y-axis. The horizontal line represent the adjusted significance level threshold."
   ]
  },
  {
   "cell_type": "code",
   "execution_count": 87,
   "metadata": {},
   "outputs": [],
   "source": [
    "mask = variablesDict[\"pvalues\"].isna()\n",
    "df_results = variablesDict.loc[~mask,:].copy().replace([np.inf, -np.inf], np.nan)\n",
    "df_results = df_results.loc[~df_results[\"log_p\"].isna().values,:]"
   ]
  },
  {
   "cell_type": "code",
   "execution_count": 152,
   "metadata": {},
   "outputs": [
    {
     "data": {
      "image/png": "[encoded data removed]",
      "text/plain": [
       "<Figure size 1008x576 with 1 Axes>"
      ]
     },
     "metadata": {
      "needs_background": "light"
     },
     "output_type": "display_data"
    }
   ],
   "source": [
    "df_results[\"simplified_varName\"] = df_results[\"simplified_varName\"].str.replace(\"[0-9]+[A-z]*\", \"\").to_frame()\n",
    "order_studies = df_results.index.get_level_values(0).unique().tolist()[::-1]\n",
    "df_results = df_results.reindex(order_studies, level=0)\n",
    "fig = plt.figure()\n",
    "ax = fig.add_subplot(111)\n",
    "colors = plt.get_cmap('Set1')\n",
    "x_labels = []\n",
    "x_labels_pos = []\n",
    "\n",
    "y_lims = (0, df_results[\"log_p\"].max(skipna=True) + 50)\n",
    "threshold_top_values = df_results[\"log_p\"].sort_values(ascending=False)[0:6][-1]\n",
    "\n",
    "df_results[\"ind\"] = np.arange(1, len(df_results)+1)\n",
    "#df_results[\"group\"] = df_results[\"group\"].str.replace(\"[0-9]\", \"\")\n",
    "df_grouped = df_results.groupby(('group'))\n",
    "for num, (name, group) in enumerate(df_grouped):\n",
    "    group.plot(kind='scatter', x='ind', y='log_p',color=colors.colors[num % len(colors.colors)], ax=ax, s=20)\n",
    "    x_labels.append(name)\n",
    "    x_labels_pos.append((group['ind'].iloc[-1] - (group['ind'].iloc[-1] - group['ind'].iloc[0])/2)) # Set label in the middle\n",
    "\n",
    "    pair_ind = 0 # To shift label which might overlap because to close\n",
    "    for n, row in group.iterrows():\n",
    "#        if pair_ind %2 == 0:\n",
    "#            shift = 1.1\n",
    "#        else:\n",
    "#            shift = -1.1\n",
    "        if row[\"log_p\"] > threshold_top_values:\n",
    "            ax.text(row['ind'] + 3, row[\"log_p\"] + 0.05, row[\"simplified_varName\"], rotation=0, alpha=1, size=8, color=\"black\")\n",
    "#            pair_ind += 1\n",
    "                \n",
    "ax.set_xticks(x_labels_pos)\n",
    "ax.set_xticklabels(x_labels)\n",
    "ax.set_xlim([0, len(df_results) +1])\n",
    "ax.set_ylim(y_lims)\n",
    "ax.set_ylabel('-log(p-values)', style=\"italic\")\n",
    "ax.set_xlabel('Phenotypes', fontsize=15)\n",
    "ax.axhline(y=-np.log10(adjusted_alpha), linestyle=\":\", color=\"black\", label=\"Bonferonni Adjusted Threshold\")\n",
    "plt.xticks(fontsize = 9,rotation=90)\n",
    "plt.yticks(fontsize = 8)\n",
    "plt.title(\"Statistical Association Between Exposition Status and Phenotypes\", \n",
    "          loc=\"center\",\n",
    "          style=\"oblique\", \n",
    "          fontsize = 20,\n",
    "         y=1)\n",
    "xticks = ax.xaxis.get_major_ticks()\n",
    "handles, labels = ax.get_legend_handles_labels()\n",
    "plt.legend(handles = handles, labels = labels, loc = \"upper left\")\n",
    "plt.show()"
   ]
  },
  {
   "cell_type": "markdown",
   "metadata": {},
   "source": [
    "Overall, it appears that most of the tested phenotypes covariates are above the adjusted threshold of significant association. However, it is not surprising at all, given the nature of our dependent variable: a lot of those variables are by nature tied directly to the COPD status."
   ]
  },
  {
   "cell_type": "markdown",
   "metadata": {},
   "source": [
    "This code can be used directly with any other variable present in the variable Dictionary. It only need to change the `dependent_var_name` value."
   ]
  },
  {
   "cell_type": "markdown",
   "metadata": {},
   "source": [
    "# Odds Ratio table"
   ]
  },
  {
   "cell_type": "code",
   "execution_count": 158,
   "metadata": {},
   "outputs": [
    {
     "data": {
      "text/plain": [
       "(48459, 13)"
      ]
     },
     "execution_count": 158,
     "metadata": {},
     "output_type": "execute_result"
    }
   ],
   "source": [
    "- Univarai"
   ]
  },
  {
   "cell_type": "code",
   "execution_count": null,
   "metadata": {},
   "outputs": [],
   "source": [
    "\n",
    "query = query.select().add(variables)"
   ]
  }
 ],
 "metadata": {
  "kernelspec": {
   "display_name": "Python 3.6",
   "language": "python",
   "name": "dbmi_jupyterhub"
  },
  "language_info": {
   "codemirror_mode": {
    "name": "ipython",
    "version": 3
   },
   "file_extension": ".py",
   "mimetype": "text/x-python",
   "name": "python",
   "nbconvert_exporter": "python",
   "pygments_lexer": "ipython3",
   "version": "3.6.9"
  }
 },
 "nbformat": 4,
 "nbformat_minor": 4
}
