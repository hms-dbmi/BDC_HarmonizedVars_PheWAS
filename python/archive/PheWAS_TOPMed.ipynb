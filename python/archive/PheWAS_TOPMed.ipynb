{
 "cells": [
  {
   "cell_type": "markdown",
   "metadata": {},
   "source": [
    "# Phenome-Wide analysis on TOPMed studies"
   ]
  },
  {
   "cell_type": "markdown",
   "metadata": {},
   "source": [
    "# Environment set-up"
   ]
  },
  {
   "cell_type": "markdown",
   "metadata": {},
   "source": [
    "### System requirements\n",
    "- Python 3.6 or later\n",
    "- pip & bash interpreter"
   ]
  },
  {
   "cell_type": "markdown",
   "metadata": {},
   "source": [
    "### Installation of external dependencies"
   ]
  },
  {
   "cell_type": "code",
   "execution_count": null,
   "metadata": {},
   "outputs": [],
   "source": [
    "%load_ext autoreload\n",
    "%autoreload 2"
   ]
  },
  {
   "cell_type": "code",
   "execution_count": null,
   "metadata": {},
   "outputs": [],
   "source": [
    "!pip install -r requirements.txt"
   ]
  },
  {
   "cell_type": "code",
   "execution_count": null,
   "metadata": {},
   "outputs": [],
   "source": [
    "import json\n",
    "from pprint import pprint\n",
    "\n",
    "import pandas as pd\n",
    "import numpy as np \n",
    "import matplotlib.pyplot as plt\n",
    "from scipy import stats\n",
    "\n",
    "import PicSureHpdsLib\n",
    "import PicSureClient\n",
    "\n",
    "from python_lib.utils import get_multiIndex_variablesDict, get_dic_renaming_vars, match_dummies_to_varNames, joining_variablesDict_onCol\n",
    "from python_lib.HPDS_connection_manager import tokenManager"
   ]
  },
  {
   "cell_type": "code",
   "execution_count": null,
   "metadata": {},
   "outputs": [],
   "source": [
    "print(\"NB: This Jupyter Notebook has been written using PIC-SURE API following versions:\\n- PicSureHpdsLib: 1.1.0\\n- PicSureClient: 0.1.0\")\n",
    "print(\"The PIC-SURE API libraries versions you've been downloading are:\\n- PicSureHpdsLib: {0}\\n- PicSureClient: {1}\".format(PicSureHpdsLib.__version__, PicSureClient.__version__))"
   ]
  },
  {
   "cell_type": "code",
   "execution_count": null,
   "metadata": {},
   "outputs": [],
   "source": [
    "# Pandas DataFrame display options\n",
    "pd.set_option(\"max.rows\", 435)\n",
    "\n",
    "# Matplotlib display parameters\n",
    "fig_size = plt.rcParams[\"figure.figsize\"]\n",
    "fig_size[0] = 14\n",
    "fig_size[1] = 8\n",
    "plt.rcParams[\"figure.figsize\"] = fig_size\n",
    "font = {'weight' : 'bold',\n",
    "        'size'   : 12}\n",
    "plt.rc('font', **font)"
   ]
  },
  {
   "cell_type": "markdown",
   "metadata": {},
   "source": [
    "## Connecting to a PIC-SURE network"
   ]
  },
  {
   "cell_type": "code",
   "execution_count": null,
   "metadata": {},
   "outputs": [],
   "source": [
    "PICSURE_network_URL = \"https://biodatacatalyst.integration.hms.harvard.edu/picsure\"\n",
    "resource_id = \"02e23f52-f354-4e8b-992c-d37c8b9ba140\"\n",
    "token_file = \"token.txt\""
   ]
  },
  {
   "cell_type": "code",
   "execution_count": null,
   "metadata": {},
   "outputs": [],
   "source": [
    "token = tokenManager(token_file).get_token()"
   ]
  },
  {
   "cell_type": "code",
   "execution_count": null,
   "metadata": {},
   "outputs": [],
   "source": [
    "client = PicSureClient.Client()\n",
    "connection = client.connect(PICSURE_network_URL, token, allowSelfSignedSSL=True)\n",
    "adapter = PicSureHpdsLib.Adapter(connection)\n",
    "resource = adapter.useResource(resource_id)"
   ]
  },
  {
   "cell_type": "markdown",
   "metadata": {},
   "source": [
    "### 1. Retrieving variables dictionary from HPDS Database"
   ]
  },
  {
   "cell_type": "code",
   "execution_count": null,
   "metadata": {},
   "outputs": [],
   "source": [
    "plain_variablesDict = resource.dictionary().find().DataFrame()"
   ]
  },
  {
   "cell_type": "code",
   "execution_count": null,
   "metadata": {},
   "outputs": [],
   "source": [
    "plain_variablesDict.iloc[[1,2], :]"
   ]
  },
  {
   "cell_type": "code",
   "execution_count": null,
   "metadata": {},
   "outputs": [],
   "source": [
    "variablesDict = get_multiIndex_variablesDict(plain_variablesDict)"
   ]
  },
  {
   "cell_type": "raw",
   "metadata": {},
   "source": [
    "variablesDict.iloc[10:20,:]"
   ]
  },
  {
   "cell_type": "markdown",
   "metadata": {},
   "source": [
    "## Names of different studies"
   ]
  },
  {
   "cell_type": "code",
   "execution_count": null,
   "metadata": {},
   "outputs": [],
   "source": [
    "studies_names = variablesDict.index.get_level_values(0).unique()"
   ]
  },
  {
   "cell_type": "code",
   "execution_count": null,
   "metadata": {
    "jupyter": {
     "outputs_hidden": true
    }
   },
   "outputs": [],
   "source": [
    "pprint(studies_names)"
   ]
  },
  {
   "cell_type": "code",
   "execution_count": null,
   "metadata": {},
   "outputs": [],
   "source": [
    "mask_harmonized_variables = variablesDict.loc[\"DCC Harmonized data set\", \"simplified_varName\"].str.match(\"^age.*\")\n",
    "harmonized_variables = variablesDict.loc[\"DCC Harmonized data set\", \"varName\"].loc[~mask_harmonized_variables]\n",
    "harmonized_variables_names = harmonized_variables.to_list()"
   ]
  },
  {
   "cell_type": "markdown",
   "metadata": {},
   "source": [
    "## Name of harmonized studies\n",
    "\n",
    "- NHLBI TOPMed: Genetics of Cardiometabolic Health in the Amish Atherosclerosis Risk in Communities (ARIC) Cohort\n",
    "- Barbados Genetics of Asthma Study\n",
    "- CARDIA Cohort\n",
    "- Cleveland Clinic Atrial Fibrillation Study\n",
    "- NHLBI Cleveland Family Study (CFS) Candidate Gene Association Resource (CARe) Cardiovascular Health Study (CHS) Cohort\n",
    "- Genetic Epidemiology of COPD (COPDGene)\n",
    "- NHLBI TOPMed: The Genetic Epidemiology of Asthma in Costa Rica\n",
    "- Framingham Cohort\n",
    "- Genetic Epidemiology Network of Arteriopathy (GENOA)\n",
    "- Genetics of Lipid Lowering Drugs and Diet Network (GOLDN) Lipidomics Study Hispanic Community Health Study /Study of Latinos (HCHS/SOL)\n",
    "- Heart and Vascular Health Study (HVH)\n",
    "- Jackson Heart Study (JHS) Cohort\n",
    "- NHGRI Genome-Wide Association Study of Venous Thromboembolism (GWAS of VTE) Multi-Ethnic Study of Atherosclerosis (MESA) Cohort\n",
    "- Massachusetts General Hospital trial Fibrillation Study\n",
    "- Partners HealthCare Biobank\n",
    "- Study of African Americans, Asthma, Genes and Environment Study\n",
    "- Genome-wide Association Study of Adiposity in Samoans\n",
    "- The Vanderbilt AF Ablation Registry\n",
    "- The Vanderbilt Atrial Fibrillation Registry\n",
    "- Women’s Genome Health Study\n",
    "- Women’s Health Initiative"
   ]
  },
  {
   "cell_type": "markdown",
   "metadata": {},
   "source": [
    "# Multiple PheWAS"
   ]
  },
  {
   "cell_type": "code",
   "execution_count": null,
   "metadata": {},
   "outputs": [],
   "source": [
    "mask_harmonized = study_info_df[\"harmonized\"] == True\n",
    "mask_nb_var = study_info_df[\"number var\"] < 2000\n",
    "study_names = study_info_df.loc[mask_harmonized & mask_nb_var,:].index.tolist()"
   ]
  },
  {
   "cell_type": "code",
   "execution_count": null,
   "metadata": {
    "jupyter": {
     "outputs_hidden": true
    }
   },
   "outputs": [],
   "source": [
    "study_names"
   ]
  },
  {
   "cell_type": "code",
   "execution_count": null,
   "metadata": {
    "jupyter": {
     "outputs_hidden": true
    }
   },
   "outputs": [],
   "source": [
    "from python_lib.PheWAS_funcs import PheWAS\n",
    "\n",
    "dependent_var_name = variablesDict\\\n",
    "           .loc[variablesDict.index.get_level_values(2) == 'Indicates whether subject ever regularly smoked cigarettes.', \"varName\"]\\\n",
    "           .values[0]\n",
    "dic_pvalues = {}\n",
    "for study_name in study_names:\n",
    "    print(study_name)\n",
    "    study_info_df = pd.read_csv(\"studies_info.csv\", index_col=0)\n",
    "    subject_id_var = study_info_df.loc[study_name, \"ID varName\"]\n",
    "    dic_pvalues[study_name] = PheWAS(study_name,\n",
    "       dependent_var_name, \n",
    "      study_info_df, \n",
    "      variablesDict, \n",
    "                    resource)"
   ]
  },
  {
   "cell_type": "code",
   "execution_count": null,
   "metadata": {},
   "outputs": [],
   "source": [
    "list_study_names = [] \n",
    "list_frames = []\n",
    "for study_name, study_pvalues in dic_pvalues.items():\n",
    "    list_study_names.append(study_name)\n",
    "    list_frames.append(pd.DataFrame.from_dict(study_pvalues, orient='index'))\n",
    "df_pvalues = pd.concat(list_frames, keys=list_study_names)\n",
    "df_pvalues = df_pvalues.rename_axis(index=[\"study\", \"varName\"])\\\n",
    ".reset_index(\"varName\", drop=False)\\\n",
    ".rename({0: \"pvalues\"}, axis=1)\n",
    "\n"
   ]
  },
  {
   "cell_type": "markdown",
   "metadata": {},
   "source": [
    "### Distribution of p-values (univariate tests)"
   ]
  },
  {
   "cell_type": "code",
   "execution_count": null,
   "metadata": {},
   "outputs": [],
   "source": [
    "pd.Series([v for v in df_pvalues[\"pvalues\"].values]).plot.hist(bins=30)\n",
    "plt.suptitle(\"Distribution of individual p-values\",\n",
    "             weight=\"bold\",\n",
    "            fontsize=15)"
   ]
  },
  {
   "cell_type": "markdown",
   "metadata": {},
   "source": [
    "### 5. Multiple hypotheses testing correction: Bonferroni Method"
   ]
  },
  {
   "cell_type": "markdown",
   "metadata": {},
   "source": [
    "In order to handle the multiple testing problem (increase in the probability to \"discover\" false statistical associations), we will use the Bonferroni correction method. Although many other multiple comparisons exist, Bonferroni is the most straightforward to use, because it doesn't require assumptions about variables correlation. Other PheWAS analysis also use False Discovery Rate controlling procedures ([see](https://en.wikipedia.org/wiki/False_discovery_rate))."
   ]
  },
  {
   "cell_type": "markdown",
   "metadata": {},
   "source": [
    "In a nutshell, Bonferonni allows to calculate a corrected \"statistical significant threshold\" according to the number of test performed. Every p-value below this threshold will be deemed statistically significant."
   ]
  },
  {
   "cell_type": "code",
   "execution_count": null,
   "metadata": {},
   "outputs": [],
   "source": [
    "adjusted_alpha = 0.05/len(df_pvalues[\"pvalues\"])"
   ]
  },
  {
   "cell_type": "code",
   "execution_count": null,
   "metadata": {},
   "outputs": [],
   "source": [
    "%%capture\n",
    "df_pvalues[\"p_adj\"] = df_pvalues[\"pvalues\"] / len(df_pvalues[\"pvalues\"])\n",
    "df_pvalues['log_p'] = -np.log10(df_pvalues['pvalues'])\n",
    "df_pvalues = df_pvalues.sort_index()\n",
    "df_pvalues[\"group\"] = df_pvalues.index\n",
    "variablesDict = joining_variablesDict_onCol(variablesDict,\n",
    "                                              df_pvalues,\n",
    "                                              left_col=\"varName\",\n",
    "                                              right_col=\"varName\")"
   ]
  },
  {
   "cell_type": "code",
   "execution_count": null,
   "metadata": {},
   "outputs": [],
   "source": [
    "print(\"Bonferonni adjusted significance threshold: {0:.2E}\".format(adjusted_alpha))"
   ]
  },
  {
   "cell_type": "markdown",
   "metadata": {},
   "source": [
    "## 6. Result visualisations: Manhattan plot"
   ]
  },
  {
   "cell_type": "markdown",
   "metadata": {},
   "source": [
    "Manhattan plot is the classical results representation of a PheWAS analysis. It plots every each tested phenotypical variables on the X-axis, against its *-log(pvalue)* on the Y-axis. The horizontal line represent the adjusted significance level threshold."
   ]
  },
  {
   "cell_type": "code",
   "execution_count": null,
   "metadata": {},
   "outputs": [],
   "source": [
    "mask = variablesDict[\"pvalues\"].isna()\n",
    "df_results = variablesDict.loc[~mask,:].copy().replace([np.inf, -np.inf], np.nan)\n",
    "df_results = df_results.loc[~df_results[\"log_p\"].isna().values,:]"
   ]
  },
  {
   "cell_type": "code",
   "execution_count": null,
   "metadata": {},
   "outputs": [],
   "source": [
    "df_results[\"simplified_varName\"] = df_results[\"simplified_varName\"].str.replace(\"[0-9]+[A-z]*\", \"\").to_frame()\n",
    "order_studies = df_results.index.get_level_values(0).unique().tolist()[::-1]\n",
    "df_results = df_results.reindex(order_studies, level=0)\n",
    "fig = plt.figure()\n",
    "ax = fig.add_subplot(111)\n",
    "colors = plt.get_cmap('Set1')\n",
    "x_labels = []\n",
    "x_labels_pos = []\n",
    "\n",
    "y_lims = (0, df_results[\"log_p\"].max(skipna=True) + 50)\n",
    "threshold_top_values = df_results[\"log_p\"].sort_values(ascending=False)[0:6][-1]\n",
    "\n",
    "df_results[\"ind\"] = np.arange(1, len(df_results)+1)\n",
    "#df_results[\"group\"] = df_results[\"group\"].str.replace(\"[0-9]\", \"\")\n",
    "df_grouped = df_results.groupby(('group'))\n",
    "for num, (name, group) in enumerate(df_grouped):\n",
    "    group.plot(kind='scatter', x='ind', y='log_p',color=colors.colors[num % len(colors.colors)], ax=ax, s=20)\n",
    "    x_labels.append(name)\n",
    "    x_labels_pos.append((group['ind'].iloc[-1] - (group['ind'].iloc[-1] - group['ind'].iloc[0])/2)) # Set label in the middle\n",
    "\n",
    "    pair_ind = 0 # To shift label which might overlap because to close\n",
    "    for n, row in group.iterrows():\n",
    "#        if pair_ind %2 == 0:\n",
    "#            shift = 1.1\n",
    "#        else:\n",
    "#            shift = -1.1\n",
    "        if row[\"log_p\"] > threshold_top_values:\n",
    "            ax.text(row['ind'] + 3, row[\"log_p\"] + 0.05, row[\"simplified_varName\"], rotation=0, alpha=1, size=8, color=\"black\")\n",
    "#            pair_ind += 1\n",
    "                \n",
    "ax.set_xticks(x_labels_pos)\n",
    "ax.set_xticklabels(x_labels)\n",
    "ax.set_xlim([0, len(df_results) +1])\n",
    "ax.set_ylim(y_lims)\n",
    "ax.set_ylabel('-log(p-values)', style=\"italic\")\n",
    "ax.set_xlabel('Phenotypes', fontsize=15)\n",
    "ax.axhline(y=-np.log10(adjusted_alpha), linestyle=\":\", color=\"black\", label=\"Bonferonni Adjusted Threshold\")\n",
    "plt.xticks(fontsize = 9,rotation=90)\n",
    "plt.yticks(fontsize = 8)\n",
    "plt.title(\"Statistical Association Between Exposition Status and Phenotypes\", \n",
    "          loc=\"center\",\n",
    "          style=\"oblique\", \n",
    "          fontsize = 20,\n",
    "         y=1)\n",
    "xticks = ax.xaxis.get_major_ticks()\n",
    "handles, labels = ax.get_legend_handles_labels()\n",
    "plt.legend(handles = handles, labels = labels, loc = \"upper left\")\n",
    "plt.show()"
   ]
  },
  {
   "cell_type": "markdown",
   "metadata": {},
   "source": [
    "Overall, it appears that most of the tested phenotypes covariates are above the adjusted threshold of significant association. However, it is not surprising at all, given the nature of our dependent variable: a lot of those variables are by nature tied directly to the COPD status."
   ]
  },
  {
   "cell_type": "markdown",
   "metadata": {},
   "source": [
    "This code can be used directly with any other variable present in the variable Dictionary. It only need to change the `dependent_var_name` value."
   ]
  },
  {
   "cell_type": "markdown",
   "metadata": {},
   "source": [
    "# Odds Ratio table"
   ]
  },
  {
   "cell_type": "code",
   "execution_count": null,
   "metadata": {},
   "outputs": [],
   "source": [
    "- Univarai"
   ]
  },
  {
   "cell_type": "code",
   "execution_count": null,
   "metadata": {},
   "outputs": [],
   "source": [
    "\n",
    "query = query.select().add(variables)"
   ]
  }
 ],
 "metadata": {
  "kernelspec": {
   "display_name": "Python 3.6",
   "language": "python",
   "name": "dbmi_jupyterhub"
  },
  "language_info": {
   "codemirror_mode": {
    "name": "ipython",
    "version": 3
   },
   "file_extension": ".py",
   "mimetype": "text/x-python",
   "name": "python",
   "nbconvert_exporter": "python",
   "pygments_lexer": "ipython3",
   "version": "3.6.9"
  }
 },
 "nbformat": 4,
 "nbformat_minor": 4
}
