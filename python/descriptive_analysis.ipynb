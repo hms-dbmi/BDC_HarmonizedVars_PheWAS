{
 "cells": [
  {
   "cell_type": "code",
   "execution_count": null,
   "metadata": {
    "jupyter": {
     "outputs_hidden": true
    }
   },
   "outputs": [],
   "source": [
    "import sys\n",
    "!{sys.executable} -m pip install -r requirements.txt\n",
    "!{sys.executable} -m pip install --upgrade --force-reinstall git+https://github.com/hms-dbmi/pic-sure-python-adapter-hpds.git@\n",
    "!{sys.executable} -m pip install --upgrade --force-reinstall git+https://github.com/hms-dbmi/pic-sure-python-client.git "
   ]
  },
  {
   "cell_type": "code",
   "execution_count": null,
   "metadata": {},
   "outputs": [],
   "source": [
    "from pprint import pprint\n",
    "from datetime import datetime\n",
    "import matplotlib.pyplot as plt\n",
    "\n",
    "import pandas as pd\n",
    "import numpy as np\n",
    "\n",
    "import PicSureHpdsLib\n",
    "import PicSureClient\n",
    "\n",
    "from python_lib.utils import get_multiIndex_variablesDict,\\\n",
    "                             joining_variablesDict_onCol,\\\n",
    "                             get_one_study\n",
    "from python_lib.wrappers import get_HPDS_connection, query_runner"
   ]
  },
  {
   "cell_type": "code",
   "execution_count": null,
   "metadata": {},
   "outputs": [],
   "source": [
    "# Pandas DataFrame display options\n",
    "pd.set_option(\"max.rows\", 435)\n",
    "\n",
    "# Matplotlib display parameters\n",
    "plt.rcParams[\"figure.figsize\"] = (14,8)\n",
    "font = {'weight' : 'bold',\n",
    "        'size'   : 12}\n",
    "plt.rc('font', **font)"
   ]
  },
  {
   "cell_type": "code",
   "execution_count": null,
   "metadata": {},
   "outputs": [],
   "source": [
    "PICSURE_network_URL = \"https://picsure.biodatacatalyst.nhlbi.nih.gov/picsure\"\n",
    "resource_id = \"02e23f52-f354-4e8b-992c-d37c8b9ba140\"\n",
    "token_file = \"token.txt\""
   ]
  },
  {
   "cell_type": "code",
   "execution_count": null,
   "metadata": {},
   "outputs": [],
   "source": [
    "with open(token_file, \"r\") as f:\n",
    "    token = f.read()"
   ]
  },
  {
   "cell_type": "code",
   "execution_count": null,
   "metadata": {},
   "outputs": [],
   "source": [
    "resource = get_HPDS_connection(token)"
   ]
  },
  {
   "cell_type": "markdown",
   "metadata": {},
   "source": [
    "## Get studies information"
   ]
  },
  {
   "cell_type": "code",
   "execution_count": null,
   "metadata": {},
   "outputs": [],
   "source": [
    "from ast import literal_eval\n",
    "studies_info = pd.read_csv(\"../studies_info.csv\",\n",
    "                           index_col=0, \n",
    "                          converters={\"phs_list\": literal_eval})"
   ]
  },
  {
   "cell_type": "markdown",
   "metadata": {},
   "source": [
    "## Get variable informations"
   ]
  },
  {
   "cell_type": "code",
   "execution_count": null,
   "metadata": {},
   "outputs": [],
   "source": [
    "plain_variablesDict = resource.dictionary().find().DataFrame()\n",
    "variablesDict = get_multiIndex_variablesDict(resource.dictionary().find().DataFrame())\n",
    "\n",
    "mask_consent_var = plain_variablesDict.index.str.contains(\"Study Accession with Consent Code\")\n",
    "consent_var = plain_variablesDict.index[mask_consent_var].values[0]\n",
    "\n",
    "#for phs in phs_index:"
   ]
  },
  {
   "cell_type": "code",
   "execution_count": null,
   "metadata": {},
   "outputs": [],
   "source": [
    "from python_lib.descriptive_scripts import quality_filtering,\\\n",
    "inferring_categorical_columns,\\\n",
    "get_study_variables_info"
   ]
  },
  {
   "cell_type": "code",
   "execution_count": null,
   "metadata": {},
   "outputs": [],
   "source": [
    "study_name = \"Genetic Epidemiology of COPD (COPDGene)\"\n",
    "phs = [\"phs000179\"]\n",
    "studies_phs = studies_info.index.values\n",
    "studies_phs = studies_phs[[1, 4, 5]]"
   ]
  },
  {
   "cell_type": "code",
   "execution_count": null,
   "metadata": {},
   "outputs": [],
   "source": [
    "studies_info.loc[phs,:]"
   ]
  },
  {
   "cell_type": "code",
   "execution_count": null,
   "metadata": {},
   "outputs": [],
   "source": [
    "resource = get_HPDS_connection(token)"
   ]
  },
  {
   "cell_type": "code",
   "execution_count": null,
   "metadata": {},
   "outputs": [],
   "source": [
    "query = resource.query()"
   ]
  },
  {
   "cell_type": "code",
   "execution_count": null,
   "metadata": {},
   "outputs": [],
   "source": [
    "study_df = get_one_study(resource, \n",
    "                         phs,\n",
    "                         studies_info,\n",
    "                         variablesDict,\n",
    "                         low_memory=False)"
   ]
  },
  {
   "cell_type": "code",
   "execution_count": null,
   "metadata": {},
   "outputs": [],
   "source": [
    "consent_var"
   ]
  },
  {
   "cell_type": "code",
   "execution_count": null,
   "metadata": {},
   "outputs": [],
   "source": [
    "## Selecting the study\n",
    "list_var_info_df = []\n",
    "for phs in studies_phs:\n",
    "    time_beginning_loop = datetime.now()\n",
    "    print(study_name)\n",
    "    phs = studies_info.loc[study_name, \"phs\"]\n",
    "    ## Retrieve a specific study\n",
    "    study_df = get_one_study(resource, \n",
    "                             phs,\n",
    "                             studies_info,\n",
    "                             variablesDict,\n",
    "                             low_memory=False)\n",
    "\n",
    "    ## Get individual studies statistics\n",
    "    inferred_cat_columns = inferring_categorical_columns(study_df)\n",
    "    study_df[inferred_cat_columns] = study_df[inferred_cat_columns].astype(str)\n",
    "    variables_to_drop = quality_filtering(study_df)\n",
    "    filtered_df = study_df.drop(variables_to_drop, axis=1)\n",
    "    nest_dic = get_study_variables_info(study_df, filtered_df)\n",
    "\n",
    "    var_info_df = pd.DataFrame({(i, j): nest_dic[i][j]\n",
    "                                for i in nest_dic.keys()\n",
    "                                for j in nest_dic[i].keys()},\n",
    "                           index=[study_name]\n",
    "                                )\n",
    "    list_var_info_df.append(var_info_df)\n",
    "    print(\"Elapsed time: {0}\".format(datetime.now() - time_beginning_loop))"
   ]
  },
  {
   "cell_type": "code",
   "execution_count": null,
   "metadata": {},
   "outputs": [],
   "source": [
    "dic_test = {(i, j): nest_dic[i][j] for i in nest_dic.keys()\n",
    "                                for j in nest_dic[i].keys()}"
   ]
  },
  {
   "cell_type": "code",
   "execution_count": null,
   "metadata": {},
   "outputs": [],
   "source": [
    "pd.concat(list_var_info_df)"
   ]
  },
  {
   "cell_type": "markdown",
   "metadata": {},
   "source": [
    "## Matplotlib palettes"
   ]
  },
  {
   "cell_type": "code",
   "execution_count": null,
   "metadata": {},
   "outputs": [],
   "source": [
    "import sys\n",
    "!{sys.executable} -m pip install colorspacious"
   ]
  },
  {
   "cell_type": "code",
   "execution_count": null,
   "metadata": {},
   "outputs": [],
   "source": [
    "from matplotlib import cm\n",
    "from colorspacious import cspace_converter\n",
    "from collections import OrderedDict\n",
    "\n",
    "cmaps = OrderedDict()"
   ]
  },
  {
   "cell_type": "code",
   "execution_count": null,
   "metadata": {},
   "outputs": [],
   "source": [
    "cmaps['Qualitative'] = ['Pastel1', 'Pastel2', 'Paired', 'Accent',\n",
    "                        'Dark2', 'Set1', 'Set2', 'Set3',\n",
    "                        'tab10', 'tab20', 'tab20b', 'tab20c']"
   ]
  },
  {
   "cell_type": "code",
   "execution_count": null,
   "metadata": {},
   "outputs": [],
   "source": [
    "cmaps[\"Qualitative\"][6]"
   ]
  },
  {
   "cell_type": "markdown",
   "metadata": {},
   "source": [
    "# Describe the study"
   ]
  },
  {
   "cell_type": "markdown",
   "metadata": {},
   "source": [
    "## BASIC STATISTICS"
   ]
  },
  {
   "cell_type": "code",
   "execution_count": null,
   "metadata": {},
   "outputs": [],
   "source": [
    "print(\"Number of subjects: {0}\\nNumber of variables: {1}\".format(*facts.shape))"
   ]
  },
  {
   "cell_type": "raw",
   "metadata": {},
   "source": [
    "eav_df = pd.DataFrame.from_dict({\"entities\": [], \n",
    "                                \"attributes\": [], \n",
    "                                \"values\": []}, \n",
    "                               orient=\"columns\")\n",
    "eav_dic = {}"
   ]
  },
  {
   "cell_type": "markdown",
   "metadata": {},
   "source": [
    "# Variable types description"
   ]
  },
  {
   "cell_type": "code",
   "execution_count": null,
   "metadata": {},
   "outputs": [],
   "source": [
    "var_dtypes = facts.dtypes.value_counts()\n",
    "#eav_dic[\"var_dtypes\"] = var_dtypes.to_dict()"
   ]
  },
  {
   "cell_type": "code",
   "execution_count": null,
   "metadata": {},
   "outputs": [],
   "source": [
    "fig, ax = plt.subplots()\n",
    "plt.bar(x=var_dtypes.index.astype(\"str\").tolist(), height=var_dtypes.values.tolist())\n",
    "for x, y in enumerate(var_dtypes):\n",
    "    ax.text(x, y, y, ha=\"center\", va=\"bottom\")\n",
    "ax.set_title(\"Variable count per variable type\")"
   ]
  },
  {
   "cell_type": "markdown",
   "metadata": {},
   "source": [
    "### Number of subjects (non-null values) per variable type"
   ]
  },
  {
   "cell_type": "code",
   "execution_count": null,
   "metadata": {},
   "outputs": [],
   "source": [
    "num = num_describe.loc[\"count\",:].to_frame().assign(dtype=\"numerical\")\n",
    "categorical = categorical_describe.loc[\"count\",:].to_frame().assign(dtype=\"categorical\")\n",
    "long_df = pd.concat([num, categorical], axis=0).astype({\"count\": int})"
   ]
  },
  {
   "cell_type": "code",
   "execution_count": null,
   "metadata": {},
   "outputs": [],
   "source": [
    "ax = long_df.boxplot(column = \"count\", by=\"dtype\", grid=False)\n",
    "ax.set_xlabel(\"Variable type\")\n",
    "ax.set_ylabel(\"Variable count\")\n",
    "ax.set_title(\"Variable count per dtype\")"
   ]
  },
  {
   "cell_type": "code",
   "execution_count": null,
   "metadata": {},
   "outputs": [],
   "source": [
    "fig, (ax1, ax2) = plt.subplots(1, 2, sharey=True)\n",
    "long_df.loc[long_df[\"dtype\"] == \"numerical\",:].hist(\"count\", color=\"tab:orange\", ax=ax1)\n",
    "ax1.set_title(\"Numerical variables\")\n",
    "long_df.loc[long_df[\"dtype\"] == \"categorical\",:].hist(\"count\", color=\"tab:blue\", ax=ax2)\n",
    "ax2.set_title(\"Categorical variables\")\n",
    "x_label = \"Number of subjects\"\n",
    "y_label = \"Variable count\"\n",
    "ax1.set_xlabel(x_label), ax2.set_xlabel(x_label)\n",
    "ax1.set_ylabel(y_label), ax2.set_ylabel(y_label)\n",
    "fig.suptitle(\"Number of subjects per variable type\")"
   ]
  },
  {
   "cell_type": "markdown",
   "metadata": {},
   "source": [
    "## CATEGORICAL VARIABLES DESCRIPTION"
   ]
  },
  {
   "cell_type": "code",
   "execution_count": null,
   "metadata": {},
   "outputs": [],
   "source": [
    "categorical_describe = facts.describe(include=['object'])\n",
    "categorical_describe"
   ]
  },
  {
   "cell_type": "code",
   "execution_count": null,
   "metadata": {},
   "outputs": [],
   "source": [
    "mask_id = categorical_describe.loc[\"freq\",:] != 1\n",
    "categorical_describe.loc[:, mask_id]"
   ]
  },
  {
   "cell_type": "markdown",
   "metadata": {},
   "source": [
    "### Number of modalities"
   ]
  },
  {
   "cell_type": "code",
   "execution_count": null,
   "metadata": {},
   "outputs": [],
   "source": [
    "max_nonnull = long_df[\"count\"].max()\n",
    "mask_categorical = facts.dtypes == \"object\"\n",
    "number_modalities = facts.loc[:, mask_categorical].apply(lambda x: x.unique().shape[0])\n",
    "filter_max_cat = max_nonnull*0.2\n",
    "mask_modalities = number_modalities.between(2, filter_max_cat)"
   ]
  },
  {
   "cell_type": "code",
   "execution_count": null,
   "metadata": {},
   "outputs": [],
   "source": [
    "ax = number_modalities[mask_modalities].value_counts().sort_index().plot(kind=\"bar\")\n",
    "ax.set_title(\"Number of modalities for categorical variable (filtering < {0} modalities)\".format(filter_max_cat.round(0)))\n",
    "ax.set_ylabel(\"Variable count\")\n",
    "ax.set_xlabel(\"Number of modalities\")"
   ]
  },
  {
   "cell_type": "markdown",
   "metadata": {},
   "source": [
    "### NUMERICAL VARIABLES DESCRIPTION"
   ]
  },
  {
   "cell_type": "code",
   "execution_count": null,
   "metadata": {},
   "outputs": [],
   "source": [
    "numerical_describe = facts.describe(include=[\"float\", \"int\"]).transpose()\n",
    "numerical_describe"
   ]
  },
  {
   "cell_type": "markdown",
   "metadata": {},
   "source": [
    "# Quality checking / data filtering"
   ]
  },
  {
   "cell_type": "markdown",
   "metadata": {},
   "source": [
    "Discarding data that did show the subsequent criteria:\n",
    "- Using variable name:\n",
    "    - Filtering variables which names includes: [\"ID\", \"identifiant\"]\n",
    "- Using variable distribution: \n",
    "    - No non-null values\n",
    "    - Only 1 unique value (ie every non-null values identical)\n",
    "\n",
    "Transforming data type:\n",
    "- Numerical data that only posess 2-3 distinct integer values: recoded as categorical\n",
    "- "
   ]
  },
  {
   "cell_type": "code",
   "execution_count": null,
   "metadata": {},
   "outputs": [],
   "source": [
    "var = np.NaN\n",
    "var.is_integer()"
   ]
  },
  {
   "cell_type": "code",
   "execution_count": null,
   "metadata": {},
   "outputs": [],
   "source": [
    "mask = facts.dtypes == \"int\"\n",
    "facts.loc[:, mask]"
   ]
  },
  {
   "cell_type": "code",
   "execution_count": null,
   "metadata": {},
   "outputs": [],
   "source": []
  }
 ],
 "metadata": {
  "kernelspec": {
   "display_name": "Python 3.6",
   "language": "python",
   "name": "dbmi_jupyterhub"
  },
  "language_info": {
   "codemirror_mode": {
    "name": "ipython",
    "version": 3
   },
   "file_extension": ".py",
   "mimetype": "text/x-python",
   "name": "python",
   "nbconvert_exporter": "python",
   "pygments_lexer": "ipython3",
   "version": "3.6.9"
  },
  "pycharm": {
   "stem_cell": {
    "cell_type": "raw",
    "metadata": {
     "collapsed": false
    },
    "source": []
   }
  }
 },
 "nbformat": 4,
 "nbformat_minor": 4
}
