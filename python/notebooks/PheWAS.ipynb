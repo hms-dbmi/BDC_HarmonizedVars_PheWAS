{
 "cells": [
  {
   "cell_type": "markdown",
   "metadata": {},
   "source": [
    "# Phenome-Wide analysis on TOPMed studies"
   ]
  },
  {
   "cell_type": "code",
   "execution_count": null,
   "metadata": {},
   "outputs": [],
   "source": [
    "import json\n",
    "from pprint import pprint\n",
    "\n",
    "import pandas as pd\n",
    "import numpy as np \n",
    "import matplotlib.pyplot as plt\n",
    "from scipy import stats"
   ]
  },
  {
   "cell_type": "code",
   "execution_count": null,
   "metadata": {},
   "outputs": [],
   "source": [
    "# Pandas DataFrame display options\n",
    "pd.set_option(\"max.rows\", 435)\n",
    "\n",
    "# Matplotlib display parameters\n",
    "fig_size = plt.rcParams[\"figure.figsize\"]\n",
    "fig_size[0] = 14\n",
    "fig_size[1] = 8\n",
    "plt.rcParams[\"figure.figsize\"] = fig_size\n",
    "font = {'weight' : 'bold',\n",
    "        'size'   : 12}\n",
    "plt.rc('font', **font)"
   ]
  },
  {
   "cell_type": "markdown",
   "metadata": {},
   "source": [
    "# Phenome-wide analysis using Harmonized Variables"
   ]
  },
  {
   "cell_type": "code",
   "execution_count": null,
   "metadata": {},
   "outputs": [],
   "source": [
    "harmonized = pd.read_csv(\"studies_stats/harmonized_details_stats.csv\", index_col=0)"
   ]
  },
  {
   "cell_type": "code",
   "execution_count": null,
   "metadata": {
    "collapsed": true,
    "jupyter": {
     "outputs_hidden": true
    }
   },
   "outputs": [],
   "source": [
    "harmonized.sort_values(\"unique values\", ascending=True)"
   ]
  },
  {
   "cell_type": "markdown",
   "metadata": {},
   "source": [
    "### Using following harmonized variables:\n",
    "- Sex (\\\\DCC Harmonized data set\\\\01 - Demographics\\\\Subject sex  as recorded by the study.\\\\)\n",
    "- Regular smoker status (\\\\DCC Harmonized data set\\\\03 - Baseline common covariates\\\\Indicates whether subject ever regularly smoked cigarettes.\\\\)\n",
    "- Hypertensive medication usage (\\\\DCC Harmonized data set\\\\05 - Blood pressure\\\\Indicator for use of antihypertensive medication at the time of blood pressure measurement.\\\\)"
   ]
  },
  {
   "cell_type": "markdown",
   "metadata": {},
   "source": [
    "# Included studies"
   ]
  },
  {
   "cell_type": "markdown",
   "metadata": {},
   "source": [
    "- Genetic Epidemiology of COPD (COPDGene)\n",
    "- Genetic Epidemiology Network of Arteriopathy (GENOA)\n",
    "- NHLBI TOPMed: Genetics of Cardiometabolic Health in the Amish\n",
    "- Genome-wide Association Study of Adiposity in Samoans\n",
    "- Genetics of Lipid Lowering Drugs and Diet Network (GOLDN) Lipidomics Study\n",
    "- Heart and Vascular Health Study (HVH)"
   ]
  },
  {
   "cell_type": "markdown",
   "metadata": {},
   "source": [
    "## Variable informations"
   ]
  },
  {
   "cell_type": "markdown",
   "metadata": {},
   "source": [
    "- Quality checking:\n",
    "    - Discarding following variables:\n",
    "        - Identifiers\n",
    "        - Only unique values / only null values\n",
    "- Variable type conversion to categorical\n",
    "- Counting non-null values to select studies"
   ]
  },
  {
   "cell_type": "code",
   "execution_count": null,
   "metadata": {},
   "outputs": [],
   "source": [
    "studies_info = pd.read_csv(\"studies_stats/studies_stats.csv\", index_col=0, header=[0, 1])\\\n",
    ".drop_duplicates()"
   ]
  },
  {
   "cell_type": "code",
   "execution_count": null,
   "metadata": {
    "collapsed": true,
    "jupyter": {
     "outputs_hidden": true
    }
   },
   "outputs": [],
   "source": [
    "studies_info"
   ]
  },
  {
   "cell_type": "code",
   "execution_count": null,
   "metadata": {},
   "outputs": [],
   "source": [
    "study_names = [\n",
    "    'Genetic Epidemiology of COPD (COPDGene)',\n",
    "    'Genetic Epidemiology Network of Arteriopathy (GENOA)',\n",
    "    'NHLBI TOPMed: Genetics of Cardiometabolic Health in the Amish',\n",
    "    'Genome-wide Association Study of Adiposity in Samoans',\n",
    "    'Genetics of Lipid Lowering Drugs and Diet Network (GOLDN) Lipidomics Study',\n",
    "    'Heart and Vascular Health Study (HVH)'\n",
    "]"
   ]
  },
  {
   "cell_type": "code",
   "execution_count": null,
   "metadata": {},
   "outputs": [],
   "source": [
    "studies_info.loc[study_names,]\\\n",
    ".sort_values((\"Number variables with non-null values\", \"Mean non-null value count per variable\"),\n",
    "                                            axis=0, ascending=False)"
   ]
  },
  {
   "cell_type": "markdown",
   "metadata": {},
   "source": [
    "# Gender"
   ]
  },
  {
   "cell_type": "code",
   "execution_count": null,
   "metadata": {},
   "outputs": [],
   "source": [
    "multiIndex_variablesDict = pd.read_csv(\"multiIndex_variablesDict.csv\", index_col=list(range(0, 13)), low_memory=False)"
   ]
  },
  {
   "cell_type": "markdown",
   "metadata": {},
   "source": [
    "## P-values"
   ]
  },
  {
   "cell_type": "code",
   "execution_count": null,
   "metadata": {},
   "outputs": [],
   "source": [
    "df_pvalues.shape"
   ]
  },
  {
   "cell_type": "code",
   "execution_count": null,
   "metadata": {},
   "outputs": [],
   "source": [
    "df_pvalues = pd.read_csv(\"df_pvalues.csv\", index_col=0)"
   ]
  },
  {
   "cell_type": "code",
   "execution_count": null,
   "metadata": {},
   "outputs": [],
   "source": [
    "df_pvalues.head()"
   ]
  },
  {
   "cell_type": "code",
   "execution_count": null,
   "metadata": {},
   "outputs": [],
   "source": [
    "adjusted_alpha = 0.05/len(df_pvalues[\"pvalue\"])"
   ]
  },
  {
   "cell_type": "code",
   "execution_count": null,
   "metadata": {},
   "outputs": [],
   "source": [
    "df_pvalues.loc[df_pvalues[\"pvalue\"] < adjusted_alpha,].shape"
   ]
  },
  {
   "cell_type": "markdown",
   "metadata": {},
   "source": [
    "## Manhattan plot"
   ]
  },
  {
   "cell_type": "code",
   "execution_count": null,
   "metadata": {
    "jupyter": {
     "source_hidden": true
    }
   },
   "outputs": [],
   "source": [
    "def manhattan_plot(df_pvalues,\n",
    "                   threshold_group_cat=5,\n",
    "                  title_plot=\"Statistical Association Between Exposition Status and Phenotypes\"):\n",
    "    \n",
    "    adjusted_alpha = 0.05/len(df_pvalues[\"pvalue\"])\n",
    "    df_pvalues[\"p_adj\"] = df_pvalues[\"pvalue\"] / len(df_pvalues[\"pvalue\"])\n",
    "    df_pvalues['log_p'] = -np.log10(df_pvalues['pvalue'])\n",
    "    \n",
    "    df_pvalues[\"group\"] = df_pvalues.index\n",
    "    group_counts = df_pvalues[\"group\"].value_counts()\n",
    "    group_to_merge = group_counts[group_counts < threshold_group_cat].index\n",
    "    mask_group_to_merge = df_pvalues[\"group\"].isin(group_to_merge)\n",
    "    df_pvalues.loc[mask_group_to_merge, \"group\"] = \"Other\"\n",
    "    df_pvalues = df_pvalues.sort_values(by=\"group\", axis=0)\n",
    "    \n",
    "    dic_renaming = {\n",
    "    'Genetic Epidemiology of COPD (COPDGene)': 'COPDGene',\n",
    "    'Genetic Epidemiology Network of Arteriopathy (GENOA)': 'GENOA',\n",
    "    'NHLBI TOPMed: Genetics of Cardiometabolic Health in the Amish': 'Genetics',\n",
    "    'Genome-wide Association Study of Adiposity in Samoans': 'GEWAS Samoans',\n",
    "    'Genetics of Lipid Lowering Drugs and Diet Network (GOLDN) Lipidomics Study': 'GOLDN',\n",
    "    'Heart and Vascular Health Study (HVH)': 'HVH'\n",
    "}\n",
    "    df_pvalues[\"group\"] = df_pvalues[\"group\"].replace(dic_renaming)\n",
    "    \n",
    "    df_pvalues[\"variable\"] = df_pvalues[\"variable\"].str.replace(\"[0-9]+[A-z]*\", \"\").to_frame()\n",
    "    order_studies = df_pvalues.index.get_level_values(0).unique().tolist()[::-1]\n",
    "    #df_pvalues = df_pvalues.reindex(order_studies, level=0)\n",
    "    fig = plt.figure()\n",
    "    ax = fig.add_subplot(111)\n",
    "    colors = plt.get_cmap('Set1')\n",
    "    x_labels = []\n",
    "    x_labels_pos = []\n",
    "\n",
    "    y_lims = (0, df_pvalues[\"log_p\"].max(skipna=True) + 50)\n",
    "    threshold_top_values = df_pvalues[\"log_p\"].sort_values(ascending=False)[0:6].iloc[-1]\n",
    "\n",
    "    df_pvalues[\"ind\"] = np.arange(1, len(df_pvalues)+1)\n",
    "    #df_pvalues[\"group\"] = df_pvalues[\"group\"].str.replace(\"[0-9]\", \"\")\n",
    "    df_grouped = df_pvalues.groupby(('group'))\n",
    "    for num, (name, group) in enumerate(df_grouped):\n",
    "        group.plot(kind='scatter', x='ind', y='log_p',color=colors.colors[num % len(colors.colors)], ax=ax, s=20)\n",
    "        x_labels.append(name)\n",
    "        x_labels_pos.append((group['ind'].iloc[-1] - (group['ind'].iloc[-1] - group['ind'].iloc[0])/2)) # Set label in the middle\n",
    "\n",
    "        pair_ind = 0 # To shift label which might overlap because to close\n",
    "        for n, row in group.iterrows():\n",
    "    #        if pair_ind %2 == 0:\n",
    "    #            shift = 1.1\n",
    "    #        else:\n",
    "    #            shift = -1.1\n",
    "            if row[\"log_p\"] > threshold_top_values:\n",
    "                ax.text(row['ind'] + 3, row[\"log_p\"] + 0.05, row[\"simplified_varName\"], rotation=0, alpha=1, size=8, color=\"black\")\n",
    "    #            pair_ind += 1\n",
    "\n",
    "    ax.set_xticks(x_labels_pos)\n",
    "    ax.set_xticklabels(x_labels)\n",
    "    ax.set_xlim([0, len(df_pvalues) +1])\n",
    "    ax.set_ylim(y_lims)\n",
    "    ax.set_ylabel('-log(p-values)', style=\"italic\")\n",
    "    ax.set_xlabel('Phenotypes', fontsize=15)\n",
    "    ax.axhline(y=-np.log10(adjusted_alpha), linestyle=\":\", color=\"black\", label=\"Bonferonni Adjusted Threshold\")\n",
    "    plt.xticks(fontsize = 9,rotation=30)\n",
    "    plt.yticks(fontsize = 8)\n",
    "    plt.title(title_plot, \n",
    "              loc=\"left\",\n",
    "              style=\"oblique\", \n",
    "              fontsize = 20,\n",
    "             y=1)\n",
    "    xticks = ax.xaxis.get_major_ticks()\n",
    "    handles, labels = ax.get_legend_handles_labels()\n",
    "    plt.legend(handles = handles, labels = labels, loc = \"upper left\")\n",
    "    plt.show()\n",
    "    return"
   ]
  },
  {
   "cell_type": "code",
   "execution_count": null,
   "metadata": {},
   "outputs": [],
   "source": [
    "manhattan_plot(df_pvalues, title_plot=\"Association Between Sex and Phenotypes\")"
   ]
  },
  {
   "cell_type": "markdown",
   "metadata": {},
   "source": [
    "## COPDGene"
   ]
  },
  {
   "cell_type": "code",
   "execution_count": null,
   "metadata": {},
   "outputs": [],
   "source": [
    "study_name = 'Genetic Epidemiology of COPD (COPDGene)'"
   ]
  },
  {
   "cell_type": "code",
   "execution_count": null,
   "metadata": {},
   "outputs": [],
   "source": [
    "study_df = df_pvalues.loc[study_name,:].copy()\n",
    "\n",
    "study_groups = multiIndex_variablesDict.loc[study_name, \"varName\"]\\\n",
    ".reset_index(1, drop=False)\\\n",
    ".reset_index(drop=True)\\\n",
    ".set_index(\"varName\")\n",
    "study_groups.columns = [\"grouping\"]\n",
    "\n",
    "study_df=study_df.join(study_groups, on=\"variable\")\n",
    "study_df = study_df.set_index(\"grouping\", drop=True)"
   ]
  },
  {
   "cell_type": "code",
   "execution_count": null,
   "metadata": {},
   "outputs": [],
   "source": [
    "manhattan_plot(study_df)"
   ]
  },
  {
   "cell_type": "markdown",
   "metadata": {},
   "source": [
    "## Genetic Epidemiology Network of Arteriopathy (GENOA)"
   ]
  },
  {
   "cell_type": "code",
   "execution_count": null,
   "metadata": {},
   "outputs": [],
   "source": [
    "study_name = 'Genetic Epidemiology Network of Arteriopathy (GENOA)'"
   ]
  },
  {
   "cell_type": "code",
   "execution_count": null,
   "metadata": {},
   "outputs": [],
   "source": [
    "study_df = df_pvalues.loc[study_name,:].copy()\n",
    "\n",
    "study_groups = multiIndex_variablesDict.loc[study_name, \"varName\"]\\\n",
    ".reset_index(1, drop=False)\\\n",
    ".reset_index(drop=True)\\\n",
    ".set_index(\"varName\")\n",
    "study_groups.columns = [\"grouping\"]\n",
    "\n",
    "study_df=study_df.join(study_groups, on=\"variable\")\n",
    "study_df = study_df.set_index(\"grouping\", drop=True)"
   ]
  },
  {
   "cell_type": "code",
   "execution_count": null,
   "metadata": {},
   "outputs": [],
   "source": [
    "manhattan_plot(study_df)"
   ]
  },
  {
   "cell_type": "markdown",
   "metadata": {},
   "source": [
    "## NHLBI TOPMed: Genetics of Cardiometabolic Health in the Amish"
   ]
  },
  {
   "cell_type": "code",
   "execution_count": null,
   "metadata": {},
   "outputs": [],
   "source": [
    "study_name = 'NHLBI TOPMed: Genetics of Cardiometabolic Health in the Amish'"
   ]
  },
  {
   "cell_type": "code",
   "execution_count": null,
   "metadata": {},
   "outputs": [],
   "source": [
    "study_df = df_pvalues.loc[study_name,:].copy()\n",
    "\n",
    "study_groups = multiIndex_variablesDict.loc[study_name, \"varName\"]\\\n",
    ".reset_index(0, drop=False)\\\n",
    ".reset_index(drop=True)\\\n",
    ".set_index(\"varName\")\n",
    "study_groups.columns = [\"grouping\"]\n",
    "\n",
    "study_df=study_df.join(study_groups, on=\"variable\")\n",
    "study_df = study_df.set_index(\"grouping\", drop=True)"
   ]
  },
  {
   "cell_type": "code",
   "execution_count": null,
   "metadata": {},
   "outputs": [],
   "source": [
    "manhattan_plot(study_df, threshold_group_cat=0)"
   ]
  },
  {
   "cell_type": "markdown",
   "metadata": {},
   "source": [
    "## Genome-wide Association Study of Adiposity in Samoans"
   ]
  },
  {
   "cell_type": "code",
   "execution_count": null,
   "metadata": {},
   "outputs": [],
   "source": [
    "study_name = 'Genome-wide Association Study of Adiposity in Samoans'"
   ]
  },
  {
   "cell_type": "code",
   "execution_count": null,
   "metadata": {},
   "outputs": [],
   "source": [
    "study_df = df_pvalues.loc[study_name,:].copy()\n",
    "\n",
    "study_groups = multiIndex_variablesDict.loc[study_name, \"varName\"]\\\n",
    ".reset_index(1, drop=False)\\\n",
    ".reset_index(drop=True)\\\n",
    ".set_index(\"varName\")\n",
    "study_groups.columns = [\"grouping\"]\n",
    "\n",
    "study_df=study_df.join(study_groups, on=\"variable\")\n",
    "study_df = study_df.set_index(\"grouping\", drop=True)"
   ]
  },
  {
   "cell_type": "code",
   "execution_count": null,
   "metadata": {},
   "outputs": [],
   "source": [
    "manhattan_plot(study_df)"
   ]
  },
  {
   "cell_type": "markdown",
   "metadata": {},
   "source": [
    "## Genetics of Lipid Lowering Drugs and Diet Network (GOLDN) Lipidomics Study"
   ]
  },
  {
   "cell_type": "code",
   "execution_count": null,
   "metadata": {},
   "outputs": [],
   "source": [
    "study_name = 'Genetics of Lipid Lowering Drugs and Diet Network (GOLDN) Lipidomics Study'"
   ]
  },
  {
   "cell_type": "code",
   "execution_count": null,
   "metadata": {},
   "outputs": [],
   "source": [
    "study_df = df_pvalues.loc[study_name,:].copy()\n",
    "\n",
    "study_groups = multiIndex_variablesDict.loc[study_name, \"varName\"]\\\n",
    ".reset_index(1, drop=False)\\\n",
    ".reset_index(drop=True)\\\n",
    ".set_index(\"varName\")\n",
    "study_groups.columns = [\"grouping\"]\n",
    "\n",
    "study_df=study_df.join(study_groups, on=\"variable\")\n",
    "study_df = study_df.set_index(\"grouping\", drop=True)"
   ]
  },
  {
   "cell_type": "code",
   "execution_count": null,
   "metadata": {},
   "outputs": [],
   "source": [
    "manhattan_plot(study_df)"
   ]
  },
  {
   "cell_type": "markdown",
   "metadata": {},
   "source": [
    "## Heart and Vascular Health Study (HVH)"
   ]
  },
  {
   "cell_type": "code",
   "execution_count": null,
   "metadata": {},
   "outputs": [],
   "source": [
    "study_name = 'Heart and Vascular Health Study (HVH)'"
   ]
  },
  {
   "cell_type": "code",
   "execution_count": null,
   "metadata": {},
   "outputs": [],
   "source": [
    "study_df = df_pvalues.loc[study_name,:].copy()\n",
    "\n",
    "study_groups = multiIndex_variablesDict.loc[study_name, \"varName\"]\\\n",
    ".reset_index(0, drop=False)\\\n",
    ".reset_index(drop=True)\\\n",
    ".set_index(\"varName\")\n",
    "study_groups.columns = [\"grouping\"]\n",
    "\n",
    "study_df=study_df.join(study_groups, on=\"variable\")\n",
    "study_df = study_df.set_index(\"grouping\", drop=True)"
   ]
  },
  {
   "cell_type": "code",
   "execution_count": null,
   "metadata": {},
   "outputs": [],
   "source": [
    "manhattan_plot(study_df)"
   ]
  },
  {
   "cell_type": "markdown",
   "metadata": {},
   "source": [
    "# Smoking status"
   ]
  },
  {
   "cell_type": "code",
   "execution_count": null,
   "metadata": {},
   "outputs": [],
   "source": [
    "df_pvalues_bis = pd.read_csv(\"df_pvalues_bis.csv\", index_col=[0, 1])\n",
    "df_pvalues_bis = df_pvalues_bis.rename_axis([\"study\", \"dependent_var\"], axis=0).reset_index(\"dependent_var\", drop=False)"
   ]
  },
  {
   "cell_type": "code",
   "execution_count": null,
   "metadata": {},
   "outputs": [],
   "source": [
    "mask_smoking = df_pvalues_bis[\"dependent_var\"] == \"\\\\DCC Harmonized data set\\\\03 - Baseline common covariates\\\\Indicates whether subject ever regularly smoked cigarettes.\\\\\"\n",
    "smoking_df = df_pvalues_bis.loc[mask_smoking, :].copy()"
   ]
  },
  {
   "cell_type": "code",
   "execution_count": null,
   "metadata": {},
   "outputs": [],
   "source": [
    "manhattan_plot(smoking_df)"
   ]
  },
  {
   "cell_type": "code",
   "execution_count": null,
   "metadata": {},
   "outputs": [],
   "source": [
    "df_pvalues_bis = pd.read_csv(\"df_pvalues_bis.csv\", index_col=[0, 1])\n",
    "df_pvalues_bis = df_pvalues_bis.rename_axis([\"study\", \"dependent_var\"], axis=0).reset_index(\"dependent_var\", drop=False)"
   ]
  },
  {
   "cell_type": "code",
   "execution_count": null,
   "metadata": {},
   "outputs": [],
   "source": [
    "mask_smoking = df_pvalues_bis[\"dependent_var\"] == \"\\\\DCC Harmonized data set\\\\03 - Baseline common covariates\\\\Indicates whether subject ever regularly smoked cigarettes.\\\\\"\n",
    "smoking_df = df_pvalues_bis.loc[mask_smoking, :].copy()"
   ]
  },
  {
   "cell_type": "markdown",
   "metadata": {},
   "source": [
    "### COPDGene"
   ]
  },
  {
   "cell_type": "code",
   "execution_count": null,
   "metadata": {},
   "outputs": [],
   "source": [
    "study_name = 'Genetic Epidemiology of COPD (COPDGene)'"
   ]
  },
  {
   "cell_type": "code",
   "execution_count": null,
   "metadata": {},
   "outputs": [],
   "source": [
    "study_df = smoking_df.loc[study_name,:].copy()\n",
    "\n",
    "study_groups = multiIndex_variablesDict.loc[study_name, \"varName\"]\\\n",
    ".reset_index(1, drop=False)\\\n",
    ".reset_index(drop=True)\\\n",
    ".set_index(\"varName\")\n",
    "study_groups.columns = [\"grouping\"]\n",
    "\n",
    "study_df=study_df.join(study_groups, on=\"variable\")\n",
    "study_df = study_df.set_index(\"grouping\", drop=True)"
   ]
  },
  {
   "cell_type": "code",
   "execution_count": null,
   "metadata": {},
   "outputs": [],
   "source": [
    "manhattan_plot(study_df)"
   ]
  },
  {
   "cell_type": "markdown",
   "metadata": {},
   "source": [
    "## Genetic Epidemiology Network of Arteriopathy (GENOA)"
   ]
  },
  {
   "cell_type": "code",
   "execution_count": null,
   "metadata": {},
   "outputs": [],
   "source": [
    "study_name = 'Genetic Epidemiology Network of Arteriopathy (GENOA)'"
   ]
  },
  {
   "cell_type": "code",
   "execution_count": null,
   "metadata": {},
   "outputs": [],
   "source": [
    "study_df = smoking_df.loc[study_name,:].copy()\n",
    "\n",
    "study_groups = multiIndex_variablesDict.loc[study_name, \"varName\"]\\\n",
    ".reset_index(1, drop=False)\\\n",
    ".reset_index(drop=True)\\\n",
    ".set_index(\"varName\")\n",
    "study_groups.columns = [\"grouping\"]\n",
    "\n",
    "study_df=study_df.join(study_groups, on=\"variable\")\n",
    "study_df = study_df.set_index(\"grouping\", drop=True)"
   ]
  },
  {
   "cell_type": "code",
   "execution_count": null,
   "metadata": {},
   "outputs": [],
   "source": [
    "manhattan_plot(study_df)"
   ]
  },
  {
   "cell_type": "markdown",
   "metadata": {},
   "source": [
    "## Genome-wide Association Study of Adiposity in Samoans"
   ]
  },
  {
   "cell_type": "code",
   "execution_count": null,
   "metadata": {},
   "outputs": [],
   "source": [
    "study_name = 'Genome-wide Association Study of Adiposity in Samoans'"
   ]
  },
  {
   "cell_type": "code",
   "execution_count": null,
   "metadata": {},
   "outputs": [],
   "source": [
    "study_df = smoking_df.loc[study_name,:].copy()\n",
    "\n",
    "study_groups = multiIndex_variablesDict.loc[study_name, \"varName\"]\\\n",
    ".reset_index(1, drop=False)\\\n",
    ".reset_index(drop=True)\\\n",
    ".set_index(\"varName\")\n",
    "study_groups.columns = [\"grouping\"]\n",
    "\n",
    "study_df=study_df.join(study_groups, on=\"variable\")\n",
    "study_df = study_df.set_index(\"grouping\", drop=True)"
   ]
  },
  {
   "cell_type": "code",
   "execution_count": null,
   "metadata": {},
   "outputs": [],
   "source": [
    "manhattan_plot(study_df)"
   ]
  },
  {
   "cell_type": "markdown",
   "metadata": {},
   "source": [
    "# Antihypertensive status"
   ]
  },
  {
   "cell_type": "code",
   "execution_count": null,
   "metadata": {},
   "outputs": [],
   "source": [
    "mask_aht_medication = df_pvalues_bis[\"dependent_var\"] == \"\\\\DCC Harmonized data set\\\\05 - Blood pressure\\\\Indicator for use of antihypertensive medication at the time of blood pressure measurement.\\\\\"\n",
    "aht_medication = df_pvalues_bis.loc[mask_aht_medication,:].copy()"
   ]
  },
  {
   "cell_type": "code",
   "execution_count": null,
   "metadata": {},
   "outputs": [],
   "source": [
    "manhattan_plot(aht_medication)"
   ]
  },
  {
   "cell_type": "markdown",
   "metadata": {},
   "source": [
    "## Genetic Epidemiology Network of Arteriopathy (GENOA)"
   ]
  },
  {
   "cell_type": "code",
   "execution_count": null,
   "metadata": {},
   "outputs": [],
   "source": [
    "study_name = 'Genetic Epidemiology Network of Arteriopathy (GENOA)'"
   ]
  },
  {
   "cell_type": "code",
   "execution_count": null,
   "metadata": {},
   "outputs": [],
   "source": [
    "study_df = aht_medication.loc[study_name,:].copy()\n",
    "\n",
    "study_groups = multiIndex_variablesDict.loc[study_name, \"varName\"]\\\n",
    ".reset_index(1, drop=False)\\\n",
    ".reset_index(drop=True)\\\n",
    ".set_index(\"varName\")\n",
    "study_groups.columns = [\"grouping\"]\n",
    "\n",
    "study_df=study_df.join(study_groups, on=\"variable\")\n",
    "study_df = study_df.set_index(\"grouping\", drop=True)"
   ]
  },
  {
   "cell_type": "code",
   "execution_count": null,
   "metadata": {},
   "outputs": [],
   "source": [
    "manhattan_plot(study_df, title_plot=\"Association with Hypertension Medication\")"
   ]
  },
  {
   "cell_type": "markdown",
   "metadata": {},
   "source": [
    "## Genome-wide Association Study of Adiposity in Samoans"
   ]
  },
  {
   "cell_type": "code",
   "execution_count": null,
   "metadata": {},
   "outputs": [],
   "source": [
    "study_name = 'Genome-wide Association Study of Adiposity in Samoans'"
   ]
  },
  {
   "cell_type": "code",
   "execution_count": null,
   "metadata": {},
   "outputs": [],
   "source": [
    "study_df = aht_medication.loc[study_name,:].copy()\n",
    "\n",
    "study_groups = multiIndex_variablesDict.loc[study_name, \"varName\"]\\\n",
    ".reset_index(1, drop=False)\\\n",
    ".reset_index(drop=True)\\\n",
    ".set_index(\"varName\")\n",
    "study_groups.columns = [\"grouping\"]\n",
    "\n",
    "study_df=study_df.join(study_groups, on=\"variable\")\n",
    "study_df = study_df.set_index(\"grouping\", drop=True)"
   ]
  },
  {
   "cell_type": "code",
   "execution_count": null,
   "metadata": {},
   "outputs": [],
   "source": [
    "manhattan_plot(study_df, title_plot=\"Association with Hypertension Medication\")"
   ]
  },
  {
   "cell_type": "markdown",
   "metadata": {},
   "source": [
    "## To be improved"
   ]
  },
  {
   "cell_type": "markdown",
   "metadata": {},
   "source": [
    "- Regex on variable names to get categories (example every variable name containing stenosis, blood pressure): possibility to leverage ontologies\n",
    "- Odds Ratio\n",
    "- Defining categories in a better way \n",
    "- PheWAS using different variants\n",
    "- Grouping subcategories across studies\n",
    "- Integrating all studies\n",
    "- Better description of individual studies"
   ]
  }
 ],
 "metadata": {
  "kernelspec": {
   "display_name": "Python 3",
   "language": "python",
   "name": "python3"
  },
  "language_info": {
   "codemirror_mode": {
    "name": "ipython",
    "version": 3
   },
   "file_extension": ".py",
   "mimetype": "text/x-python",
   "name": "python",
   "nbconvert_exporter": "python",
   "pygments_lexer": "ipython3",
   "version": "3.6.10"
  }
 },
 "nbformat": 4,
 "nbformat_minor": 4
}
