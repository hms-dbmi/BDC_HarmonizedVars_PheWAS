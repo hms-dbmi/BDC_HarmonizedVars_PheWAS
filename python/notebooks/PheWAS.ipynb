{
 "cells": [
  {
   "cell_type": "markdown",
   "metadata": {},
   "source": [
    "# Phenome-Wide analysis on TOPMed studies"
   ]
  },
  {
   "cell_type": "code",
   "execution_count": null,
   "metadata": {},
   "outputs": [],
   "source": [
    "import json\n",
    "from pprint import pprint\n",
    "\n",
    "import pandas as pd\n",
    "import numpy as np \n",
    "import matplotlib.pyplot as plt\n",
    "from scipy import stats"
   ]
  },
  {
   "cell_type": "code",
   "execution_count": null,
   "metadata": {},
   "outputs": [],
   "source": [
    "# Pandas DataFrame display options\n",
    "pd.set_option(\"max.rows\", 435)\n",
    "\n",
    "# Matplotlib display parameters\n",
    "fig_size = plt.rcParams[\"figure.figsize\"]\n",
    "fig_size[0] = 14\n",
    "fig_size[1] = 8\n",
    "plt.rcParams[\"figure.figsize\"] = fig_size\n",
    "font = {'weight' : 'bold',\n",
    "        'size'   : 12}\n",
    "plt.rc('font', **font)"
   ]
  },
  {
   "cell_type": "markdown",
   "metadata": {},
   "source": [
    "# Phenome-wide analysis using Harmonized Variables"
   ]
  },
  {
   "cell_type": "code",
   "execution_count": null,
   "metadata": {},
   "outputs": [],
   "source": [
    "harmonized = pd.read_csv(\"../studies_stats/harmonized_details_stats.csv\", index_col=None)\\\n",
    ".loc[lambda df: df[\"harmonized variables\"] != \"\\\\_Consents\\\\Short Study Accession with Consent Code\\\\\",:]\n",
    "\n",
    "pd.DataFrame(harmonized[\"harmonized variables\"].str.split(\"\\\\\").to_list())\\\n",
    ".rename({2: \"category\", 3: \"variable_name\"}, axis=1)\\\n",
    ".loc[:, [\"category\", \"variable_name\"]]\\\n",
    ".join(harmonized)\\\n",
    ".loc[lambda df: ~ df[\"variable_name\"].str.startswith(\"age\"), :]"
   ]
  },
  {
   "cell_type": "markdown",
   "metadata": {},
   "source": [
    "## Harmonized Variables Info"
   ]
  },
  {
   "cell_type": "markdown",
   "metadata": {},
   "source": [
    "- Quality checking:\n",
    "    - Discarding following variables:\n",
    "        - Identifiers\n",
    "        - Only unique values / only null values\n",
    "- Variable type conversion to categorical\n",
    "- Counting non-null values to select studies"
   ]
  },
  {
   "cell_type": "code",
   "execution_count": null,
   "metadata": {},
   "outputs": [],
   "source": [
    "studies_info = pd.read_csv(\"../env_variables/studies_info.csv\")\n",
    "mask_harmonized = studies_info[\"harmonized\"] == True\n",
    "harmonized_studies_info = studies_info[mask_harmonized]"
   ]
  },
  {
   "cell_type": "code",
   "execution_count": null,
   "metadata": {},
   "outputs": [],
   "source": [
    "harmonized_studies_info"
   ]
  },
  {
   "cell_type": "markdown",
   "metadata": {},
   "source": [
    "# Results"
   ]
  },
  {
   "cell_type": "code",
   "execution_count": null,
   "metadata": {},
   "outputs": [],
   "source": [
    "pprint(studies_info.loc[studies_info[\"phs\"].isin(studies), \"official_study_name\"].values.tolist())"
   ]
  },
  {
   "cell_type": "code",
   "execution_count": null,
   "metadata": {},
   "outputs": [],
   "source": [
    "df_pvalues = pd.read_csv(\"../results/df_results/df_pvalues.csv\", usecols=[\"level_1\", \"level_2\", \"pvalues\"])\\\n",
    ".rename({\"level_1\": \"Dependent Variable Complete Name\",\n",
    "         \"level_2\": \"Independent Variable Complete Name\",\n",
    "         \"pvalues\": \"pvalue\"}, axis=1)\\\n",
    ".set_index([\"Dependent Variable Complete Name\", \"Independent Variable Complete Name\"])"
   ]
  },
  {
   "cell_type": "code",
   "execution_count": null,
   "metadata": {},
   "outputs": [],
   "source": [
    "df_params = pd.read_csv(\"../results/df_results/df_params.csv\", usecols=[\"level_1\", \"level_2\", \"level_3\", \"level_4\", \"param\"])\\\n",
    ".rename({\"level_1\": \"Dependent Variable Complete Name\",\n",
    "         \"level_2\": \"Independent Variable Complete Name\",\n",
    "         \"level_3\": \"Categorical binary variable\",\n",
    "         \"level_4\": \"indicator\",\n",
    "         \"param\": \"value\"}, axis=1)"
   ]
  },
  {
   "cell_type": "code",
   "execution_count": null,
   "metadata": {},
   "outputs": [],
   "source": [
    "adjusted_alpha = 0.05 / len(wide_df_params)"
   ]
  },
  {
   "cell_type": "code",
   "execution_count": null,
   "metadata": {},
   "outputs": [],
   "source": [
    "wide_df_params = df_params.set_index([\"Dependent Variable Complete Name\", \n",
    "                                      \"Independent Variable Complete Name\",\n",
    "                                      \"Categorical binary variable\",\n",
    "                                      \"indicator\"])\\\n",
    ".unstack(\"indicator\")\\\n",
    ".droplevel(0, axis=1)\\\n",
    ".rename({\"pvalue\": \"pvalue_subcategory\"}, axis=1)\\\n",
    ".reset_index(\"Categorical binary variable\", drop=False)"
   ]
  },
  {
   "cell_type": "code",
   "execution_count": null,
   "metadata": {},
   "outputs": [],
   "source": [
    "wide_df_params[\"Categorical binary variable\"] = wide_df_params[\"Categorical binary variable\"].str.extract(r\"((?<=\\\\)[^\\\\.]+?$)\")"
   ]
  },
  {
   "cell_type": "code",
   "execution_count": null,
   "metadata": {},
   "outputs": [],
   "source": [
    "wide_df_params[\"pos_OR\"] = np.where(wide_df_params[\"OR\"] >= 1, wide_df_params[\"OR\"], 1/wide_df_params[\"OR\"])"
   ]
  },
  {
   "cell_type": "code",
   "execution_count": null,
   "metadata": {},
   "outputs": [],
   "source": [
    "wide_df_params[[\"OR\", \"lb\", \"ub\", \"pos_OR\"]] = wide_df_params[[\"OR\", \"lb\", \"ub\", \"pos_OR\"]].round(3)"
   ]
  },
  {
   "cell_type": "code",
   "execution_count": null,
   "metadata": {},
   "outputs": [],
   "source": [
    "wide_df_params[\"OR_CI\"] = \"[\" + wide_df_params[\"lb\"].astype(\"str\") + \"; \" + wide_df_params[\"ub\"].astype(\"str\") + \"]\""
   ]
  },
  {
   "cell_type": "code",
   "execution_count": null,
   "metadata": {},
   "outputs": [],
   "source": [
    "wide_df_results = df_pvalues.join(wide_df_params, how=\"left\").reset_index(drop=False)"
   ]
  },
  {
   "cell_type": "code",
   "execution_count": null,
   "metadata": {},
   "outputs": [],
   "source": [
    "wide_df_results[\"adjusted pvalue\"] = wide_df_results[\"pvalue\"] * len(wide_df_params)\n",
    "wide_df_results[\"adjusted pvalue_subcategory\"] = wide_df_results[\"adjusted pvalue_subcategory\"] * len(wide_df_params)\n",
    "wide_df_results[\"significant\"] = wide_df_results[\"pvalue\"] < adjusted_alpha\n",
    "wide_df_results[\"adjusted alpha\"] = adjusted_alpha"
   ]
  },
  {
   "cell_type": "code",
   "execution_count": null,
   "metadata": {},
   "outputs": [],
   "source": [
    "results_formated = pd.concat([wide_df_results,\n",
    "           pd.DataFrame(\n",
    "               wide_df_results[\"Dependent Variable Complete Name\"].str.split(\"\\\\\").tolist()\n",
    "           ).loc[:, [2, 3]]\n",
    "          ], axis=1)\\\n",
    ".rename({\n",
    "    2: \"Harmonized Variable Category\",\n",
    "    3: \"Harmonized Variable Name\"\n",
    "}, axis=1)"
   ]
  },
  {
   "cell_type": "code",
   "execution_count": null,
   "metadata": {},
   "outputs": [],
   "source": [
    "variablesDict = pd.read_csv(\"../env_variables/multiIndex_variablesDict.csv\", low_memory=False)\\\n",
    "[[\"name\", \"simplified_name\", \"categoryValues\", \"observationCount\", \"categorical\", \"nb_modalities\", \"level_0\"]]\\\n",
    ".rename({\"level_0\": \"BDC study\",\n",
    "        \"simplified_name\": \"Dependent Variable Name\"}, axis=1)\\\n",
    ".set_index(\"name\")"
   ]
  },
  {
   "cell_type": "code",
   "execution_count": null,
   "metadata": {},
   "outputs": [],
   "source": [
    "variablesDict[\"categorical_ref_value\"] = variablesDict[\"categoryValues\"].str.extract(\"((?<=')[^'.]+?(?='\\]$))\")"
   ]
  },
  {
   "cell_type": "code",
   "execution_count": null,
   "metadata": {},
   "outputs": [],
   "source": [
    "results_formated = results_formated.join(variablesDict, on=\"Independent Variable Complete Name\", how=\"inner\")"
   ]
  },
  {
   "cell_type": "code",
   "execution_count": null,
   "metadata": {},
   "outputs": [],
   "source": [
    "results_formated[\n",
    "    [\"BDC study\", \n",
    "     \"Harmonized Variable Category\",\n",
    "     \"Harmonized Variable Name\",\n",
    "     \"Dependent Variable Name\",\n",
    "     \"Categorical binary variable\",\n",
    "     \"categorical_ref_value\",\n",
    "     \"pvalue\",\n",
    "     \"adjusted pvalue\", \n",
    "     \"OR\", \n",
    "     \"OR_CI\",\n",
    "     \"pvalue_subcategory\", \n",
    "     \"adjusted pvalue_subcategory\",\n",
    "     \"lb\", \"ub\", \"pos_OR\", \n",
    "     \"significant\",\n",
    "     \"Dependent Variable Complete Name\", \n",
    "     \"Independent Variable Complete Name\", \n",
    "     \"observationCount\", \"categorical\", \"nb_modalities\"]\n",
    "]\\\n",
    ".to_csv(\"../results/results_formated.csv\", index=False)"
   ]
  },
  {
   "cell_type": "markdown",
   "metadata": {},
   "source": [
    "## Plots"
   ]
  },
  {
   "cell_type": "code",
   "execution_count": null,
   "metadata": {
    "jupyter": {
     "outputs_hidden": true
    }
   },
   "outputs": [],
   "source": [
    "wide_df_params[\"OR\"].replace({np.inf: np.NaN, -np.inf: np.NaN}).dropna().loc[lambda x: x<=10].plot(kind=\"hist\", bins=100)"
   ]
  },
  {
   "cell_type": "code",
   "execution_count": null,
   "metadata": {},
   "outputs": [],
   "source": [
    "wide_df_params[\"pos_OR\"].replace({np.inf: np.NaN, -np.inf: np.NaN}).dropna().loc[lambda x: x<=50].plot(kind=\"hist\", bins=100)"
   ]
  },
  {
   "cell_type": "code",
   "execution_count": null,
   "metadata": {},
   "outputs": [],
   "source": [
    "studies = df_pvalues.loc[df_pvalues[\"pvalues\"].notnull(), \"level_0\"].unique()\n",
    "number_included_studies = len(studies)"
   ]
  },
  {
   "cell_type": "code",
   "execution_count": null,
   "metadata": {},
   "outputs": [],
   "source": [
    "print(\"Number of studies with at least one non null pvalue {}\".format(number_included_studies))"
   ]
  },
  {
   "cell_type": "code",
   "execution_count": null,
   "metadata": {},
   "outputs": [],
   "source": [
    "df_pvalues.groupby(\"level_0\").size().sort_values().reindex(studies_info.set_index(\"phs\")[\"official_study_name\"].to_dict()).dropna()"
   ]
  },
  {
   "cell_type": "code",
   "execution_count": null,
   "metadata": {},
   "outputs": [],
   "source": [
    "df_pvalues.loc[df_pvalues[\"pvalues\"].notnull(),:]"
   ]
  },
  {
   "cell_type": "code",
   "execution_count": null,
   "metadata": {},
   "outputs": [],
   "source": [
    "results_grouped = df_params.pivot_table(columns=\"level_4\", index=[\"level_0\", \"level_1\", \"level_2\"], values=\"param\")\\\n",
    ".sort_values(\"pvalue\")"
   ]
  },
  {
   "cell_type": "code",
   "execution_count": null,
   "metadata": {},
   "outputs": [],
   "source": [
    "from typing import List\n",
    "\n",
    "def get_plt_grid_indices(nb_values: int=None, \n",
    "                         nb_cols  : int=None, \n",
    "                         nb_rows  : int=None) -> List[tuple]:\n",
    "    \"\"\"\n",
    "    A utility function to get list of tuples (matplotlib-like grid indices) from given parameters\n",
    "    Iterate column first\n",
    "    Return \n",
    "    \"\"\"\n",
    "    passed_args = locals()\n",
    "    def _check_args(nb_values=None, \n",
    "                   nb_cols=None, \n",
    "                   nb_rows=None):\n",
    "        args = locals()\n",
    "        args = {k:v for k,v in args.items() if v is not None}\n",
    "        if len(args) == 3:\n",
    "            assert(args[\"nb_cols\"] * args[\"nb_rows\"] >= args[\"nb_values\"]), \"discrepancies in the passed arguments values\"\n",
    "            assert((max(args[\"nb_cols\"], args[\"nb_rows\"]) - 1) * min(args[\"nb_cols\"], args[\"nb_rows\"]) < args[\"nb_values\"]), \"discrepancies in the passed arguments values\"\n",
    "        elif (len(args) == 1) & (\"nb_values\" not in args):\n",
    "            raise ValueError(\"Only {0} passed, please pass the complementary\\\n",
    "            dimension argument, or the nb_values\".format(args))\n",
    "        elif len(args) == 0:\n",
    "            raise ValueError(\"No arguments passed\")\n",
    "\n",
    "    def _get_complementary_values(nb_values: int=None, \n",
    "                                  nb_cols  : int=None, \n",
    "                                  nb_rows  : int=None) -> tuple:\n",
    "        args = locals()\n",
    "        args = {k:v for k,v in args.items() if v is not None}\n",
    "        if (\"nb_values\" in args) & (len(args) == 1):\n",
    "            nb_cols = np.floor(np.sqrt(nb_values))\n",
    "            nb_rows = nb_cols + 1\n",
    "            return int(nb_values), int(nb_cols), int(nb_rows)\n",
    "        elif (\"nb_values\" in args) & (len(args) == 2):\n",
    "            if \"nb_cols\" in args:\n",
    "                nb_rows = np.ceil(nb_values/nb_cols)\n",
    "            elif \"nb_rows\" in args:\n",
    "                nb_cols = np.ceil(nb_values/nb_rows)\n",
    "            return int(nb_values), int(nb_cols), int(nb_rows)\n",
    "        elif \"nb_values\" not in args:\n",
    "            nb_values = nb_rows * nb_cols\n",
    "            return int(nb_values), int(nb_cols), int(nb_rows)\n",
    "        else:\n",
    "            return nb_values, nb_cols, nb_rows\n",
    "    \n",
    "    def _get_facet_grid_vec(nb_values, nb_cols, nb_rows):\n",
    "        first_dim = np.arange(0, nb_cols)\n",
    "        second_dim = np.arange(0, nb_rows)\n",
    "        vec_indices = []\n",
    "        for ind_col in second_dim:\n",
    "            for ind_row in first_dim:\n",
    "                vec_indices.append((ind_col, ind_row))\n",
    "        return vec_indices[0:nb_values]\n",
    "    \n",
    "    _check_args(**passed_args)\n",
    "    nb_values, nb_cols, nb_rows = _get_complementary_values(**passed_args)\n",
    "    vec_indices = _get_facet_grid_vec(nb_values, nb_cols, nb_rows)\n",
    "    return vec_indices, (nb_cols, nb_rows)"
   ]
  },
  {
   "cell_type": "code",
   "execution_count": null,
   "metadata": {},
   "outputs": [],
   "source": [
    "nb_tested_var = df_pvalues[\"level_1\"].nunique()"
   ]
  },
  {
   "cell_type": "code",
   "execution_count": null,
   "metadata": {},
   "outputs": [],
   "source": [
    "grouped_df = df_pvalues.groupby(\"level_1\")"
   ]
  },
  {
   "cell_type": "code",
   "execution_count": null,
   "metadata": {},
   "outputs": [],
   "source": [
    "adjusted_alpha = 0.05 / len(df_pvalues[\"pvalues\"])\n",
    "df_pvalues[\"p_adj\"] = df_pvalues[\"pvalues\"] * len(df_pvalues[\"pvalues\"])"
   ]
  },
  {
   "cell_type": "code",
   "execution_count": null,
   "metadata": {},
   "outputs": [],
   "source": [
    "df_pvalues['log_p'] = -np.log10(df_pvalues['pvalues'])\n",
    "df_pvalues = df_pvalues.replace({np.inf: np.NaN})"
   ]
  },
  {
   "cell_type": "code",
   "execution_count": null,
   "metadata": {},
   "outputs": [],
   "source": [
    "df_pvalues[\"log_p\"] = -np.log10(df_pvalues[\"pvalues\"])\n",
    "df_pvalues[\"log_p_adj\"] = -np.log10(df_pvalues[\"p_adj\"])\n",
    "\n",
    "df_pvalues = df_pvalues.replace({np.inf: np.NaN})\n",
    "\n",
    "fig = plt.figure()\n",
    "ax = fig.add_subplot(111)\n",
    "colors = plt.get_cmap('Set1')\n",
    "x_labels = []\n",
    "x_labels_pos = []\n",
    "\n",
    "y_lims = (0, df_pvalues[\"log_p\"].max(skipna=True) + 50)\n",
    "threshold_top_values = df_pvalues[\"log_p\"].sort_values(ascending=False)[0:6].iloc[-1]\n",
    "\n",
    "df_pvalues[\"ind\"] = np.arange(1, len(df_pvalues) + 1)\n",
    "# df_pvalues[\"group\"] = df_pvalues[\"group\"].str.replace(\"[0-9]\", \"\")\n",
    "df_grouped = df_pvalues.groupby(('level_0'))\n",
    "for num, (name, group) in enumerate(df_grouped):\n",
    "    group.plot(kind='scatter', x='ind', y='log_p', color=colors.colors[num % len(colors.colors)], ax=ax, s=20)\n",
    "    x_labels.append(name)\n",
    "    x_labels_pos.append(\n",
    "        (group['ind'].iloc[-1] - (group['ind'].iloc[-1] - group['ind'].iloc[0]) / 2))  # Set label in the middle\n",
    "\n"
   ]
  },
  {
   "cell_type": "code",
   "execution_count": null,
   "metadata": {},
   "outputs": [],
   "source": [
    "harmonized_var = df_pvalues[\"level_1\"].unique()\n"
   ]
  },
  {
   "cell_type": "code",
   "execution_count": null,
   "metadata": {},
   "outputs": [],
   "source": [
    "print(harmonized_var[0])"
   ]
  },
  {
   "cell_type": "code",
   "execution_count": null,
   "metadata": {},
   "outputs": [],
   "source": [
    "sub_df = df_pvalues.loc[df_pvalues[\"level_1\"] == harmonized_var[0], :].copy()"
   ]
  },
  {
   "cell_type": "code",
   "execution_count": null,
   "metadata": {},
   "outputs": [],
   "source": [
    "sub_df[\"ind\"] = np.arange(1, len(sub_df) + 1)\n",
    "# df_pvalues[\"group\"] = df_pvalues[\"group\"].str.replace(\"[0-9]\", \"\")\n",
    "df_grouped = sub_df.groupby(('level_0'))\n",
    "for num, (name, group) in enumerate(df_grouped):\n",
    "    group.plot(kind='scatter', x='ind', y='log_p', color=colors.colors[num % len(colors.colors)], ax=ax, s=20)\n",
    "    x_labels.append(name)\n",
    "    x_labels_pos.append(\n",
    "        (group['ind'].iloc[-1] - (group['ind'].iloc[-1] - group['ind'].iloc[0]) / 2))  # Set label in the middle"
   ]
  },
  {
   "cell_type": "code",
   "execution_count": null,
   "metadata": {},
   "outputs": [],
   "source": [
    "sub_df.loc[sub_df[\"pvalues\"].notnull(),:]"
   ]
  },
  {
   "cell_type": "code",
   "execution_count": null,
   "metadata": {},
   "outputs": [],
   "source": [
    "indices = get_plt_grid_indices(nb_tested_var)\n",
    "f, axes = plt.subplots(3, 3, sharey=True)\n",
    "# df_pvalues[\"group\"] = df_pvalues[\"group\"].str.replace(\"[0-9]\", \"\")\n",
    "for plot_indice, (covariate, df_group_1) in enumerate(df_pvalues.groupby(\"level_1\")):\n",
    "    df_grouped = df_group_1.groupby(('level_0'))\n",
    "    n_col = indices[plot_indice][0]\n",
    "    n_rows = indices[plot_indice][1]\n",
    "    ax = axes[n_col, n_rows]\n",
    "    for num, (name, group) in enumerate(df_grouped):\n",
    "        group.plot(kind='scatter', x='ind', y='log_p', color=colors.colors[num % len(colors.colors)], ax=ax, s=20)\n",
    "        x_labels.append(name)\n",
    "        x_labels_pos.append(\n",
    "            (group['ind'].iloc[-1] - (group['ind'].iloc[-1] - group['ind'].iloc[0]) / 2))  # Set label in the middle"
   ]
  },
  {
   "cell_type": "markdown",
   "metadata": {},
   "source": [
    "# Gender"
   ]
  },
  {
   "cell_type": "code",
   "execution_count": null,
   "metadata": {},
   "outputs": [],
   "source": [
    "multiIndex_variablesDict = pd.read_csv(\"multiIndex_variablesDict.csv\", index_col=list(range(0, 13)), low_memory=False)"
   ]
  },
  {
   "cell_type": "markdown",
   "metadata": {},
   "source": [
    "## P-values"
   ]
  },
  {
   "cell_type": "code",
   "execution_count": null,
   "metadata": {},
   "outputs": [],
   "source": [
    "df_pvalues.shape"
   ]
  },
  {
   "cell_type": "code",
   "execution_count": null,
   "metadata": {},
   "outputs": [],
   "source": [
    "df_pvalues = pd.read_csv(\"df_pvalues.csv\", index_col=0)"
   ]
  },
  {
   "cell_type": "code",
   "execution_count": null,
   "metadata": {},
   "outputs": [],
   "source": [
    "df_pvalues.head()"
   ]
  },
  {
   "cell_type": "code",
   "execution_count": null,
   "metadata": {},
   "outputs": [],
   "source": [
    "adjusted_alpha = 0.05/len(df_pvalues[\"pvalue\"])"
   ]
  },
  {
   "cell_type": "code",
   "execution_count": null,
   "metadata": {},
   "outputs": [],
   "source": [
    "df_pvalues.loc[df_pvalues[\"pvalue\"] < adjusted_alpha,].shape"
   ]
  },
  {
   "cell_type": "markdown",
   "metadata": {},
   "source": [
    "## Manhattan plot"
   ]
  },
  {
   "cell_type": "code",
   "execution_count": null,
   "metadata": {},
   "outputs": [],
   "source": [
    "def manhattan_plot(df_pvalues,\n",
    "                   threshold_group_cat=5,\n",
    "                  title_plot=\"Statistical Association Between Exposition Status and Phenotypes\"):\n",
    "    \n",
    "    adjusted_alpha = 0.05/len(df_pvalues[\"pvalue\"])\n",
    "    df_pvalues[\"p_adj\"] = df_pvalues[\"pvalue\"] / len(df_pvalues[\"pvalue\"])\n",
    "    df_pvalues['log_p'] = -np.log10(df_pvalues['pvalue'])\n",
    "    \n",
    "    df_pvalues[\"group\"] = df_pvalues.index\n",
    "    group_counts = df_pvalues[\"group\"].value_counts()\n",
    "    group_to_merge = group_counts[group_counts < threshold_group_cat].index\n",
    "    mask_group_to_merge = df_pvalues[\"group\"].isin(group_to_merge)\n",
    "    df_pvalues.loc[mask_group_to_merge, \"group\"] = \"Other\"\n",
    "    df_pvalues = df_pvalues.sort_values(by=\"group\", axis=0)\n",
    "    \n",
    "    dic_renaming = {\n",
    "    'Genetic Epidemiology of COPD (COPDGene)': 'COPDGene',\n",
    "    'Genetic Epidemiology Network of Arteriopathy (GENOA)': 'GENOA',\n",
    "    'NHLBI TOPMed: Genetics of Cardiometabolic Health in the Amish': 'Genetics',\n",
    "    'Genome-wide Association Study of Adiposity in Samoans': 'GEWAS Samoans',\n",
    "    'Genetics of Lipid Lowering Drugs and Diet Network (GOLDN) Lipidomics Study': 'GOLDN',\n",
    "    'Heart and Vascular Health Study (HVH)': 'HVH'\n",
    "}\n",
    "    df_pvalues[\"group\"] = df_pvalues[\"group\"].replace(dic_renaming)\n",
    "    \n",
    "    df_pvalues[\"variable\"] = df_pvalues[\"variable\"].str.replace(\"[0-9]+[A-z]*\", \"\").to_frame()\n",
    "    order_studies = df_pvalues.index.get_level_values(0).unique().tolist()[::-1]\n",
    "    #df_pvalues = df_pvalues.reindex(order_studies, level=0)\n",
    "    fig = plt.figure()\n",
    "    ax = fig.add_subplot(111)\n",
    "    colors = plt.get_cmap('Set1')\n",
    "    x_labels = []\n",
    "    x_labels_pos = []\n",
    "\n",
    "    y_lims = (0, df_pvalues[\"log_p\"].max(skipna=True) + 50)\n",
    "    threshold_top_values = df_pvalues[\"log_p\"].sort_values(ascending=False)[0:6].iloc[-1]\n",
    "\n",
    "    df_pvalues[\"ind\"] = np.arange(1, len(df_pvalues)+1)\n",
    "    #df_pvalues[\"group\"] = df_pvalues[\"group\"].str.replace(\"[0-9]\", \"\")\n",
    "    df_grouped = df_pvalues.groupby(('group'))\n",
    "    for num, (name, group) in enumerate(df_grouped):\n",
    "        group.plot(kind='scatter', x='ind', y='log_p',color=colors.colors[num % len(colors.colors)], ax=ax, s=20)\n",
    "        x_labels.append(name)\n",
    "        x_labels_pos.append((group['ind'].iloc[-1] - (group['ind'].iloc[-1] - group['ind'].iloc[0])/2)) # Set label in the middle\n",
    "\n",
    "        pair_ind = 0 # To shift label which might overlap because to close\n",
    "        for n, row in group.iterrows():\n",
    "    #        if pair_ind %2 == 0:\n",
    "    #            shift = 1.1\n",
    "    #        else:\n",
    "    #            shift = -1.1\n",
    "            if row[\"log_p\"] > threshold_top_values:\n",
    "                ax.text(row['ind'] + 3, row[\"log_p\"] + 0.05, row[\"simplified_varName\"], rotation=0, alpha=1, size=8, color=\"black\")\n",
    "    #            pair_ind += 1\n",
    "\n",
    "    ax.set_xticks(x_labels_pos)\n",
    "    ax.set_xticklabels(x_labels)\n",
    "    ax.set_xlim([0, len(df_pvalues) +1])\n",
    "    ax.set_ylim(y_lims)\n",
    "    ax.set_ylabel('-log(p-values)', style=\"italic\")\n",
    "    ax.set_xlabel('Phenotypes', fontsize=15)\n",
    "    ax.axhline(y=-np.log10(adjusted_alpha), linestyle=\":\", color=\"black\", label=\"Bonferonni Adjusted Threshold\")\n",
    "    plt.xticks(fontsize = 9,rotation=30)\n",
    "    plt.yticks(fontsize = 8)\n",
    "    plt.title(title_plot, \n",
    "              loc=\"left\",\n",
    "              style=\"oblique\", \n",
    "              fontsize = 20,\n",
    "             y=1)\n",
    "    xticks = ax.xaxis.get_major_ticks()\n",
    "    handles, labels = ax.get_legend_handles_labels()\n",
    "    plt.legend(handles = handles, labels = labels, loc = \"upper left\")\n",
    "    plt.show()\n",
    "    return"
   ]
  },
  {
   "cell_type": "code",
   "execution_count": null,
   "metadata": {},
   "outputs": [],
   "source": [
    "manhattan_plot(df_pvalues, title_plot=\"Association Between Sex and Phenotypes\")"
   ]
  },
  {
   "cell_type": "markdown",
   "metadata": {},
   "source": [
    "## COPDGene"
   ]
  },
  {
   "cell_type": "code",
   "execution_count": null,
   "metadata": {},
   "outputs": [],
   "source": [
    "study_name = 'Genetic Epidemiology of COPD (COPDGene)'"
   ]
  },
  {
   "cell_type": "code",
   "execution_count": null,
   "metadata": {},
   "outputs": [],
   "source": [
    "study_df = df_pvalues.loc[study_name,:].copy()\n",
    "\n",
    "study_groups = multiIndex_variablesDict.loc[study_name, \"varName\"]\\\n",
    ".reset_index(1, drop=False)\\\n",
    ".reset_index(drop=True)\\\n",
    ".set_index(\"varName\")\n",
    "study_groups.columns = [\"grouping\"]\n",
    "\n",
    "study_df=study_df.join(study_groups, on=\"variable\")\n",
    "study_df = study_df.set_index(\"grouping\", drop=True)"
   ]
  },
  {
   "cell_type": "code",
   "execution_count": null,
   "metadata": {},
   "outputs": [],
   "source": [
    "manhattan_plot(study_df)"
   ]
  },
  {
   "cell_type": "markdown",
   "metadata": {},
   "source": [
    "## Genetic Epidemiology Network of Arteriopathy (GENOA)"
   ]
  },
  {
   "cell_type": "code",
   "execution_count": null,
   "metadata": {},
   "outputs": [],
   "source": [
    "study_name = 'Genetic Epidemiology Network of Arteriopathy (GENOA)'"
   ]
  },
  {
   "cell_type": "code",
   "execution_count": null,
   "metadata": {},
   "outputs": [],
   "source": [
    "study_df = df_pvalues.loc[study_name,:].copy()\n",
    "\n",
    "study_groups = multiIndex_variablesDict.loc[study_name, \"varName\"]\\\n",
    ".reset_index(1, drop=False)\\\n",
    ".reset_index(drop=True)\\\n",
    ".set_index(\"varName\")\n",
    "study_groups.columns = [\"grouping\"]\n",
    "\n",
    "study_df=study_df.join(study_groups, on=\"variable\")\n",
    "study_df = study_df.set_index(\"grouping\", drop=True)"
   ]
  },
  {
   "cell_type": "code",
   "execution_count": null,
   "metadata": {},
   "outputs": [],
   "source": [
    "manhattan_plot(study_df)"
   ]
  },
  {
   "cell_type": "markdown",
   "metadata": {},
   "source": [
    "## NHLBI TOPMed: Genetics of Cardiometabolic Health in the Amish"
   ]
  },
  {
   "cell_type": "code",
   "execution_count": null,
   "metadata": {},
   "outputs": [],
   "source": [
    "study_name = 'NHLBI TOPMed: Genetics of Cardiometabolic Health in the Amish'"
   ]
  },
  {
   "cell_type": "code",
   "execution_count": null,
   "metadata": {},
   "outputs": [],
   "source": [
    "study_df = df_pvalues.loc[study_name,:].copy()\n",
    "\n",
    "study_groups = multiIndex_variablesDict.loc[study_name, \"varName\"]\\\n",
    ".reset_index(0, drop=False)\\\n",
    ".reset_index(drop=True)\\\n",
    ".set_index(\"varName\")\n",
    "study_groups.columns = [\"grouping\"]\n",
    "\n",
    "study_df=study_df.join(study_groups, on=\"variable\")\n",
    "study_df = study_df.set_index(\"grouping\", drop=True)"
   ]
  },
  {
   "cell_type": "code",
   "execution_count": null,
   "metadata": {},
   "outputs": [],
   "source": [
    "manhattan_plot(study_df, threshold_group_cat=0)"
   ]
  },
  {
   "cell_type": "markdown",
   "metadata": {},
   "source": [
    "## Genome-wide Association Study of Adiposity in Samoans"
   ]
  },
  {
   "cell_type": "code",
   "execution_count": null,
   "metadata": {},
   "outputs": [],
   "source": [
    "study_name = 'Genome-wide Association Study of Adiposity in Samoans'"
   ]
  },
  {
   "cell_type": "code",
   "execution_count": null,
   "metadata": {},
   "outputs": [],
   "source": [
    "study_df = df_pvalues.loc[study_name,:].copy()\n",
    "\n",
    "study_groups = multiIndex_variablesDict.loc[study_name, \"varName\"]\\\n",
    ".reset_index(1, drop=False)\\\n",
    ".reset_index(drop=True)\\\n",
    ".set_index(\"varName\")\n",
    "study_groups.columns = [\"grouping\"]\n",
    "\n",
    "study_df=study_df.join(study_groups, on=\"variable\")\n",
    "study_df = study_df.set_index(\"grouping\", drop=True)"
   ]
  },
  {
   "cell_type": "code",
   "execution_count": null,
   "metadata": {},
   "outputs": [],
   "source": [
    "manhattan_plot(study_df)"
   ]
  },
  {
   "cell_type": "markdown",
   "metadata": {},
   "source": [
    "## Genetics of Lipid Lowering Drugs and Diet Network (GOLDN) Lipidomics Study"
   ]
  },
  {
   "cell_type": "code",
   "execution_count": null,
   "metadata": {},
   "outputs": [],
   "source": [
    "study_name = 'Genetics of Lipid Lowering Drugs and Diet Network (GOLDN) Lipidomics Study'"
   ]
  },
  {
   "cell_type": "code",
   "execution_count": null,
   "metadata": {},
   "outputs": [],
   "source": [
    "study_df = df_pvalues.loc[study_name,:].copy()\n",
    "\n",
    "study_groups = multiIndex_variablesDict.loc[study_name, \"varName\"]\\\n",
    ".reset_index(1, drop=False)\\\n",
    ".reset_index(drop=True)\\\n",
    ".set_index(\"varName\")\n",
    "study_groups.columns = [\"grouping\"]\n",
    "\n",
    "study_df=study_df.join(study_groups, on=\"variable\")\n",
    "study_df = study_df.set_index(\"grouping\", drop=True)"
   ]
  },
  {
   "cell_type": "code",
   "execution_count": null,
   "metadata": {},
   "outputs": [],
   "source": [
    "manhattan_plot(study_df)"
   ]
  },
  {
   "cell_type": "markdown",
   "metadata": {},
   "source": [
    "## Heart and Vascular Health Study (HVH)"
   ]
  },
  {
   "cell_type": "code",
   "execution_count": null,
   "metadata": {},
   "outputs": [],
   "source": [
    "study_name = 'Heart and Vascular Health Study (HVH)'"
   ]
  },
  {
   "cell_type": "code",
   "execution_count": null,
   "metadata": {},
   "outputs": [],
   "source": [
    "study_df = df_pvalues.loc[study_name,:].copy()\n",
    "\n",
    "study_groups = multiIndex_variablesDict.loc[study_name, \"varName\"]\\\n",
    ".reset_index(0, drop=False)\\\n",
    ".reset_index(drop=True)\\\n",
    ".set_index(\"varName\")\n",
    "study_groups.columns = [\"grouping\"]\n",
    "\n",
    "study_df=study_df.join(study_groups, on=\"variable\")\n",
    "study_df = study_df.set_index(\"grouping\", drop=True)"
   ]
  },
  {
   "cell_type": "code",
   "execution_count": null,
   "metadata": {},
   "outputs": [],
   "source": [
    "manhattan_plot(study_df)"
   ]
  },
  {
   "cell_type": "markdown",
   "metadata": {},
   "source": [
    "# Smoking status"
   ]
  },
  {
   "cell_type": "code",
   "execution_count": null,
   "metadata": {},
   "outputs": [],
   "source": [
    "df_pvalues_bis = pd.read_csv(\"df_pvalues_bis.csv\", index_col=[0, 1])\n",
    "df_pvalues_bis = df_pvalues_bis.rename_axis([\"study\", \"dependent_var\"], axis=0).reset_index(\"dependent_var\", drop=False)"
   ]
  },
  {
   "cell_type": "code",
   "execution_count": null,
   "metadata": {},
   "outputs": [],
   "source": [
    "mask_smoking = df_pvalues_bis[\"dependent_var\"] == \"\\\\DCC Harmonized data set\\\\03 - Baseline common covariates\\\\Indicates whether subject ever regularly smoked cigarettes.\\\\\"\n",
    "smoking_df = df_pvalues_bis.loc[mask_smoking, :].copy()"
   ]
  },
  {
   "cell_type": "code",
   "execution_count": null,
   "metadata": {},
   "outputs": [],
   "source": [
    "manhattan_plot(smoking_df)"
   ]
  },
  {
   "cell_type": "code",
   "execution_count": null,
   "metadata": {},
   "outputs": [],
   "source": [
    "df_pvalues_bis = pd.read_csv(\"df_pvalues_bis.csv\", index_col=[0, 1])\n",
    "df_pvalues_bis = df_pvalues_bis.rename_axis([\"study\", \"dependent_var\"], axis=0).reset_index(\"dependent_var\", drop=False)"
   ]
  },
  {
   "cell_type": "code",
   "execution_count": null,
   "metadata": {},
   "outputs": [],
   "source": [
    "mask_smoking = df_pvalues_bis[\"dependent_var\"] == \"\\\\DCC Harmonized data set\\\\03 - Baseline common covariates\\\\Indicates whether subject ever regularly smoked cigarettes.\\\\\"\n",
    "smoking_df = df_pvalues_bis.loc[mask_smoking, :].copy()"
   ]
  },
  {
   "cell_type": "markdown",
   "metadata": {},
   "source": [
    "### COPDGene"
   ]
  },
  {
   "cell_type": "code",
   "execution_count": null,
   "metadata": {},
   "outputs": [],
   "source": [
    "study_name = 'Genetic Epidemiology of COPD (COPDGene)'"
   ]
  },
  {
   "cell_type": "code",
   "execution_count": null,
   "metadata": {},
   "outputs": [],
   "source": [
    "study_df = smoking_df.loc[study_name,:].copy()\n",
    "\n",
    "study_groups = multiIndex_variablesDict.loc[study_name, \"varName\"]\\\n",
    ".reset_index(1, drop=False)\\\n",
    ".reset_index(drop=True)\\\n",
    ".set_index(\"varName\")\n",
    "study_groups.columns = [\"grouping\"]\n",
    "\n",
    "study_df=study_df.join(study_groups, on=\"variable\")\n",
    "study_df = study_df.set_index(\"grouping\", drop=True)"
   ]
  },
  {
   "cell_type": "code",
   "execution_count": null,
   "metadata": {},
   "outputs": [],
   "source": [
    "manhattan_plot(study_df)"
   ]
  },
  {
   "cell_type": "markdown",
   "metadata": {},
   "source": [
    "## Genetic Epidemiology Network of Arteriopathy (GENOA)"
   ]
  },
  {
   "cell_type": "code",
   "execution_count": null,
   "metadata": {},
   "outputs": [],
   "source": [
    "study_name = 'Genetic Epidemiology Network of Arteriopathy (GENOA)'"
   ]
  },
  {
   "cell_type": "code",
   "execution_count": null,
   "metadata": {},
   "outputs": [],
   "source": [
    "study_df = smoking_df.loc[study_name,:].copy()\n",
    "\n",
    "study_groups = multiIndex_variablesDict.loc[study_name, \"varName\"]\\\n",
    ".reset_index(1, drop=False)\\\n",
    ".reset_index(drop=True)\\\n",
    ".set_index(\"varName\")\n",
    "study_groups.columns = [\"grouping\"]\n",
    "\n",
    "study_df=study_df.join(study_groups, on=\"variable\")\n",
    "study_df = study_df.set_index(\"grouping\", drop=True)"
   ]
  },
  {
   "cell_type": "code",
   "execution_count": null,
   "metadata": {},
   "outputs": [],
   "source": [
    "manhattan_plot(study_df)"
   ]
  },
  {
   "cell_type": "markdown",
   "metadata": {},
   "source": [
    "## Genome-wide Association Study of Adiposity in Samoans"
   ]
  },
  {
   "cell_type": "code",
   "execution_count": null,
   "metadata": {},
   "outputs": [],
   "source": [
    "study_name = 'Genome-wide Association Study of Adiposity in Samoans'"
   ]
  },
  {
   "cell_type": "code",
   "execution_count": null,
   "metadata": {},
   "outputs": [],
   "source": [
    "study_df = smoking_df.loc[study_name,:].copy()\n",
    "\n",
    "study_groups = multiIndex_variablesDict.loc[study_name, \"varName\"]\\\n",
    ".reset_index(1, drop=False)\\\n",
    ".reset_index(drop=True)\\\n",
    ".set_index(\"varName\")\n",
    "study_groups.columns = [\"grouping\"]\n",
    "\n",
    "study_df=study_df.join(study_groups, on=\"variable\")\n",
    "study_df = study_df.set_index(\"grouping\", drop=True)"
   ]
  },
  {
   "cell_type": "code",
   "execution_count": null,
   "metadata": {},
   "outputs": [],
   "source": [
    "manhattan_plot(study_df)"
   ]
  },
  {
   "cell_type": "markdown",
   "metadata": {},
   "source": [
    "# Antihypertensive status"
   ]
  },
  {
   "cell_type": "code",
   "execution_count": null,
   "metadata": {},
   "outputs": [],
   "source": [
    "mask_aht_medication = df_pvalues_bis[\"dependent_var\"] == \"\\\\DCC Harmonized data set\\\\05 - Blood pressure\\\\Indicator for use of antihypertensive medication at the time of blood pressure measurement.\\\\\"\n",
    "aht_medication = df_pvalues_bis.loc[mask_aht_medication,:].copy()"
   ]
  },
  {
   "cell_type": "code",
   "execution_count": null,
   "metadata": {},
   "outputs": [],
   "source": [
    "manhattan_plot(aht_medication)"
   ]
  },
  {
   "cell_type": "markdown",
   "metadata": {},
   "source": [
    "## Genetic Epidemiology Network of Arteriopathy (GENOA)"
   ]
  },
  {
   "cell_type": "code",
   "execution_count": null,
   "metadata": {},
   "outputs": [],
   "source": [
    "study_name = 'Genetic Epidemiology Network of Arteriopathy (GENOA)'"
   ]
  },
  {
   "cell_type": "code",
   "execution_count": null,
   "metadata": {},
   "outputs": [],
   "source": [
    "study_df = aht_medication.loc[study_name,:].copy()\n",
    "\n",
    "study_groups = multiIndex_variablesDict.loc[study_name, \"varName\"]\\\n",
    ".reset_index(1, drop=False)\\\n",
    ".reset_index(drop=True)\\\n",
    ".set_index(\"varName\")\n",
    "study_groups.columns = [\"grouping\"]\n",
    "\n",
    "study_df=study_df.join(study_groups, on=\"variable\")\n",
    "study_df = study_df.set_index(\"grouping\", drop=True)"
   ]
  },
  {
   "cell_type": "code",
   "execution_count": null,
   "metadata": {},
   "outputs": [],
   "source": [
    "manhattan_plot(study_df, title_plot=\"Association with Hypertension Medication\")"
   ]
  },
  {
   "cell_type": "markdown",
   "metadata": {},
   "source": [
    "## Genome-wide Association Study of Adiposity in Samoans"
   ]
  },
  {
   "cell_type": "code",
   "execution_count": null,
   "metadata": {},
   "outputs": [],
   "source": [
    "study_name = 'Genome-wide Association Study of Adiposity in Samoans'"
   ]
  },
  {
   "cell_type": "code",
   "execution_count": null,
   "metadata": {},
   "outputs": [],
   "source": [
    "study_df = aht_medication.loc[study_name,:].copy()\n",
    "\n",
    "study_groups = multiIndex_variablesDict.loc[study_name, \"varName\"]\\\n",
    ".reset_index(1, drop=False)\\\n",
    ".reset_index(drop=True)\\\n",
    ".set_index(\"varName\")\n",
    "study_groups.columns = [\"grouping\"]\n",
    "\n",
    "study_df=study_df.join(study_groups, on=\"variable\")\n",
    "study_df = study_df.set_index(\"grouping\", drop=True)"
   ]
  },
  {
   "cell_type": "code",
   "execution_count": null,
   "metadata": {},
   "outputs": [],
   "source": [
    "manhattan_plot(study_df, title_plot=\"Association with Hypertension Medication\")"
   ]
  },
  {
   "cell_type": "markdown",
   "metadata": {},
   "source": [
    "## To be improved"
   ]
  },
  {
   "cell_type": "markdown",
   "metadata": {},
   "source": [
    "- Regex on variable names to get categories (example every variable name containing stenosis, blood pressure): possibility to leverage ontologies\n",
    "- Odds Ratio\n",
    "- Defining categories in a better way \n",
    "- PheWAS using different variants\n",
    "- Grouping subcategories across studies\n",
    "- Integrating all studies\n",
    "- Better description of individual studies"
   ]
  }
 ],
 "metadata": {
  "kernelspec": {
   "display_name": "Python 3",
   "language": "python",
   "name": "python3"
  },
  "language_info": {
   "codemirror_mode": {
    "name": "ipython",
    "version": 3
   },
   "file_extension": ".py",
   "mimetype": "text/x-python",
   "name": "python",
   "nbconvert_exporter": "python",
   "pygments_lexer": "ipython3",
   "version": "3.6.4"
  }
 },
 "nbformat": 4,
 "nbformat_minor": 4
}
