{
 "cells": [
  {
   "cell_type": "markdown",
   "metadata": {},
   "source": [
    "# Phenome-Wide analysis on TOPMed studies"
   ]
  },
  {
   "cell_type": "code",
   "execution_count": null,
   "metadata": {},
   "outputs": [],
   "source": [
    "import json\n",
    "from pprint import pprint\n",
    "\n",
    "import pandas as pd\n",
    "import numpy as np \n",
    "import matplotlib.pyplot as plt\n",
    "from scipy import stats"
   ]
  },
  {
   "cell_type": "code",
   "execution_count": null,
   "metadata": {},
   "outputs": [],
   "source": [
    "# Pandas DataFrame display options\n",
    "pd.set_option(\"max.rows\", 435)\n",
    "\n",
    "# Matplotlib display parameters\n",
    "fig_size = plt.rcParams[\"figure.figsize\"]\n",
    "fig_size[0] = 14\n",
    "fig_size[1] = 8\n",
    "plt.rcParams[\"figure.figsize\"] = fig_size\n",
    "font = {'weight' : 'bold',\n",
    "        'size'   : 12}\n",
    "plt.rc('font', **font)"
   ]
  },
  {
   "cell_type": "markdown",
   "metadata": {},
   "source": [
    "# Phenome-wide analysis using Harmonized Variables"
   ]
  },
  {
   "cell_type": "code",
   "execution_count": null,
   "metadata": {},
   "outputs": [],
   "source": [
    "harmonized = pd.read_csv(\"../studies_stats/harmonized_details_stats.csv\", index_col=None)\\\n",
    ".loc[lambda df: df[\"harmonized variables\"] != \"\\\\_Consents\\\\Short Study Accession with Consent Code\\\\\",:]\n",
    "\n",
    "pd.DataFrame(harmonized[\"harmonized variables\"].str.split(\"\\\\\").to_list())\\\n",
    ".rename({2: \"category\", 3: \"variable_name\"}, axis=1)\\\n",
    ".loc[:, [\"category\", \"variable_name\"]]\\\n",
    ".join(harmonized)\\\n",
    ".loc[lambda df: ~ df[\"variable_name\"].str.startswith(\"age\"), :]"
   ]
  },
  {
   "cell_type": "markdown",
   "metadata": {},
   "source": [
    "## Harmonized Variables Info"
   ]
  },
  {
   "cell_type": "markdown",
   "metadata": {},
   "source": [
    "- Quality checking:\n",
    "    - Discarding following variables:\n",
    "        - Identifiers\n",
    "        - Only unique values / only null values\n",
    "- Variable type conversion to categorical\n",
    "- Counting non-null values to select studies"
   ]
  },
  {
   "cell_type": "code",
   "execution_count": null,
   "metadata": {},
   "outputs": [],
   "source": [
    "studies_info = pd.read_csv(\"../env_variables/studies_info.csv\")\n",
    "mask_harmonized = studies_info[\"harmonized\"] == True\n",
    "harmonized_studies_info = studies_info[mask_harmonized]"
   ]
  },
  {
   "cell_type": "code",
   "execution_count": null,
   "metadata": {},
   "outputs": [],
   "source": [
    "harmonized_studies_info"
   ]
  },
  {
   "cell_type": "markdown",
   "metadata": {},
   "source": [
    "# Results"
   ]
  },
  {
   "cell_type": "code",
   "execution_count": null,
   "metadata": {},
   "outputs": [],
   "source": [
    "pprint(studies_info.loc[studies_info[\"phs\"].isin(studies), \"official_study_name\"].values.tolist())"
   ]
  },
  {
   "cell_type": "code",
   "execution_count": null,
   "metadata": {},
   "outputs": [],
   "source": [
    "df_pvalues = pd.read_csv(\"../results/df_results/df_pvalues.csv\", usecols=[\"level_1\", \"level_2\", \"pvalues\"])\\\n",
    ".rename({\"level_1\": \"Dependent Variable Complete Name\",\n",
    "         \"level_2\": \"Independent Variable Complete Name\",\n",
    "         \"pvalues\": \"pvalue\"}, axis=1)\\\n",
    ".set_index([\"Dependent Variable Complete Name\", \"Independent Variable Complete Name\"])"
   ]
  },
  {
   "cell_type": "code",
   "execution_count": null,
   "metadata": {},
   "outputs": [],
   "source": [
    "df_params = pd.read_csv(\"../results/df_results/df_params.csv\", usecols=[\"level_1\", \"level_2\", \"level_3\", \"level_4\", \"param\"])\\\n",
    ".rename({\"level_1\": \"Dependent Variable Complete Name\",\n",
    "         \"level_2\": \"Independent Variable Complete Name\",\n",
    "         \"level_3\": \"Categorical binary variable\",\n",
    "         \"level_4\": \"indicator\",\n",
    "         \"param\": \"value\"}, axis=1)"
   ]
  },
  {
   "cell_type": "code",
   "execution_count": null,
   "metadata": {},
   "outputs": [],
   "source": [
    "adjusted_alpha = 0.05 / len(wide_df_params)"
   ]
  },
  {
   "cell_type": "code",
   "execution_count": null,
   "metadata": {},
   "outputs": [],
   "source": [
    "wide_df_params = df_params.set_index([\"Dependent Variable Complete Name\", \n",
    "                                      \"Independent Variable Complete Name\",\n",
    "                                      \"Categorical binary variable\",\n",
    "                                      \"indicator\"])\\\n",
    ".unstack(\"indicator\")\\\n",
    ".droplevel(0, axis=1)\\\n",
    ".rename({\"pvalue\": \"pvalue_subcategory\"}, axis=1)\\\n",
    ".reset_index(\"Categorical binary variable\", drop=False)"
   ]
  },
  {
   "cell_type": "code",
   "execution_count": null,
   "metadata": {},
   "outputs": [],
   "source": [
    "wide_df_params[\"Categorical binary variable\"] = wide_df_params[\"Categorical binary variable\"].str.extract(r\"((?<=\\\\)[^\\\\.]+?$)\")"
   ]
  },
  {
   "cell_type": "code",
   "execution_count": null,
   "metadata": {},
   "outputs": [],
   "source": [
    "wide_df_params[\"pos_OR\"] = np.where(wide_df_params[\"OR\"] >= 1, wide_df_params[\"OR\"], 1/wide_df_params[\"OR\"])"
   ]
  },
  {
   "cell_type": "code",
   "execution_count": null,
   "metadata": {},
   "outputs": [],
   "source": [
    "wide_df_params[[\"OR\", \"lb\", \"ub\", \"pos_OR\"]] = wide_df_params[[\"OR\", \"lb\", \"ub\", \"pos_OR\"]].round(3)"
   ]
  },
  {
   "cell_type": "code",
   "execution_count": null,
   "metadata": {},
   "outputs": [],
   "source": [
    "wide_df_params[\"OR_CI\"] = \"[\" + wide_df_params[\"lb\"].astype(\"str\") + \"; \" + wide_df_params[\"ub\"].astype(\"str\") + \"]\""
   ]
  },
  {
   "cell_type": "code",
   "execution_count": null,
   "metadata": {},
   "outputs": [],
   "source": [
    "wide_df_results = df_pvalues.join(wide_df_params, how=\"left\").reset_index(drop=False)"
   ]
  },
  {
   "cell_type": "code",
   "execution_count": null,
   "metadata": {},
   "outputs": [],
   "source": [
    "wide_df_results[\"adjusted pvalue\"] = wide_df_results[\"pvalue\"] * len(wide_df_params)\n",
    "wide_df_results[\"adjusted pvalue_subcategory\"] = wide_df_results[\"adjusted pvalue_subcategory\"] * len(wide_df_params)\n",
    "wide_df_results[\"significant\"] = wide_df_results[\"pvalue\"] < adjusted_alpha\n",
    "wide_df_results[\"adjusted alpha\"] = adjusted_alpha"
   ]
  },
  {
   "cell_type": "code",
   "execution_count": null,
   "metadata": {},
   "outputs": [],
   "source": [
    "results_formated = pd.concat([wide_df_results,\n",
    "           pd.DataFrame(\n",
    "               wide_df_results[\"Dependent Variable Complete Name\"].str.split(\"\\\\\").tolist()\n",
    "           ).loc[:, [2, 3]]\n",
    "          ], axis=1)\\\n",
    ".rename({\n",
    "    2: \"Harmonized Variable Category\",\n",
    "    3: \"Harmonized Variable Name\"\n",
    "}, axis=1)"
   ]
  },
  {
   "cell_type": "code",
   "execution_count": null,
   "metadata": {},
   "outputs": [],
   "source": [
    "variablesDict = pd.read_csv(\"../env_variables/multiIndex_variablesDict.csv\", low_memory=False)\\\n",
    "[[\"name\", \"simplified_name\", \"categoryValues\", \"observationCount\", \"categorical\", \"nb_modalities\", \"level_0\"]]\\\n",
    ".rename({\"level_0\": \"BDC study\",\n",
    "        \"simplified_name\": \"Dependent Variable Name\"}, axis=1)\\\n",
    ".set_index(\"name\")"
   ]
  },
  {
   "cell_type": "code",
   "execution_count": null,
   "metadata": {},
   "outputs": [],
   "source": [
    "variablesDict[\"categorical_ref_value\"] = variablesDict[\"categoryValues\"].str.extract(\"((?<=')[^'.]+?(?='\\]$))\")"
   ]
  },
  {
   "cell_type": "code",
   "execution_count": null,
   "metadata": {},
   "outputs": [],
   "source": [
    "results_formated = results_formated.join(variablesDict, on=\"Independent Variable Complete Name\", how=\"inner\")"
   ]
  },
  {
   "cell_type": "code",
   "execution_count": null,
   "metadata": {},
   "outputs": [],
   "source": [
    "results_formated[\n",
    "    [\"BDC study\", \n",
    "     \"Harmonized Variable Category\",\n",
    "     \"Harmonized Variable Name\",\n",
    "     \"Dependent Variable Name\",\n",
    "     \"Categorical binary variable\",\n",
    "     \"categorical_ref_value\",\n",
    "     \"pvalue\",\n",
    "     \"adjusted pvalue\", \n",
    "     \"OR\", \n",
    "     \"OR_CI\",\n",
    "     \"pvalue_subcategory\", \n",
    "     \"adjusted pvalue_subcategory\",\n",
    "     \"lb\", \"ub\", \"pos_OR\", \n",
    "     \"significant\",\n",
    "     \"Dependent Variable Complete Name\", \n",
    "     \"Independent Variable Complete Name\", \n",
    "     \"observationCount\", \"categorical\", \"nb_modalities\"]\n",
    "]\\\n",
    ".to_csv(\"../results/results_formated.csv\", index=False)"
   ]
  },
  {
   "cell_type": "markdown",
   "metadata": {},
   "source": [
    "## Plots"
   ]
  },
  {
   "cell_type": "code",
   "execution_count": null,
   "metadata": {
    "jupyter": {
     "outputs_hidden": true
    }
   },
   "outputs": [],
   "source": [
    "wide_df_params[\"OR\"].replace({np.inf: np.NaN, -np.inf: np.NaN}).dropna().loc[lambda x: x<=10].plot(kind=\"hist\", bins=100)"
   ]
  },
  {
   "cell_type": "code",
   "execution_count": null,
   "metadata": {},
   "outputs": [],
   "source": [
    "wide_df_params[\"pos_OR\"].replace({np.inf: np.NaN, -np.inf: np.NaN}).dropna().loc[lambda x: x<=50].plot(kind=\"hist\", bins=100)"
   ]
  },
  {
   "cell_type": "code",
   "execution_count": null,
   "metadata": {},
   "outputs": [],
   "source": [
    "studies = df_pvalues.loc[df_pvalues[\"pvalues\"].notnull(), \"level_0\"].unique()\n",
    "number_included_studies = len(studies)"
   ]
  },
  {
   "cell_type": "code",
   "execution_count": null,
   "metadata": {},
   "outputs": [],
   "source": [
    "print(\"Number of studies with at least one non null pvalue {}\".format(number_included_studies))"
   ]
  },
  {
   "cell_type": "code",
   "execution_count": null,
   "metadata": {},
   "outputs": [],
   "source": [
    "df_pvalues.groupby(\"level_0\").size().sort_values().reindex(studies_info.set_index(\"phs\")[\"official_study_name\"].to_dict()).dropna()"
   ]
  },
  {
   "cell_type": "code",
   "execution_count": null,
   "metadata": {},
   "outputs": [],
   "source": [
    "df_pvalues.loc[df_pvalues[\"pvalues\"].notnull(),:]"
   ]
  },
  {
   "cell_type": "code",
   "execution_count": null,
   "metadata": {},
   "outputs": [],
   "source": [
    "results_grouped = df_params.pivot_table(columns=\"level_4\", index=[\"level_0\", \"level_1\", \"level_2\"], values=\"param\")\\\n",
    ".sort_values(\"pvalue\")"
   ]
  }
 ],
 "metadata": {
  "kernelspec": {
   "display_name": "Python 3",
   "language": "python",
   "name": "python3"
  },
  "language_info": {
   "codemirror_mode": {
    "name": "ipython",
    "version": 3
   },
   "file_extension": ".py",
   "mimetype": "text/x-python",
   "name": "python",
   "nbconvert_exporter": "python",
   "pygments_lexer": "ipython3",
   "version": "3.6.4"
  }
 },
 "nbformat": 4,
 "nbformat_minor": 4
}
