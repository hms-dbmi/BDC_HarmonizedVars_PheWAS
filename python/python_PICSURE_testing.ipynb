{
 "cells": [
  {
   "cell_type": "markdown",
   "metadata": {},
   "source": [
    "# PICSURE API test notebook"
   ]
  },
  {
   "cell_type": "markdown",
   "metadata": {},
   "source": [
    "Notebook aimed at testing ongoing issues with the PIC-SURE API. Two parts, 1. Environment set-up, and 2. Ongoing issues"
   ]
  },
  {
   "cell_type": "markdown",
   "metadata": {},
   "source": [
    "# Environment set-up"
   ]
  },
  {
   "cell_type": "markdown",
   "metadata": {},
   "source": [
    "### Installation of external dependencies"
   ]
  },
  {
   "cell_type": "code",
   "execution_count": 1,
   "metadata": {},
   "outputs": [],
   "source": [
    "%load_ext autoreload\n",
    "%autoreload 2"
   ]
  },
  {
   "cell_type": "code",
   "execution_count": 2,
   "metadata": {
    "collapsed": true,
    "jupyter": {
     "outputs_hidden": true
    }
   },
   "outputs": [
    {
     "name": "stdout",
     "output_type": "stream",
     "text": [
      "Collecting git+https://github.com/hms-dbmi/pic-sure-python-adapter-hpds.git (from -r requirements.txt (line 7))\n",
      "  Cloning https://github.com/hms-dbmi/pic-sure-python-adapter-hpds.git to /private/var/folders/hm/wn0bpy0j7vl2q9gqnhhccpph0000gn/T/pip-req-build-qpjrw9d_\n",
      "  Running command git clone -q https://github.com/hms-dbmi/pic-sure-python-adapter-hpds.git /private/var/folders/hm/wn0bpy0j7vl2q9gqnhhccpph0000gn/T/pip-req-build-qpjrw9d_\n",
      "Requirement already satisfied (use --upgrade to upgrade): PicSureHpdsLib==0.9.0 from git+https://github.com/hms-dbmi/pic-sure-python-adapter-hpds.git in /Users/Arnaud/miniconda3/lib/python3.7/site-packages (from -r requirements.txt (line 7))\n",
      "Collecting git+https://github.com/hms-dbmi/pic-sure-python-client.git (from -r requirements.txt (line 8))\n",
      "  Cloning https://github.com/hms-dbmi/pic-sure-python-client.git to /private/var/folders/hm/wn0bpy0j7vl2q9gqnhhccpph0000gn/T/pip-req-build-j8gxfw5d\n",
      "  Running command git clone -q https://github.com/hms-dbmi/pic-sure-python-client.git /private/var/folders/hm/wn0bpy0j7vl2q9gqnhhccpph0000gn/T/pip-req-build-j8gxfw5d\n",
      "Requirement already satisfied (use --upgrade to upgrade): PicSureClient==0.1.0 from git+https://github.com/hms-dbmi/pic-sure-python-client.git in /Users/Arnaud/miniconda3/lib/python3.7/site-packages (from -r requirements.txt (line 8))\n",
      "Requirement already satisfied: numpy>=1.17.3 in /Users/Arnaud/miniconda3/lib/python3.7/site-packages (from -r requirements.txt (line 1)) (1.17.3)\n",
      "Requirement already satisfied: matplotlib>=3.1.1 in /Users/Arnaud/miniconda3/lib/python3.7/site-packages (from -r requirements.txt (line 2)) (3.1.1)\n",
      "Requirement already satisfied: pandas>=0.25.3 in /Users/Arnaud/miniconda3/lib/python3.7/site-packages (from -r requirements.txt (line 3)) (0.25.3)\n",
      "Requirement already satisfied: scipy>=1.3.1 in /Users/Arnaud/miniconda3/lib/python3.7/site-packages (from -r requirements.txt (line 4)) (1.3.1)\n",
      "Requirement already satisfied: tqdm>=4.38.0 in /Users/Arnaud/miniconda3/lib/python3.7/site-packages (from -r requirements.txt (line 5)) (4.38.0)\n",
      "Requirement already satisfied: statsmodels>=0.10.2 in /Users/Arnaud/miniconda3/lib/python3.7/site-packages (from -r requirements.txt (line 6)) (0.10.2)\n",
      "Requirement already satisfied: httplib2 in /Users/Arnaud/miniconda3/lib/python3.7/site-packages (from PicSureHpdsLib==0.9.0->-r requirements.txt (line 7)) (0.16.0)\n",
      "Requirement already satisfied: cycler>=0.10 in /Users/Arnaud/miniconda3/lib/python3.7/site-packages (from matplotlib>=3.1.1->-r requirements.txt (line 2)) (0.10.0)\n",
      "Requirement already satisfied: kiwisolver>=1.0.1 in /Users/Arnaud/miniconda3/lib/python3.7/site-packages (from matplotlib>=3.1.1->-r requirements.txt (line 2)) (1.1.0)\n",
      "Requirement already satisfied: pyparsing!=2.0.4,!=2.1.2,!=2.1.6,>=2.0.1 in /Users/Arnaud/miniconda3/lib/python3.7/site-packages (from matplotlib>=3.1.1->-r requirements.txt (line 2)) (2.4.5)\n",
      "Requirement already satisfied: python-dateutil>=2.1 in /Users/Arnaud/miniconda3/lib/python3.7/site-packages (from matplotlib>=3.1.1->-r requirements.txt (line 2)) (2.8.1)\n",
      "Requirement already satisfied: pytz>=2017.2 in /Users/Arnaud/miniconda3/lib/python3.7/site-packages (from pandas>=0.25.3->-r requirements.txt (line 3)) (2019.3)\n",
      "Requirement already satisfied: patsy>=0.4.0 in /Users/Arnaud/miniconda3/lib/python3.7/site-packages (from statsmodels>=0.10.2->-r requirements.txt (line 6)) (0.5.1)\n",
      "Requirement already satisfied: six in /Users/Arnaud/miniconda3/lib/python3.7/site-packages (from cycler>=0.10->matplotlib>=3.1.1->-r requirements.txt (line 2)) (1.12.0)\n",
      "Requirement already satisfied: setuptools in /Users/Arnaud/miniconda3/lib/python3.7/site-packages (from kiwisolver>=1.0.1->matplotlib>=3.1.1->-r requirements.txt (line 2)) (41.0.0)\n",
      "Building wheels for collected packages: PicSureHpdsLib, PicSureClient\n",
      "  Building wheel for PicSureHpdsLib (setup.py) ... \u001b[?25ldone\n",
      "\u001b[?25h  Created wheel for PicSureHpdsLib: filename=PicSureHpdsLib-0.9.0-py2.py3-none-any.whl size=17668 sha256=acde33b847505542b92b15b5561ad68c52b5ecca7b593c4e39f459f14c7a81b2\n",
      "  Stored in directory: /private/var/folders/hm/wn0bpy0j7vl2q9gqnhhccpph0000gn/T/pip-ephem-wheel-cache-qtz4g3k9/wheels/6c/ac/12/4d142709d83e0bdd96c661e183f2dcbb0e03f90e98e5ac256e\n",
      "  Building wheel for PicSureClient (setup.py) ... \u001b[?25ldone\n",
      "\u001b[?25h  Created wheel for PicSureClient: filename=PicSureClient-0.1.0-py2.py3-none-any.whl size=9028 sha256=deeedcba0a841ecbc2cf618c9ea43413bfe9570d5b55eba53d0d402cbaa5dfd0\n",
      "  Stored in directory: /private/var/folders/hm/wn0bpy0j7vl2q9gqnhhccpph0000gn/T/pip-ephem-wheel-cache-qtz4g3k9/wheels/b4/c1/d9/744d4e1c1ba5f0c5d847deba1a7c8f96f47d4b36c610dda114\n",
      "Successfully built PicSureHpdsLib PicSureClient\n",
      "\u001b[33mWARNING: You are using pip version 19.3.1; however, version 20.0.1 is available.\n",
      "You should consider upgrading via the 'pip install --upgrade pip' command.\u001b[0m\n"
     ]
    }
   ],
   "source": [
    "!pip install -r requirements.txt"
   ]
  },
  {
   "cell_type": "code",
   "execution_count": 3,
   "metadata": {
    "collapsed": true,
    "jupyter": {
     "outputs_hidden": true
    }
   },
   "outputs": [
    {
     "name": "stdout",
     "output_type": "stream",
     "text": [
      "Collecting git+https://github.com/hms-dbmi/pic-sure-python-adapter-hpds.git\n",
      "  Cloning https://github.com/hms-dbmi/pic-sure-python-adapter-hpds.git to /private/var/folders/hm/wn0bpy0j7vl2q9gqnhhccpph0000gn/T/pip-req-build-kizwj4hi\n",
      "  Running command git clone -q https://github.com/hms-dbmi/pic-sure-python-adapter-hpds.git /private/var/folders/hm/wn0bpy0j7vl2q9gqnhhccpph0000gn/T/pip-req-build-kizwj4hi\n",
      "Collecting httplib2\n",
      "  Using cached https://files.pythonhosted.org/packages/e3/cc/7e82cfdc417f28ae92a67493eb65a2ce8b7ced89c09d21e625556caa0f26/httplib2-0.16.0-py3-none-any.whl\n",
      "Building wheels for collected packages: PicSureHpdsLib\n",
      "  Building wheel for PicSureHpdsLib (setup.py) ... \u001b[?25ldone\n",
      "\u001b[?25h  Created wheel for PicSureHpdsLib: filename=PicSureHpdsLib-0.9.0-py2.py3-none-any.whl size=17668 sha256=c9dab710d2290c6f9fbc72a877b2ff2a96a9211b694dcf5732243c212b8fb732\n",
      "  Stored in directory: /private/var/folders/hm/wn0bpy0j7vl2q9gqnhhccpph0000gn/T/pip-ephem-wheel-cache-gdcy20b2/wheels/6c/ac/12/4d142709d83e0bdd96c661e183f2dcbb0e03f90e98e5ac256e\n",
      "Successfully built PicSureHpdsLib\n",
      "Installing collected packages: httplib2, PicSureHpdsLib\n",
      "  Found existing installation: httplib2 0.16.0\n",
      "    Uninstalling httplib2-0.16.0:\n",
      "      Successfully uninstalled httplib2-0.16.0\n",
      "  Found existing installation: PicSureHpdsLib 0.9.0\n",
      "    Uninstalling PicSureHpdsLib-0.9.0:\n",
      "      Successfully uninstalled PicSureHpdsLib-0.9.0\n",
      "Successfully installed PicSureHpdsLib-0.9.0 httplib2-0.16.0\n",
      "\u001b[33mWARNING: You are using pip version 19.3.1; however, version 20.0.1 is available.\n",
      "You should consider upgrading via the 'pip install --upgrade pip' command.\u001b[0m\n",
      "Collecting git+https://github.com/hms-dbmi/pic-sure-python-client.git\n",
      "  Cloning https://github.com/hms-dbmi/pic-sure-python-client.git to /private/var/folders/hm/wn0bpy0j7vl2q9gqnhhccpph0000gn/T/pip-req-build-nvjs542o\n",
      "  Running command git clone -q https://github.com/hms-dbmi/pic-sure-python-client.git /private/var/folders/hm/wn0bpy0j7vl2q9gqnhhccpph0000gn/T/pip-req-build-nvjs542o\n",
      "Building wheels for collected packages: PicSureClient\n",
      "  Building wheel for PicSureClient (setup.py) ... \u001b[?25ldone\n",
      "\u001b[?25h  Created wheel for PicSureClient: filename=PicSureClient-0.1.0-py2.py3-none-any.whl size=9028 sha256=1797c09e9d59462d6eaeba4a4925caf8751cb4e7ce79aed41e155bccba725130\n",
      "  Stored in directory: /private/var/folders/hm/wn0bpy0j7vl2q9gqnhhccpph0000gn/T/pip-ephem-wheel-cache-lnnw7v6h/wheels/b4/c1/d9/744d4e1c1ba5f0c5d847deba1a7c8f96f47d4b36c610dda114\n",
      "Successfully built PicSureClient\n",
      "Installing collected packages: PicSureClient\n",
      "  Found existing installation: PicSureClient 0.1.0\n",
      "    Uninstalling PicSureClient-0.1.0:\n",
      "      Successfully uninstalled PicSureClient-0.1.0\n",
      "Successfully installed PicSureClient-0.1.0\n",
      "\u001b[33mWARNING: You are using pip version 19.3.1; however, version 20.0.1 is available.\n",
      "You should consider upgrading via the 'pip install --upgrade pip' command.\u001b[0m\n"
     ]
    }
   ],
   "source": [
    "!python -m pip install --upgrade --force-reinstall git+https://github.com/hms-dbmi/pic-sure-python-adapter-hpds.git \n",
    "!python -m pip install --upgrade --force-reinstall git+https://github.com/hms-dbmi/pic-sure-python-client.git"
   ]
  },
  {
   "cell_type": "code",
   "execution_count": 5,
   "metadata": {},
   "outputs": [],
   "source": [
    "import json\n",
    "from pprint import pprint\n",
    "\n",
    "import pandas as pd\n",
    "import numpy as np \n",
    "\n",
    "import PicSureHpdsLib\n",
    "import PicSureClient\n",
    "\n",
    "from python_lib.utils import get_multiIndex_variablesDict, get_dic_renaming_vars,\\\n",
    "match_dummies_to_varNames, joining_variablesDict_onCol\n",
    "from python_lib.HPDS_connection_manager import tokenManager"
   ]
  },
  {
   "cell_type": "markdown",
   "metadata": {},
   "source": [
    "### Connecting to a PIC-SURE network"
   ]
  },
  {
   "cell_type": "markdown",
   "metadata": {},
   "source": [
    "Testing environment: BioData Catalyst "
   ]
  },
  {
   "cell_type": "code",
   "execution_count": 11,
   "metadata": {},
   "outputs": [],
   "source": [
    "PICSURE_network_URL = \"https://biodatacatalyst.integration.hms.harvard.edu/picsure\"\n",
    "resource_id = \"02e23f52-f354-4e8b-992c-d37c8b9ba140\"\n",
    "token_file = \"token.txt\""
   ]
  },
  {
   "cell_type": "code",
   "execution_count": 12,
   "metadata": {},
   "outputs": [],
   "source": [
    "with open(token_file, \"r+\") as f:\n",
    "    token = f.read()"
   ]
  },
  {
   "cell_type": "code",
   "execution_count": 13,
   "metadata": {},
   "outputs": [],
   "source": [
    "client = PicSureClient.Client()\n",
    "connection = client.connect(PICSURE_network_URL, token)\n",
    "adapter = PicSureHpdsLib.Adapter(connection)\n",
    "resource = adapter.useResource(resource_id)"
   ]
  },
  {
   "cell_type": "markdown",
   "metadata": {},
   "source": [
    "### Retrieving variables dictionary from HPDS Database"
   ]
  },
  {
   "cell_type": "markdown",
   "metadata": {},
   "source": [
    "NB: dictionary methods work alright, it just might be useful for getting variable names"
   ]
  },
  {
   "cell_type": "code",
   "execution_count": 14,
   "metadata": {},
   "outputs": [],
   "source": [
    "plain_variablesDict = resource.dictionary().find().DataFrame()\n",
    "variablesDict = get_multiIndex_variablesDict(plain_variablesDict)"
   ]
  },
  {
   "cell_type": "code",
   "execution_count": 15,
   "metadata": {
    "collapsed": true,
    "jupyter": {
     "outputs_hidden": true
    }
   },
   "outputs": [
    {
     "data": {
      "text/html": [
       "<div>\n",
       "<style scoped>\n",
       "    .dataframe tbody tr th:only-of-type {\n",
       "        vertical-align: middle;\n",
       "    }\n",
       "\n",
       "    .dataframe tbody tr th {\n",
       "        vertical-align: top;\n",
       "    }\n",
       "\n",
       "    .dataframe thead th {\n",
       "        text-align: right;\n",
       "    }\n",
       "</style>\n",
       "<table border=\"1\" class=\"dataframe\">\n",
       "  <thead>\n",
       "    <tr style=\"text-align: right;\">\n",
       "      <th></th>\n",
       "      <th>min</th>\n",
       "      <th>categorical</th>\n",
       "      <th>observationCount</th>\n",
       "      <th>patientCount</th>\n",
       "      <th>max</th>\n",
       "      <th>HpdsDataType</th>\n",
       "      <th>categoryValues</th>\n",
       "    </tr>\n",
       "    <tr>\n",
       "      <th>KEY</th>\n",
       "      <th></th>\n",
       "      <th></th>\n",
       "      <th></th>\n",
       "      <th></th>\n",
       "      <th></th>\n",
       "      <th></th>\n",
       "      <th></th>\n",
       "    </tr>\n",
       "  </thead>\n",
       "  <tbody>\n",
       "    <tr>\n",
       "      <th>\\Framingham Cohort\\Tests\\Pulmonary Function Tests\\Pulmonary Function Diffusion Test, New Offspring Spouse and Omni 2, Exam 1. Spirometry and diffusing capacity were collected in accordance with contemporaneous American Thoracic Society standards for the measurement of lung function.\\Study Date\\</th>\n",
       "      <td>0.000</td>\n",
       "      <td>False</td>\n",
       "      <td>362</td>\n",
       "      <td>362</td>\n",
       "      <td>12.000</td>\n",
       "      <td>phenotypes</td>\n",
       "      <td>None</td>\n",
       "    </tr>\n",
       "    <tr>\n",
       "      <th>\\Atherosclerosis Risk in Communities (ARIC) Cohort\\Subject Phenotype\\Cohort Exam\\ECG\\ECG Data\\Exam 3\\Sociodemography and Administration\\Major1: [Complete/Intermittent LBBB, Complete/Intermittent RBBB, Complete/Intermittent RBBB w/ Left A, Nonspecific Intraventricular Block] [ECG data, exam 3]\\</th>\n",
       "      <td>NaN</td>\n",
       "      <td>True</td>\n",
       "      <td>489</td>\n",
       "      <td>489</td>\n",
       "      <td>NaN</td>\n",
       "      <td>phenotypes</td>\n",
       "      <td>[Complete/Intermittent LBBB, Complete/Intermit...</td>\n",
       "    </tr>\n",
       "    <tr>\n",
       "      <th>\\Atherosclerosis Risk in Communities (ARIC) Cohort\\Subject Phenotype\\Cohort Exam\\Retinal\\Retinal Vessel Measurements\\Exam 3\\RIP\\RIPX92 [Retinal Vessel Measurements, exam 3]\\</th>\n",
       "      <td>0.566</td>\n",
       "      <td>False</td>\n",
       "      <td>10351</td>\n",
       "      <td>10351</td>\n",
       "      <td>1.218</td>\n",
       "      <td>phenotypes</td>\n",
       "      <td>None</td>\n",
       "    </tr>\n",
       "    <tr>\n",
       "      <th>\\Atherosclerosis Risk in Communities (ARIC) Cohort\\Subject Phenotype\\Cohort Exam\\Retinal\\Retinal Vessel Measurements\\Exam 3\\Arteriole\\Arteriole 15 [Retinal Vessel Measurements, exam 3]\\</th>\n",
       "      <td>27.000</td>\n",
       "      <td>False</td>\n",
       "      <td>211</td>\n",
       "      <td>211</td>\n",
       "      <td>108.000</td>\n",
       "      <td>phenotypes</td>\n",
       "      <td>None</td>\n",
       "    </tr>\n",
       "    <tr>\n",
       "      <th>\\Cardiovascular Health Study (CHS) Cohort\\BASE1\\Psychological and Psychiatric Observations\\Life Events\\FELT EVERYTHING DONE WAS EFFORT\\</th>\n",
       "      <td>NaN</td>\n",
       "      <td>True</td>\n",
       "      <td>4753</td>\n",
       "      <td>4753</td>\n",
       "      <td>NaN</td>\n",
       "      <td>phenotypes</td>\n",
       "      <td>[A MODERATE AMOUNT OF TIME(3 TO 4 DAYS), MOST ...</td>\n",
       "    </tr>\n",
       "    <tr>\n",
       "      <th>...</th>\n",
       "      <td>...</td>\n",
       "      <td>...</td>\n",
       "      <td>...</td>\n",
       "      <td>...</td>\n",
       "      <td>...</td>\n",
       "      <td>...</td>\n",
       "      <td>...</td>\n",
       "    </tr>\n",
       "    <tr>\n",
       "      <th>\\Genome-wide Association Study of Adiposity in Samoans\\Lifestyle and Environment\\Smoking Status\\Do you use smokeless tobacco?\\</th>\n",
       "      <td>NaN</td>\n",
       "      <td>True</td>\n",
       "      <td>3502</td>\n",
       "      <td>3502</td>\n",
       "      <td>NaN</td>\n",
       "      <td>phenotypes</td>\n",
       "      <td>[No, Smokeless_tobacco_use, Yes, missing value]</td>\n",
       "    </tr>\n",
       "    <tr>\n",
       "      <th>\\The Jackson Heart Study (JHS)\\Subject Phenotype\\Renal Disease\\Renal Disease Form, RDF. Version B\\Visit 9\\Q2. Have You Ever Been Told by a Health Care Provider That You Had\\Q2d. Have you ever been told by a health care provider that you had: autoimmune disease, such as lupus? [Visit 9] [Renal Disease Form, RDF]\\</th>\n",
       "      <td>NaN</td>\n",
       "      <td>True</td>\n",
       "      <td>1599</td>\n",
       "      <td>1599</td>\n",
       "      <td>NaN</td>\n",
       "      <td>phenotypes</td>\n",
       "      <td>[Don't Know, No, Yes]</td>\n",
       "    </tr>\n",
       "    <tr>\n",
       "      <th>\\Atherosclerosis Risk in Communities (ARIC) Cohort\\Subject Phenotype\\Cohort Exam\\Sleep Heart Health Study Form\\EMG\\Chin EMG signal quality (hours of signal most free from artifact)\\</th>\n",
       "      <td>1.000</td>\n",
       "      <td>False</td>\n",
       "      <td>1820</td>\n",
       "      <td>1820</td>\n",
       "      <td>4.000</td>\n",
       "      <td>phenotypes</td>\n",
       "      <td>None</td>\n",
       "    </tr>\n",
       "    <tr>\n",
       "      <th>\\NHLBI Cleveland Family Study (CFS) Candidate Gene Association Resource (CARe)\\CFS - Phenotype Data\\FAMILY15_LAD_LONG_Data\\Medical History\\Medical History - Subjects\\Sleep Associated Variables\\Bedpartner's Observations\\Talks in sleep at night (Bed Partner)\\</th>\n",
       "      <td>-2.000</td>\n",
       "      <td>False</td>\n",
       "      <td>22</td>\n",
       "      <td>22</td>\n",
       "      <td>999.000</td>\n",
       "      <td>phenotypes</td>\n",
       "      <td>None</td>\n",
       "    </tr>\n",
       "    <tr>\n",
       "      <th>\\Atherosclerosis Risk in Communities (ARIC) Cohort\\Subject Phenotype\\Cohort Exam\\Medication Survey Form, MSR\\Visit 3\\Medication Records\\[Medication records]. Medication name and concentration. Q15a [Medication Survey Form, exam 3]\\</th>\n",
       "      <td>NaN</td>\n",
       "      <td>True</td>\n",
       "      <td>1</td>\n",
       "      <td>1</td>\n",
       "      <td>NaN</td>\n",
       "      <td>phenotypes</td>\n",
       "      <td>[MD CHELATED ZINC 60 MG]</td>\n",
       "    </tr>\n",
       "  </tbody>\n",
       "</table>\n",
       "<p>48459 rows × 7 columns</p>\n",
       "</div>"
      ],
      "text/plain": [
       "                                                       min  categorical  \\\n",
       "KEY                                                                       \n",
       "\\Framingham Cohort\\Tests\\Pulmonary Function Tes...   0.000        False   \n",
       "\\Atherosclerosis Risk in Communities (ARIC) Coh...     NaN         True   \n",
       "\\Atherosclerosis Risk in Communities (ARIC) Coh...   0.566        False   \n",
       "\\Atherosclerosis Risk in Communities (ARIC) Coh...  27.000        False   \n",
       "\\Cardiovascular Health Study (CHS) Cohort\\BASE1...     NaN         True   \n",
       "...                                                    ...          ...   \n",
       "\\Genome-wide Association Study of Adiposity in ...     NaN         True   \n",
       "\\The Jackson Heart Study (JHS)\\Subject Phenotyp...     NaN         True   \n",
       "\\Atherosclerosis Risk in Communities (ARIC) Coh...   1.000        False   \n",
       "\\NHLBI Cleveland Family Study (CFS) Candidate G...  -2.000        False   \n",
       "\\Atherosclerosis Risk in Communities (ARIC) Coh...     NaN         True   \n",
       "\n",
       "                                                    observationCount  \\\n",
       "KEY                                                                    \n",
       "\\Framingham Cohort\\Tests\\Pulmonary Function Tes...               362   \n",
       "\\Atherosclerosis Risk in Communities (ARIC) Coh...               489   \n",
       "\\Atherosclerosis Risk in Communities (ARIC) Coh...             10351   \n",
       "\\Atherosclerosis Risk in Communities (ARIC) Coh...               211   \n",
       "\\Cardiovascular Health Study (CHS) Cohort\\BASE1...              4753   \n",
       "...                                                              ...   \n",
       "\\Genome-wide Association Study of Adiposity in ...              3502   \n",
       "\\The Jackson Heart Study (JHS)\\Subject Phenotyp...              1599   \n",
       "\\Atherosclerosis Risk in Communities (ARIC) Coh...              1820   \n",
       "\\NHLBI Cleveland Family Study (CFS) Candidate G...                22   \n",
       "\\Atherosclerosis Risk in Communities (ARIC) Coh...                 1   \n",
       "\n",
       "                                                    patientCount      max  \\\n",
       "KEY                                                                         \n",
       "\\Framingham Cohort\\Tests\\Pulmonary Function Tes...           362   12.000   \n",
       "\\Atherosclerosis Risk in Communities (ARIC) Coh...           489      NaN   \n",
       "\\Atherosclerosis Risk in Communities (ARIC) Coh...         10351    1.218   \n",
       "\\Atherosclerosis Risk in Communities (ARIC) Coh...           211  108.000   \n",
       "\\Cardiovascular Health Study (CHS) Cohort\\BASE1...          4753      NaN   \n",
       "...                                                          ...      ...   \n",
       "\\Genome-wide Association Study of Adiposity in ...          3502      NaN   \n",
       "\\The Jackson Heart Study (JHS)\\Subject Phenotyp...          1599      NaN   \n",
       "\\Atherosclerosis Risk in Communities (ARIC) Coh...          1820    4.000   \n",
       "\\NHLBI Cleveland Family Study (CFS) Candidate G...            22  999.000   \n",
       "\\Atherosclerosis Risk in Communities (ARIC) Coh...             1      NaN   \n",
       "\n",
       "                                                   HpdsDataType  \\\n",
       "KEY                                                               \n",
       "\\Framingham Cohort\\Tests\\Pulmonary Function Tes...   phenotypes   \n",
       "\\Atherosclerosis Risk in Communities (ARIC) Coh...   phenotypes   \n",
       "\\Atherosclerosis Risk in Communities (ARIC) Coh...   phenotypes   \n",
       "\\Atherosclerosis Risk in Communities (ARIC) Coh...   phenotypes   \n",
       "\\Cardiovascular Health Study (CHS) Cohort\\BASE1...   phenotypes   \n",
       "...                                                         ...   \n",
       "\\Genome-wide Association Study of Adiposity in ...   phenotypes   \n",
       "\\The Jackson Heart Study (JHS)\\Subject Phenotyp...   phenotypes   \n",
       "\\Atherosclerosis Risk in Communities (ARIC) Coh...   phenotypes   \n",
       "\\NHLBI Cleveland Family Study (CFS) Candidate G...   phenotypes   \n",
       "\\Atherosclerosis Risk in Communities (ARIC) Coh...   phenotypes   \n",
       "\n",
       "                                                                                       categoryValues  \n",
       "KEY                                                                                                    \n",
       "\\Framingham Cohort\\Tests\\Pulmonary Function Tes...                                               None  \n",
       "\\Atherosclerosis Risk in Communities (ARIC) Coh...  [Complete/Intermittent LBBB, Complete/Intermit...  \n",
       "\\Atherosclerosis Risk in Communities (ARIC) Coh...                                               None  \n",
       "\\Atherosclerosis Risk in Communities (ARIC) Coh...                                               None  \n",
       "\\Cardiovascular Health Study (CHS) Cohort\\BASE1...  [A MODERATE AMOUNT OF TIME(3 TO 4 DAYS), MOST ...  \n",
       "...                                                                                               ...  \n",
       "\\Genome-wide Association Study of Adiposity in ...    [No, Smokeless_tobacco_use, Yes, missing value]  \n",
       "\\The Jackson Heart Study (JHS)\\Subject Phenotyp...                              [Don't Know, No, Yes]  \n",
       "\\Atherosclerosis Risk in Communities (ARIC) Coh...                                               None  \n",
       "\\NHLBI Cleveland Family Study (CFS) Candidate G...                                               None  \n",
       "\\Atherosclerosis Risk in Communities (ARIC) Coh...                           [MD CHELATED ZINC 60 MG]  \n",
       "\n",
       "[48459 rows x 7 columns]"
      ]
     },
     "execution_count": 15,
     "metadata": {},
     "output_type": "execute_result"
    }
   ],
   "source": [
    "plain_variablesDict"
   ]
  },
  {
   "cell_type": "code",
   "execution_count": 16,
   "metadata": {},
   "outputs": [],
   "source": [
    "bmi_harmonized = \"\\\\DCC Harmonized data set\\\\03 - Baseline common covariates\\\\Body mass index calculated at baseline.\\\\\"\n",
    "random_variables = plain_variablesDict.index[6:10]"
   ]
  },
  {
   "cell_type": "code",
   "execution_count": 18,
   "metadata": {},
   "outputs": [
    {
     "data": {
      "text/plain": [
       "'{\"query\": {\"fields\": [], \"crossCountFields\": [], \"requiredFields\": [], \"anyRecordOf\": [], \"numericFilters\": {\"\\\\\\\\DCC Harmonized data set\\\\\\\\03 - Baseline common covariates\\\\\\\\Body mass index calculated at baseline.\\\\\\\\\": {}}, \"categoryFilters\": {}, \"variantInfoFilters\": [{\"categoryVariantInfoFilters\": {}}, {\"numericVariantInfoFilters\": {}}]}, \"resourceUUID\": \"02e23f52-f354-4e8b-992c-d37c8b9ba140\"}'"
      ]
     },
     "execution_count": 18,
     "metadata": {},
     "output_type": "execute_result"
    }
   ],
   "source": [
    "query = resource.query()\n",
    "query.filter().add(bmi_harmonized, 10.5, 11)\n",
    "query.getQueryCommand()"
   ]
  },
  {
   "cell_type": "code",
   "execution_count": 19,
   "metadata": {},
   "outputs": [
    {
     "data": {
      "text/plain": [
       "{'\\\\DCC Harmonized data set\\\\03 - Baseline common covariates\\\\Body mass index calculated at baseline.\\\\': {'type': 'minmax',\n",
       "  'HpdsDataType': 'phenotypes'}}"
      ]
     },
     "execution_count": 19,
     "metadata": {},
     "output_type": "execute_result"
    }
   ],
   "source": [
    "query._lstFilter.data"
   ]
  },
  {
   "cell_type": "code",
   "execution_count": 33,
   "metadata": {},
   "outputs": [],
   "source": [
    "query = resource.query()\n",
    "query.select().add(bmi_harmonized)\n",
    "facts = query.getResultsDataFrame()"
   ]
  },
  {
   "cell_type": "code",
   "execution_count": 34,
   "metadata": {},
   "outputs": [
    {
     "data": {
      "text/plain": [
       "True     231159\n",
       "False     88883\n",
       "Name: \\DCC Harmonized data set\\03 - Baseline common covariates\\Body mass index calculated at baseline.\\, dtype: int64"
      ]
     },
     "execution_count": 34,
     "metadata": {},
     "output_type": "execute_result"
    }
   ],
   "source": [
    "facts[bmi_harmonized].notnull().value_counts()"
   ]
  },
  {
   "cell_type": "code",
   "execution_count": 35,
   "metadata": {},
   "outputs": [
    {
     "data": {
      "text/plain": [
       "True     230917\n",
       "False     89125\n",
       "Name: \\DCC Harmonized data set\\03 - Baseline common covariates\\Body mass index calculated at baseline.\\, dtype: int64"
      ]
     },
     "execution_count": 35,
     "metadata": {},
     "output_type": "execute_result"
    }
   ],
   "source": [
    "facts[bmi_harmonized].replace({0: np.NaN}).notnull().value_counts()"
   ]
  },
  {
   "cell_type": "code",
   "execution_count": 36,
   "metadata": {},
   "outputs": [],
   "source": [
    "mask_0 = facts[bmi_harmonized] == 0\n",
    "patient_id = facts.loc[mask_0,\"Patient ID\"]"
   ]
  },
  {
   "cell_type": "code",
   "execution_count": 37,
   "metadata": {},
   "outputs": [],
   "source": [
    "patient_id.to_csv(\"patient_id_zero.csv\", header=True, index=False)"
   ]
  },
  {
   "cell_type": "markdown",
   "metadata": {},
   "source": [
    "# Errors reproduction"
   ]
  },
  {
   "cell_type": "markdown",
   "metadata": {},
   "source": [
    "## Issue 1: query.anyof.add() → HTTP Error "
   ]
  },
  {
   "cell_type": "markdown",
   "metadata": {},
   "source": [
    "query method `anyof` is throwing HTTP Error, although other query methods work fine (`select`, `add`, `filter`)"
   ]
  },
  {
   "cell_type": "code",
   "execution_count": 27,
   "metadata": {},
   "outputs": [
    {
     "name": "stdout",
     "output_type": "stream",
     "text": [
      "Index(['\\NHLBI TOPMed: Diabetes Heart Study (DHS) African American Coronary Artery Calcification (AA CAC)\\Physical Observations\\Body mass index\\',\n",
      "       '\\NHLBI TOPMed: Novel Risk Factors for the Development of Atrial Fibrillation in Women\\Physical Observations\\Body mass index\\',\n",
      "       '\\NHLBI TOPMed: Boston Early-Onset COPD Study in the TOPMed Program\\Subject Phenotype\\Physical Observations\\Body Mass Index [BMI ]\\',\n",
      "       '\\The Jackson Heart Study (JHS)\\Subject Phenotype\\Analysis\\Analysis1\\Visit 1\\BMI/Height/Weight/Waist Circumference/Hip Circumference/Body Surface Area\\Body Surface Area\\Body Mass Index (kg/m^2) [Visit 1]\\'],\n",
      "      dtype='object', name='KEY')\n"
     ]
    }
   ],
   "source": [
    "print(random_variables)"
   ]
  },
  {
   "cell_type": "code",
   "execution_count": 24,
   "metadata": {},
   "outputs": [],
   "source": [
    "query = resource.query()\n",
    "query.anyof().add(random_variables)\n",
    "facts_anyof = query.getResultsDataFrame()"
   ]
  },
  {
   "cell_type": "code",
   "execution_count": 25,
   "metadata": {},
   "outputs": [
    {
     "data": {
      "text/plain": [
       "(2871, 1)"
      ]
     },
     "execution_count": 25,
     "metadata": {},
     "output_type": "execute_result"
    }
   ],
   "source": [
    "facts_anyof.shape"
   ]
  },
  {
   "cell_type": "code",
   "execution_count": 26,
   "metadata": {},
   "outputs": [
    {
     "data": {
      "text/html": [
       "<div>\n",
       "<style scoped>\n",
       "    .dataframe tbody tr th:only-of-type {\n",
       "        vertical-align: middle;\n",
       "    }\n",
       "\n",
       "    .dataframe tbody tr th {\n",
       "        vertical-align: top;\n",
       "    }\n",
       "\n",
       "    .dataframe thead th {\n",
       "        text-align: right;\n",
       "    }\n",
       "</style>\n",
       "<table border=\"1\" class=\"dataframe\">\n",
       "  <thead>\n",
       "    <tr style=\"text-align: right;\">\n",
       "      <th></th>\n",
       "      <th>Patient ID</th>\n",
       "    </tr>\n",
       "  </thead>\n",
       "  <tbody>\n",
       "    <tr>\n",
       "      <th>0</th>\n",
       "      <td>51578</td>\n",
       "    </tr>\n",
       "    <tr>\n",
       "      <th>1</th>\n",
       "      <td>51579</td>\n",
       "    </tr>\n",
       "    <tr>\n",
       "      <th>2</th>\n",
       "      <td>51580</td>\n",
       "    </tr>\n",
       "    <tr>\n",
       "      <th>3</th>\n",
       "      <td>51582</td>\n",
       "    </tr>\n",
       "    <tr>\n",
       "      <th>4</th>\n",
       "      <td>51583</td>\n",
       "    </tr>\n",
       "  </tbody>\n",
       "</table>\n",
       "</div>"
      ],
      "text/plain": [
       "   Patient ID\n",
       "0       51578\n",
       "1       51579\n",
       "2       51580\n",
       "3       51582\n",
       "4       51583"
      ]
     },
     "execution_count": 26,
     "metadata": {},
     "output_type": "execute_result"
    }
   ],
   "source": [
    "facts_anyof.head()"
   ]
  },
  {
   "cell_type": "code",
   "execution_count": 30,
   "metadata": {},
   "outputs": [
    {
     "name": "stdout",
     "output_type": "stream",
     "text": [
      ".__________[ Query.select()  has NO SELECTIONS ]____________________________________________________________________________________________________________\n",
      ".__________[ Query.crosscounts()  has NO SELECTIONS ]_______________________________________________________________________________________________________\n",
      ".__________[ Query.require() has NO SELECTIONS ]____________________________________________________________________________________________________________\n",
      ".__________[ Query.anyof()  Settings ]______________________________________________________________________________________________________________________\n",
      "| _key__________________________________________________________________________________________________________________________\n",
      "|  \\\\NHLBI TOPMed: Diabetes Heart Study (DHS) African American Coronary Artery Calcification (AA CAC)\\\\Physical Observations\\\\Body mass index\\\\ |\n",
      "|  \\\\NHLBI TOPMed: Novel Risk Factors for the Development of Atrial Fibrillation in Women\\\\Physical Observations\\\\Body mass index\\\\ |\n",
      "|  \\\\NHLBI TOPMed: Boston Early-Onset COPD Study in the TOPMed Program\\\\Subject Phenotype\\\\Physical Observations\\\\Body Mass Index [BMI ]\\\\ |\n",
      "|  \\\\The Jackson Heart Study (JHS)\\\\Subject Phenotype\\\\Analysis\\\\Analysis1\\\\Visit 1\\\\BMI/Height/Weight/Waist Circumference/Hip Circumference/Body Surface Area\\\\Body Surface Area\\\\Body Mass Index (kg/m^2) [Visit 1]\\\\ |\n",
      ".__________[ Query.filter()  has NO SELECTIONS ]____________________________________________________________________________________________________________\n"
     ]
    }
   ],
   "source": [
    "query.show()"
   ]
  },
  {
   "cell_type": "markdown",
   "metadata": {},
   "source": [
    "##### `select`, `add`, `filter`: work alright, just for information"
   ]
  },
  {
   "cell_type": "code",
   "execution_count": null,
   "metadata": {},
   "outputs": [],
   "source": [
    "query = resource.query()\n",
    "query.require().add(random_variable_name)\n",
    "facts_require = query.getResultsDataFrame()"
   ]
  },
  {
   "cell_type": "code",
   "execution_count": null,
   "metadata": {},
   "outputs": [],
   "source": [
    "facts_require.shape"
   ]
  },
  {
   "cell_type": "code",
   "execution_count": null,
   "metadata": {},
   "outputs": [],
   "source": [
    "facts_require.head()"
   ]
  },
  {
   "cell_type": "code",
   "execution_count": null,
   "metadata": {},
   "outputs": [],
   "source": [
    "query = resource.query()\n",
    "query.select().add(random_variable_name)\n",
    "facts_select = query.getResultsDataFrame()"
   ]
  },
  {
   "cell_type": "code",
   "execution_count": null,
   "metadata": {},
   "outputs": [],
   "source": [
    "facts_select.shape"
   ]
  },
  {
   "cell_type": "code",
   "execution_count": null,
   "metadata": {},
   "outputs": [],
   "source": [
    "facts_select.head()"
   ]
  },
  {
   "cell_type": "code",
   "execution_count": null,
   "metadata": {},
   "outputs": [],
   "source": [
    "query = resource.query()\n",
    "query.filter().add(random_variable_name, 10, 100)\n",
    "facts_filter = query.getResultsDataFrame()"
   ]
  },
  {
   "cell_type": "code",
   "execution_count": null,
   "metadata": {},
   "outputs": [],
   "source": [
    "facts_filter.shape"
   ]
  },
  {
   "cell_type": "code",
   "execution_count": null,
   "metadata": {},
   "outputs": [],
   "source": [
    "facts_filter.head()"
   ]
  },
  {
   "cell_type": "markdown",
   "metadata": {},
   "source": [
    "## Issue 2: connection.list() → TypeError"
   ]
  },
  {
   "cell_type": "markdown",
   "metadata": {},
   "source": [
    "On a less important topic (from the point of view of an end-user at least), `\n",
    "PicSureClient.Client().connect().list()` method is not working.\n",
    "\n",
    "Specific to python API"
   ]
  },
  {
   "cell_type": "code",
   "execution_count": null,
   "metadata": {},
   "outputs": [],
   "source": [
    "connection.list()"
   ]
  },
  {
   "cell_type": "markdown",
   "metadata": {},
   "source": [
    "### Issue 4: Count of non-null values by the dictionary "
   ]
  },
  {
   "cell_type": "markdown",
   "metadata": {},
   "source": [
    "### Issue 5: Categorical type of variables in variable dictionary is sometimes not accurate"
   ]
  },
  {
   "cell_type": "markdown",
   "metadata": {},
   "source": [
    "### Issues with Dictionary "
   ]
  },
  {
   "cell_type": "markdown",
   "metadata": {},
   "source": [
    "1. Some counts are not accurate:\n",
    "    - see '\\\\_Consents\\\\Short Study Accession with Consent Code\\\\'\n",
    "2. Datatype are not accurate: continuous instead of categorical and things like that. Maybe reformat to numerical/string\n",
    "3. Null values counted as real ones\n",
    "    - See snippet on \n",
    "4. Information on some studies missing\n",
    "    - "
   ]
  },
  {
   "cell_type": "markdown",
   "metadata": {},
   "source": [
    "# Allowing the API to query based on the output of the UI"
   ]
  },
  {
   "cell_type": "markdown",
   "metadata": {},
   "source": [
    "# Enabling dictionary to search for multiple different strings"
   ]
  },
  {
   "cell_type": "markdown",
   "metadata": {},
   "source": [
    "## Adding the possibility to filter on a value using regex"
   ]
  },
  {
   "cell_type": "markdown",
   "metadata": {},
   "source": [
    "# Dictionary should return the same columns, regardless of the type of variables queried\n",
    "For the sake of combination of different dictionaries. Currently, different columns are returned if dictionary contain only continuous or categorical variables"
   ]
  },
  {
   "cell_type": "markdown",
   "metadata": {},
   "source": [
    "# Missing studies in the dictionary \n",
    "- Two studies variables are not present in the dictionary, hence it prevent from querying the dictionary"
   ]
  },
  {
   "cell_type": "markdown",
   "metadata": {},
   "source": [
    "### Testing the connection object once it is created"
   ]
  },
  {
   "cell_type": "markdown",
   "metadata": {},
   "source": [
    "## Changing the way to get query results, making it look more like R implementation"
   ]
  },
  {
   "cell_type": "code",
   "execution_count": null,
   "metadata": {},
   "outputs": [],
   "source": []
  }
 ],
 "metadata": {
  "kernelspec": {
   "display_name": "Python 3.6",
   "language": "python",
   "name": "dbmi_jupyterhub"
  },
  "language_info": {
   "codemirror_mode": {
    "name": "ipython",
    "version": 3
   },
   "file_extension": ".py",
   "mimetype": "text/x-python",
   "name": "python",
   "nbconvert_exporter": "python",
   "pygments_lexer": "ipython3",
   "version": "3.6.9"
  },
  "toc-autonumbering": false,
  "toc-showcode": false,
  "toc-showmarkdowntxt": false,
  "toc-showtags": false
 },
 "nbformat": 4,
 "nbformat_minor": 4
}
